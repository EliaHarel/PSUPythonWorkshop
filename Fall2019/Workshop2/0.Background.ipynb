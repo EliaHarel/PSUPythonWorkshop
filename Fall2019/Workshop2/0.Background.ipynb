{
 "cells": [
  {
   "cell_type": "markdown",
   "metadata": {},
   "source": [
    "# Module Installations"
   ]
  },
  {
   "cell_type": "markdown",
   "metadata": {},
   "source": [
    "We need to install the modules we use for our notebook examples. \n",
    "* For each package run the cell - this will try to import the package\n",
    "* If you get an error, uncomment (delete the #) and run the next cell\n",
    "* You may need to do this multiple times for subpackages\n",
    "* Ignore any pip version errors\n",
    "* If you are running locally, you may need to use pip3.6 or pip3.7 if you originally installed anaconda with python 2"
   ]
  },
  {
   "cell_type": "markdown",
   "metadata": {},
   "source": [
    "## Matplotlib"
   ]
  },
  {
   "cell_type": "code",
   "execution_count": 1,
   "metadata": {},
   "outputs": [],
   "source": [
    "import matplotlib as mpl\n",
    "# If this gives an error, uncomment and run the next cell"
   ]
  },
  {
   "cell_type": "code",
   "execution_count": 2,
   "metadata": {},
   "outputs": [],
   "source": [
    "#!pip install matplotlib --user"
   ]
  },
  {
   "cell_type": "markdown",
   "metadata": {},
   "source": [
    "## Numpy"
   ]
  },
  {
   "cell_type": "code",
   "execution_count": 3,
   "metadata": {},
   "outputs": [],
   "source": [
    "import numpy as np\n",
    "# If this gives an error, uncomment and run the next cell"
   ]
  },
  {
   "cell_type": "code",
   "execution_count": 4,
   "metadata": {},
   "outputs": [],
   "source": [
    "#!pip install numpy --user"
   ]
  },
  {
   "cell_type": "markdown",
   "metadata": {},
   "source": [
    "## Plotly"
   ]
  },
  {
   "cell_type": "code",
   "execution_count": 5,
   "metadata": {},
   "outputs": [
    {
     "ename": "ModuleNotFoundError",
     "evalue": "No module named 'plotly'",
     "output_type": "error",
     "traceback": [
      "\u001b[1;31m---------------------------------------------------------------------------\u001b[0m",
      "\u001b[1;31mModuleNotFoundError\u001b[0m                       Traceback (most recent call last)",
      "\u001b[1;32m<ipython-input-5-28752d5c551a>\u001b[0m in \u001b[0;36m<module>\u001b[1;34m\u001b[0m\n\u001b[1;32m----> 1\u001b[1;33m \u001b[1;32mimport\u001b[0m \u001b[0mplotly\u001b[0m \u001b[1;32mas\u001b[0m \u001b[0mply\u001b[0m\u001b[1;33m\u001b[0m\u001b[1;33m\u001b[0m\u001b[0m\n\u001b[0m\u001b[0;32m      2\u001b[0m \u001b[1;31m# If this gives an error, uncomment and run the next cell\u001b[0m\u001b[1;33m\u001b[0m\u001b[1;33m\u001b[0m\u001b[1;33m\u001b[0m\u001b[0m\n",
      "\u001b[1;31mModuleNotFoundError\u001b[0m: No module named 'plotly'"
     ]
    }
   ],
   "source": [
    "import plotly as ply\n",
    "# If this gives an error, uncomment and run the next cell"
   ]
  },
  {
   "cell_type": "code",
   "execution_count": 6,
   "metadata": {},
   "outputs": [
    {
     "name": "stdout",
     "output_type": "stream",
     "text": [
      "Collecting plotly\n",
      "  Downloading https://files.pythonhosted.org/packages/cb/86/a17da587f3c52d58970d3262ed599859f879e2c728b42fe1c1c2aeb61310/plotly-4.2.0-py2.py3-none-any.whl (7.2MB)\n",
      "Requirement already satisfied: six in c:\\users\\pmd19\\appdata\\local\\continuum\\anaconda3\\lib\\site-packages (from plotly) (1.12.0)\n",
      "Collecting retrying>=1.3.3 (from plotly)\n",
      "  Downloading https://files.pythonhosted.org/packages/44/ef/beae4b4ef80902f22e3af073397f079c96969c69b2c7d52a57ea9ae61c9d/retrying-1.3.3.tar.gz\n",
      "Building wheels for collected packages: retrying\n",
      "  Building wheel for retrying (setup.py): started\n",
      "  Building wheel for retrying (setup.py): finished with status 'done'\n",
      "  Stored in directory: C:\\Users\\pmd19\\AppData\\Local\\pip\\Cache\\wheels\\d7\\a9\\33\\acc7b709e2a35caa7d4cae442f6fe6fbf2c43f80823d46460c\n",
      "Successfully built retrying\n",
      "Installing collected packages: retrying, plotly\n",
      "Successfully installed plotly-4.2.0 retrying-1.3.3\n"
     ]
    }
   ],
   "source": [
    "!pip install plotly --user"
   ]
  },
  {
   "cell_type": "markdown",
   "metadata": {},
   "source": [
    "## Altair"
   ]
  },
  {
   "cell_type": "code",
   "execution_count": null,
   "metadata": {},
   "outputs": [],
   "source": [
    "import altair as alt\n",
    "# If this gives an error, uncomment and run the next cell"
   ]
  },
  {
   "cell_type": "code",
   "execution_count": 7,
   "metadata": {},
   "outputs": [
    {
     "name": "stdout",
     "output_type": "stream",
     "text": [
      "Collecting altair\n",
      "  Downloading https://files.pythonhosted.org/packages/34/24/3e50e226a79db1bb1427bf8c58cc4dc7c2f74c39b728af005f4b11d1760c/altair-3.2.0-py2.py3-none-any.whl (596kB)\n",
      "Requirement already satisfied, skipping upgrade: jsonschema in c:\\users\\pmd19\\appdata\\local\\continuum\\anaconda3\\lib\\site-packages (from altair) (3.0.1)\n",
      "Requirement already satisfied, skipping upgrade: six in c:\\users\\pmd19\\appdata\\local\\continuum\\anaconda3\\lib\\site-packages (from altair) (1.12.0)\n",
      "Requirement already satisfied, skipping upgrade: toolz in c:\\users\\pmd19\\appdata\\local\\continuum\\anaconda3\\lib\\site-packages (from altair) (0.10.0)\n",
      "Requirement already satisfied, skipping upgrade: numpy in c:\\users\\pmd19\\appdata\\local\\continuum\\anaconda3\\lib\\site-packages (from altair) (1.16.4)\n",
      "Requirement already satisfied, skipping upgrade: jinja2 in c:\\users\\pmd19\\appdata\\local\\continuum\\anaconda3\\lib\\site-packages (from altair) (2.10.1)\n",
      "Requirement already satisfied, skipping upgrade: entrypoints in c:\\users\\pmd19\\appdata\\local\\continuum\\anaconda3\\lib\\site-packages (from altair) (0.3)\n",
      "Requirement already satisfied, skipping upgrade: pandas in c:\\users\\pmd19\\appdata\\local\\continuum\\anaconda3\\lib\\site-packages (from altair) (0.24.2)\n",
      "Requirement already satisfied, skipping upgrade: attrs>=17.4.0 in c:\\users\\pmd19\\appdata\\local\\continuum\\anaconda3\\lib\\site-packages (from jsonschema->altair) (19.1.0)\n",
      "Requirement already satisfied, skipping upgrade: pyrsistent>=0.14.0 in c:\\users\\pmd19\\appdata\\local\\continuum\\anaconda3\\lib\\site-packages (from jsonschema->altair) (0.14.11)\n",
      "Requirement already satisfied, skipping upgrade: setuptools in c:\\users\\pmd19\\appdata\\local\\continuum\\anaconda3\\lib\\site-packages (from jsonschema->altair) (41.0.1)\n",
      "Requirement already satisfied, skipping upgrade: MarkupSafe>=0.23 in c:\\users\\pmd19\\appdata\\local\\continuum\\anaconda3\\lib\\site-packages (from jinja2->altair) (1.1.1)\n",
      "Requirement already satisfied, skipping upgrade: python-dateutil>=2.5.0 in c:\\users\\pmd19\\appdata\\local\\continuum\\anaconda3\\lib\\site-packages (from pandas->altair) (2.8.0)\n",
      "Requirement already satisfied, skipping upgrade: pytz>=2011k in c:\\users\\pmd19\\appdata\\local\\continuum\\anaconda3\\lib\\site-packages (from pandas->altair) (2019.1)\n",
      "Installing collected packages: altair\n",
      "Successfully installed altair-3.2.0\n"
     ]
    }
   ],
   "source": [
    "!pip install altair --user --upgrade"
   ]
  },
  {
   "cell_type": "markdown",
   "metadata": {},
   "source": [
    "## Pandas"
   ]
  },
  {
   "cell_type": "markdown",
   "metadata": {},
   "source": [
    "The code in notebook 4 requires a lower version of pandas than is currently available.  Please install version 0.23.4 below."
   ]
  },
  {
   "cell_type": "code",
   "execution_count": null,
   "metadata": {},
   "outputs": [],
   "source": [
    "#import pandas as pd\n",
    "# If this gives an error, uncomment and run the next cell"
   ]
  },
  {
   "cell_type": "code",
   "execution_count": 8,
   "metadata": {},
   "outputs": [
    {
     "name": "stdout",
     "output_type": "stream",
     "text": [
      "Collecting pandas==0.23.4\n",
      "  Downloading https://files.pythonhosted.org/packages/58/a8/03e5fe0edbc522e46cb27df2abfb4266814129253d8462f38bc704a76a2a/pandas-0.23.4-cp37-cp37m-win_amd64.whl (7.9MB)\n",
      "Requirement already satisfied, skipping upgrade: numpy>=1.9.0 in c:\\users\\pmd19\\appdata\\local\\continuum\\anaconda3\\lib\\site-packages (from pandas==0.23.4) (1.16.4)\n",
      "Requirement already satisfied, skipping upgrade: pytz>=2011k in c:\\users\\pmd19\\appdata\\local\\continuum\\anaconda3\\lib\\site-packages (from pandas==0.23.4) (2019.1)\n",
      "Requirement already satisfied, skipping upgrade: python-dateutil>=2.5.0 in c:\\users\\pmd19\\appdata\\local\\continuum\\anaconda3\\lib\\site-packages (from pandas==0.23.4) (2.8.0)\n",
      "Requirement already satisfied, skipping upgrade: six>=1.5 in c:\\users\\pmd19\\appdata\\local\\continuum\\anaconda3\\lib\\site-packages (from python-dateutil>=2.5.0->pandas==0.23.4) (1.12.0)\n",
      "Installing collected packages: pandas\n",
      "Successfully installed pandas-0.23.4\n"
     ]
    }
   ],
   "source": [
    "!pip install pandas==0.23.4 --user --upgrade"
   ]
  },
  {
   "cell_type": "markdown",
   "metadata": {},
   "source": [
    "## Vega"
   ]
  },
  {
   "cell_type": "code",
   "execution_count": null,
   "metadata": {},
   "outputs": [],
   "source": [
    "import vega as vg\n",
    "# if this gives and error, uncomment and run the next cell"
   ]
  },
  {
   "cell_type": "code",
   "execution_count": 9,
   "metadata": {},
   "outputs": [
    {
     "name": "stdout",
     "output_type": "stream",
     "text": [
      "Collecting vega\n",
      "  Downloading https://files.pythonhosted.org/packages/2b/cf/72b9200c09464ca28e38f1dec85d1773858fd641fae3a97c64d1fc495b27/vega-2.6.0-py3-none-any.whl (2.2MB)\n",
      "Installing collected packages: vega\n",
      "Successfully installed vega-2.6.0\n"
     ]
    }
   ],
   "source": [
    "!pip install vega --user"
   ]
  },
  {
   "cell_type": "markdown",
   "metadata": {},
   "source": [
    "## Method to list all of the packages and versions"
   ]
  },
  {
   "cell_type": "markdown",
   "metadata": {},
   "source": [
    "Uncomment the next cell to see all of the installed packages and versions for your computer."
   ]
  },
  {
   "cell_type": "code",
   "execution_count": null,
   "metadata": {},
   "outputs": [],
   "source": [
    "#!pip freeze"
   ]
  },
  {
   "cell_type": "code",
   "execution_count": null,
   "metadata": {},
   "outputs": [],
   "source": []
  }
 ],
 "metadata": {
  "kernelspec": {
   "display_name": "Python 3",
   "language": "python",
   "name": "python3"
  },
  "language_info": {
   "codemirror_mode": {
    "name": "ipython",
    "version": 3
   },
   "file_extension": ".py",
   "mimetype": "text/x-python",
   "name": "python",
   "nbconvert_exporter": "python",
   "pygments_lexer": "ipython3",
   "version": "3.7.3"
  }
 },
 "nbformat": 4,
 "nbformat_minor": 2
}
