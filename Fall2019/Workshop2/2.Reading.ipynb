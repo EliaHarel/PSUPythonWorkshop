{
 "cells": [
  {
   "cell_type": "markdown",
   "metadata": {},
   "source": [
    "# Reading in data from files"
   ]
  },
  {
   "cell_type": "markdown",
   "metadata": {},
   "source": [
    "In this section, we will be looking at ways  to read and write data. We do this using a basic (built-in) method as well as using the loadtxt and getfromtxt functions from numpy. We also discuss lambda functions as a way to prep data as it is being read."
   ]
  },
  {
   "cell_type": "markdown",
   "metadata": {},
   "source": [
    "### Basic File Actions: Open, do something and close\n",
    "Python allows us to open a file, perform an action on it (reading, writing, appending) and then close the file.  We chose the mode of the file to be consisten with the action that we want to take.  The available modes and actions are:\n",
    "* r = read only mode\n",
    "* a = append mode\n",
    "* w = write mode \n",
    "* r+ = read and write mode"
   ]
  },
  {
   "cell_type": "code",
   "execution_count": 12,
   "metadata": {},
   "outputs": [
    {
     "name": "stdout",
     "output_type": "stream",
     "text": [
      "<class 'str'>\n",
      "0 10\n",
      "1 21\n",
      "2 32\n",
      "3 43\n",
      "4 54\n",
      "5 65\n",
      "6 76\n",
      "7 87\n",
      "8 98\n",
      "9 109\n",
      "\n"
     ]
    }
   ],
   "source": [
    "#-# Open the file\n",
    "# ourName = open( \"filename\" , \"mode\")\n",
    "fileToRead = open( \"random.txt\", \"r\" )\n",
    "\n",
    "#-# Perform the action (read)\n",
    "contents = fileToRead.read()\n",
    "\n",
    "#-# Close the file\n",
    "fileToRead.close()\n",
    "\n",
    "#-# Print out what was read with the type\n",
    "print( type(contents) )\n",
    "print( contents )"
   ]
  },
  {
   "cell_type": "markdown",
   "metadata": {},
   "source": [
    "This reads our entire file in at once.  We can also read in certain numbes of characters or lines of text.\n",
    "* read: Reads in the next character - you can give it the next number of characters to read in\n",
    "* readline: Reads in an entire line\n",
    "* readilnes: Reads in the rest of the file, but splits up the input based on line\n",
    "Note that later statements start from where you are in the file, not the beginning (or even the beginning of a line)"
   ]
  },
  {
   "cell_type": "code",
   "execution_count": 7,
   "metadata": {},
   "outputs": [
    {
     "name": "stdout",
     "output_type": "stream",
     "text": [
      "#-# readline \n",
      "0 10\n",
      "\n",
      "#-# read \n",
      "1 2\n",
      "#-# readlines \n",
      "['1\\n', '2 32\\n', '3 43\\n', '4 54\\n', '5 65\\n', '6 76\\n', '7 87\\n', '8 98\\n', '9 109\\n']\n"
     ]
    }
   ],
   "source": [
    "#-# Open the file\n",
    "# ourName = open( \"filename\", \"mode\")\n",
    "fileToRead = open( \"random.txt\", \"r\" )\n",
    "\n",
    "#-# Use readline\n",
    "print( \"#-# readline \" )\n",
    "print( fileToRead.readline() )\n",
    "\n",
    "#-# Use read\n",
    "print( \"#-# read \" )\n",
    "print( fileToRead.read(3)  )\n",
    "# Note that this prints out three characters (1, space, 2) and not 3 objects (1, space, 21)\n",
    "\n",
    "#-# Use readlines\n",
    "print( \"#-# readlines \" )\n",
    "theRest = fileToRead.readlines() \n",
    "print( theRest )\n",
    "\n",
    "#-# Close the file\n",
    "fileToRead.close()"
   ]
  },
  {
   "cell_type": "markdown",
   "metadata": {},
   "source": [
    "We can also loop over the lines of a file, which is typically more efficient than reading it in, and allows us to put data in the form that we want.  In this case we use a list called dateFormatted and split based on the strings."
   ]
  },
  {
   "cell_type": "code",
   "execution_count": 8,
   "metadata": {},
   "outputs": [
    {
     "name": "stdout",
     "output_type": "stream",
     "text": [
      "[['0', '10'], ['1', '21'], ['2', '32'], ['3', '43'], ['4', '54'], ['5', '65'], ['6', '76'], ['7', '87'], ['8', '98'], ['9', '109']]\n"
     ]
    }
   ],
   "source": [
    "#-# Open the file\n",
    "fileToRead = open( \"random.txt\", \"r\" )\n",
    "\n",
    "#-# Read in the data line by line and put into dateFormatted\n",
    "dataFormatted = []\n",
    "for line in fileToRead:\n",
    "    # Strip off the newline and split based on the space\n",
    "    dataFormatted.append( line.strip('\\n').split(' ') )\n",
    "    \n",
    "#-# Close the file\n",
    "fileToRead.close()\n",
    "\n",
    "#-# Print out the data\n",
    "print( dataFormatted )"
   ]
  },
  {
   "cell_type": "markdown",
   "metadata": {},
   "source": [
    "We can also write to a file and append to a file in a very similar fashion.  Note that the write will delete any file that is already there with that name."
   ]
  },
  {
   "cell_type": "code",
   "execution_count": 9,
   "metadata": {},
   "outputs": [
    {
     "name": "stdout",
     "output_type": "stream",
     "text": [
      "Is this the second line?\n",
      "Add another Line\n",
      "Appended to the end\n"
     ]
    }
   ],
   "source": [
    "# Write to a file (using w)\n",
    "fileToWrite = open( \"sampleWrite.txt\", \"w\" )\n",
    "fileToWrite.write( \"Does this show up?\" ) \n",
    "fileToWrite.close()\n",
    "\n",
    "# Write to the same file (using w again)\n",
    "fileToWrite = open(\"sampleWrite.txt\", \"w\" )\n",
    "fileToWrite.write( \"Is this the second line?\" ) \n",
    "fileToWrite.write( \"\\nAdd another Line\" )\n",
    "fileToWrite.close()\n",
    "\n",
    "# Append to the file (using a)\n",
    "fileToAppend = open( \"sampleWrite.txt\", \"a\" )\n",
    "fileToAppend.write( \"\\nAppended to the end\" ) \n",
    "fileToAppend.close()\n",
    "\n",
    "# Check to see what's there\n",
    "fileToCheck = open( \"sampleWrite.txt\", \"r\" )\n",
    "print( fileToCheck.read() )\n",
    "fileToCheck.close()"
   ]
  },
  {
   "cell_type": "markdown",
   "metadata": {},
   "source": [
    "### Reading in regular data"
   ]
  },
  {
   "cell_type": "markdown",
   "metadata": {},
   "source": [
    "The read commands we were doing before were very poweful, but they assume you will do all of your data prep and formatting as an additional step.  The numpy module comes with two excellent functions that allow you to read input files with known formatting in an easier manner: loadtxt and genfromtext. "
   ]
  },
  {
   "cell_type": "markdown",
   "metadata": {},
   "source": [
    "When using loadtxt, we do not have to open and close the file, these are included in the function.  We do have to provide a delimiter, of what separates one variable from another.  In this case, a space is used."
   ]
  },
  {
   "cell_type": "code",
   "execution_count": 13,
   "metadata": {},
   "outputs": [
    {
     "name": "stdout",
     "output_type": "stream",
     "text": [
      "<class 'numpy.ndarray'>\n",
      "[[  0.  10.]\n",
      " [  1.  21.]\n",
      " [  2.  32.]\n",
      " [  3.  43.]\n",
      " [  4.  54.]\n",
      " [  5.  65.]\n",
      " [  6.  76.]\n",
      " [  7.  87.]\n",
      " [  8.  98.]\n",
      " [  9. 109.]]\n"
     ]
    }
   ],
   "source": [
    "import numpy as np\n",
    "\n",
    "# Read in similar to before\n",
    "allData = np.loadtxt( \"random.txt\", delimiter=\" \" )\n",
    "print( type(allData) ) \n",
    "print( allData ) "
   ]
  },
  {
   "cell_type": "markdown",
   "metadata": {},
   "source": [
    "We see that this is in a list-like form, called a numpy array, rather than a string before.  We also note that each of the values is listed with a period, as a float."
   ]
  },
  {
   "cell_type": "markdown",
   "metadata": {},
   "source": [
    "One of the ways we can use loadtxt to help with data prep is to split different columnds into different variables.  You use this by setting the unpack parameter to True"
   ]
  },
  {
   "cell_type": "code",
   "execution_count": 15,
   "metadata": {},
   "outputs": [
    {
     "name": "stdout",
     "output_type": "stream",
     "text": [
      "#-# colA\n",
      "[0. 1. 2. 3. 4. 5. 6. 7. 8. 9.]\n",
      "\n",
      "#-# colB\n",
      "[ 10.  21.  32.  43.  54.  65.  76.  87.  98. 109.]\n"
     ]
    }
   ],
   "source": [
    "import numpy as np\n",
    "\n",
    "# Break into columns\n",
    "colA, colB = np.loadtxt( \"random.txt\", unpack=True )\n",
    "\n",
    "print( \"#-# colA\" ) \n",
    "print( colA ) \n",
    "\n",
    "print( \"\\n#-# colB\" ) \n",
    "print( colB ) "
   ]
  },
  {
   "cell_type": "markdown",
   "metadata": {},
   "source": [
    "The loadtxt command also allows for only a portion of the data to be read in.  In this example, the usecols parameter is used to indicate which columns should be read in. In this example, only the first column is read in."
   ]
  },
  {
   "cell_type": "code",
   "execution_count": 16,
   "metadata": {},
   "outputs": [
    {
     "name": "stdout",
     "output_type": "stream",
     "text": [
      "#-# firstCol\n",
      "[0. 1. 2. 3. 4. 5. 6. 7. 8. 9.]\n"
     ]
    }
   ],
   "source": [
    "import numpy as np\n",
    "\n",
    "# Read in a single column\n",
    "firstCol = np.loadtxt( \"random.txt\", usecols=[0], unpack=True )\n",
    "print( \"#-# firstCol\" ) \n",
    "print( firstCol ) "
   ]
  },
  {
   "cell_type": "markdown",
   "metadata": {},
   "source": [
    "So far, python has assumed everything being read in is a float (the default for numpy).  We can typecast the values as they are read in using the dtype parameter.  Here we read in the second column as strings."
   ]
  },
  {
   "cell_type": "code",
   "execution_count": 17,
   "metadata": {},
   "outputs": [
    {
     "name": "stdout",
     "output_type": "stream",
     "text": [
      "#-# secColSt\n",
      "['10' '21' '32' '43' '54' '65' '76' '87' '98' '109']\n"
     ]
    }
   ],
   "source": [
    "import numpy as np\n",
    "\n",
    "# Change the type\n",
    "secColSt = np.loadtxt( \"random.txt\", dtype=str, usecols=[1], unpack=True )\n",
    "print( \"#-# secColSt\" ) \n",
    "print( secColSt ) "
   ]
  },
  {
   "cell_type": "markdown",
   "metadata": {},
   "source": [
    "Numpy's genfromtxt is used the same way, but has some additional error handling.   This can be useful if your data is incomplete, or has some errors. You can put anything you want for missing values - common choices are nan (not a number) or 0. Do something so that you can easily identify problems and either filter them out or know you are ok ignoring them."
   ]
  },
  {
   "cell_type": "code",
   "execution_count": 19,
   "metadata": {},
   "outputs": [
    {
     "name": "stdout",
     "output_type": "stream",
     "text": [
      "#-# digitNum\n",
      "[ 0.  1.  2.  3. nan  5.  6.  7.  8.  9. 10. 11. 12.]\n",
      "\n",
      "#-# piVal\n",
      "[ 3. nan  1.  4.  1.  5.  9.  2.  6.  5.  3.  5.  9.]\n"
     ]
    }
   ],
   "source": [
    "import numpy as np\n",
    "digitNum,piVal = np.genfromtxt(\"corruptData.dat\", delimiter=\",\", unpack=True, missing_values=' ', filling_values=np.nan)\n",
    "\n",
    "print( \"#-# digitNum\" )\n",
    "print( digitNum )\n",
    "\n",
    "print( \"\\n#-# piVal\" )\n",
    "print( piVal )"
   ]
  },
  {
   "cell_type": "markdown",
   "metadata": {},
   "source": [
    "## Lambda functions"
   ]
  },
  {
   "cell_type": "markdown",
   "metadata": {},
   "source": [
    "Lambda functions are anonymous functions which are defined by the keywork lambda. An example of this to compute a some value time pi would be:\n",
    "```python\n",
    "multByPiLmb = lambda x: x * np.pi\n",
    "```\n",
    "This is named multByPiLmb, but doesn't need to have a name.  \n",
    "\n",
    "An input variable (often x) is used with the keyword lambda .  It is denoted\n",
    "```python\n",
    "lambda x\n",
    "```\n",
    "The function returns the value on the right side of the colon.  This is \n",
    "```python\n",
    "x * np.pi\n",
    "``` \n",
    "in this case.  "
   ]
  },
  {
   "cell_type": "code",
   "execution_count": 23,
   "metadata": {},
   "outputs": [
    {
     "data": {
      "text/plain": [
       "9.42477796076938"
      ]
     },
     "execution_count": 23,
     "metadata": {},
     "output_type": "execute_result"
    }
   ],
   "source": [
    "import numpy as np\n",
    "multByPiLmb = lambda x: x * np.pi\n",
    "multByPiLmb(3)"
   ]
  },
  {
   "cell_type": "markdown",
   "metadata": {},
   "source": [
    "Note that this is similar to writing out a full function:"
   ]
  },
  {
   "cell_type": "code",
   "execution_count": 24,
   "metadata": {},
   "outputs": [
    {
     "data": {
      "text/plain": [
       "9.42477796076938"
      ]
     },
     "execution_count": 24,
     "metadata": {},
     "output_type": "execute_result"
    }
   ],
   "source": [
    "import numpy as np\n",
    "def multByPiFxn( input ):\n",
    "    return input * np.pi\n",
    "\n",
    "multByPiFxn(3)"
   ]
  },
  {
   "cell_type": "markdown",
   "metadata": {},
   "source": [
    "However, the way that the lambda function is written allows us to use it in ways that regular expressions cannot be used. For example, let's say you wanted to transform a variable as it was being read in. We can use an unnamed lambda function as a converter for our input data. In this example the converter is applied to the first column (0) and adds 10 to each value. "
   ]
  },
  {
   "cell_type": "code",
   "execution_count": 26,
   "metadata": {},
   "outputs": [
    {
     "name": "stdout",
     "output_type": "stream",
     "text": [
      "Original Columns:  [0. 1. 2. 3. 4. 5. 6. 7. 8. 9.] [ 10.  21.  32.  43.  54.  65.  76.  87.  98. 109.]\n",
      "Updated Columns:  [10. 11. 12. 13. 14. 15. 16. 17. 18. 19.] [ 10.  21.  32.  43.  54.  65.  76.  87.  98. 109.]\n"
     ]
    }
   ],
   "source": [
    "import numpy as np\n",
    "colA, colB = np.loadtxt( \"random.txt\", unpack=True )\n",
    "print( \"Original Columns: \", colA,colB )\n",
    "\n",
    "colC, colD = np.loadtxt( \"random.txt\", converters = {0: lambda s: int(s)+10}, unpack=True )\n",
    "print( \"Updated Columns: \", colC,colD )"
   ]
  },
  {
   "cell_type": "markdown",
   "metadata": {},
   "source": [
    "# Check yourself"
   ]
  },
  {
   "cell_type": "code",
   "execution_count": 29,
   "metadata": {},
   "outputs": [],
   "source": [
    "# Use these variables with the first example\n",
    "string1 = \"For the Glory of Old State\"\n",
    "string2 = \"For her founders strong and great.\""
   ]
  },
  {
   "cell_type": "markdown",
   "metadata": {},
   "source": [
    "Write both strings to a file using write and append modes. Read the file back in to verify that both strings were written."
   ]
  },
  {
   "cell_type": "code",
   "execution_count": 30,
   "metadata": {},
   "outputs": [],
   "source": [
    "# Try it here\n"
   ]
  },
  {
   "cell_type": "markdown",
   "metadata": {},
   "source": [
    "Read in random.txt using numpy's loadtxt and typecast the values to integers as they are being read in."
   ]
  },
  {
   "cell_type": "code",
   "execution_count": 31,
   "metadata": {},
   "outputs": [],
   "source": [
    "# Try it here\n"
   ]
  },
  {
   "cell_type": "markdown",
   "metadata": {},
   "source": [
    "Read in corruptData.dat with a zero for any erroneous data and use a lambda function to multiply the second column by 2."
   ]
  },
  {
   "cell_type": "code",
   "execution_count": 28,
   "metadata": {},
   "outputs": [],
   "source": [
    "# Try it here\n"
   ]
  },
  {
   "cell_type": "code",
   "execution_count": null,
   "metadata": {},
   "outputs": [],
   "source": []
  }
 ],
 "metadata": {
  "kernelspec": {
   "display_name": "Python 3",
   "language": "python",
   "name": "python3"
  },
  "language_info": {
   "codemirror_mode": {
    "name": "ipython",
    "version": 3
   },
   "file_extension": ".py",
   "mimetype": "text/x-python",
   "name": "python",
   "nbconvert_exporter": "python",
   "pygments_lexer": "ipython3",
   "version": "3.6.4"
  }
 },
 "nbformat": 4,
 "nbformat_minor": 2
}
