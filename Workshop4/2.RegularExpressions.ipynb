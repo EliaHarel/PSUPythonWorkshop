{
 "cells": [
  {
   "cell_type": "markdown",
   "metadata": {
    "hideCode": false,
    "hidePrompt": false
   },
   "source": [
    "# Regular Expressions"
   ]
  },
  {
   "cell_type": "markdown",
   "metadata": {
    "hideCode": false,
    "hidePrompt": false
   },
   "source": [
    "> With great power comes great responsibility\n",
    "- Voltaire, Stan Lee"
   ]
  },
  {
   "cell_type": "markdown",
   "metadata": {
    "hideCode": false,
    "hidePrompt": false
   },
   "source": [
    "I will be using (https://developers.google.com/edu/python/regular-expressions) to develop this section."
   ]
  },
  {
   "cell_type": "code",
   "execution_count": 2,
   "metadata": {
    "hideCode": false,
    "hidePrompt": false
   },
   "outputs": [],
   "source": [
    "statement = \"With great power comes great responsibility\""
   ]
  },
  {
   "cell_type": "markdown",
   "metadata": {
    "hideCode": false,
    "hidePrompt": false
   },
   "source": [
    "### match "
   ]
  },
  {
   "cell_type": "markdown",
   "metadata": {
    "hideCode": false,
    "hidePrompt": false
   },
   "source": [
    "match is a yes or no (good for if statements)"
   ]
  },
  {
   "cell_type": "code",
   "execution_count": 3,
   "metadata": {
    "hideCode": false,
    "hidePrompt": false
   },
   "outputs": [
    {
     "name": "stdout",
     "output_type": "stream",
     "text": [
      "With great power comes great responsibility\n",
      "<_sre.SRE_Match object at 0x0000000004E7F718>\n",
      "power\n"
     ]
    }
   ],
   "source": [
    "import re #add the import for re (regular expressions)\n",
    "print statement\n",
    "match = re.search(r'power', statement)\n",
    "\n",
    "if (match):\n",
    "    print match\n",
    "\n",
    "# to print value, use group()\n",
    "if (match):\n",
    "    print match.group()"
   ]
  },
  {
   "cell_type": "code",
   "execution_count": 4,
   "metadata": {
    "hideCode": false,
    "hidePrompt": false
   },
   "outputs": [
    {
     "name": "stdout",
     "output_type": "stream",
     "text": [
      "With great power comes great responsibility\n",
      "not there\n"
     ]
    }
   ],
   "source": [
    "import re #add the import for re (regular expressions)\n",
    "print statement\n",
    "match = re.search(r' power  ', statement)\n",
    "\n",
    "if (match):\n",
    "    print \"found it!\"\n",
    "else:\n",
    "    print \"not there\""
   ]
  },
  {
   "cell_type": "markdown",
   "metadata": {
    "hideCode": false,
    "hidePrompt": false
   },
   "source": [
    "### Patterns"
   ]
  },
  {
   "cell_type": "markdown",
   "metadata": {
    "hideCode": false,
    "hidePrompt": false
   },
   "source": [
    "__a, t, Y, 1, &__ - just characters (we've seen this example already)"
   ]
  },
  {
   "cell_type": "markdown",
   "metadata": {
    "hideCode": false,
    "hidePrompt": false
   },
   "source": [
    "__\\.__ - wild card (matches all characters). Let's use this for when we are not sure the given character."
   ]
  },
  {
   "cell_type": "markdown",
   "metadata": {
    "hideCode": false,
    "hidePrompt": false
   },
   "source": [
    "__\\t, \\n, \\r__ - tab, newline, return"
   ]
  },
  {
   "cell_type": "markdown",
   "metadata": {
    "hideCode": false,
    "hidePrompt": false
   },
   "source": [
    "__[sets]__ - let's you create sets, or options. Example [0-9], all numbers between 0 - 9"
   ]
  },
  {
   "cell_type": "markdown",
   "metadata": {},
   "source": [
    "__|__ - used for logic (or statements). Example, match cat | dog is cat or dog."
   ]
  },
  {
   "cell_type": "markdown",
   "metadata": {
    "hideCode": false,
    "hidePrompt": false
   },
   "source": [
    "__\\w__ - matches [a-zA-Z0-9_] and \\W matches all other characters"
   ]
  },
  {
   "cell_type": "markdown",
   "metadata": {},
   "source": [
    "__\\s__ - (lowercase s) matches a single whitespace character -- space, newline, return, tab"
   ]
  },
  {
   "cell_type": "markdown",
   "metadata": {
    "hideCode": false,
    "hidePrompt": false
   },
   "source": [
    "__^ = start, $ = end__ - match the start or end of the string"
   ]
  },
  {
   "cell_type": "markdown",
   "metadata": {
    "hideCode": false,
    "hidePrompt": false
   },
   "source": [
    "Let's try using these for a moment."
   ]
  },
  {
   "cell_type": "code",
   "execution_count": 5,
   "metadata": {
    "hideCode": false,
    "hidePrompt": false
   },
   "outputs": [],
   "source": [
    "# new statement\n",
    "statement2 = \"the rain in spain falls mainly on the plain\""
   ]
  },
  {
   "cell_type": "markdown",
   "metadata": {
    "hideCode": false,
    "hidePrompt": false
   },
   "source": [
    "Let's assume we were not sure if it was fall or falls. "
   ]
  },
  {
   "cell_type": "code",
   "execution_count": 6,
   "metadata": {
    "hideCode": false,
    "hidePrompt": false
   },
   "outputs": [
    {
     "name": "stdout",
     "output_type": "stream",
     "text": [
      "the rain in spain falls mainly on the plain\n",
      "falls\n"
     ]
    }
   ],
   "source": [
    "import re #add the import for re (regular expressions)\n",
    "print statement2\n",
    "match = re.search(r'<fill in>', statement2)\n",
    "\n",
    "# to print value, use group()\n",
    "if (match):\n",
    "    print match.group()\n",
    "else: \n",
    "    print \"try again\""
   ]
  },
  {
   "cell_type": "markdown",
   "metadata": {},
   "source": [
    "Let's assume we want to see if the end of the statement ends with a word with \"ain\""
   ]
  },
  {
   "cell_type": "code",
   "execution_count": 7,
   "metadata": {
    "hideCode": false,
    "hidePrompt": false
   },
   "outputs": [
    {
     "name": "stdout",
     "output_type": "stream",
     "text": [
      "the rain in spain falls mainly on the plain\n",
      "ain\n"
     ]
    }
   ],
   "source": [
    "import re #add the import for re (regular expressions)\n",
    "print statement2\n",
    "match = re.search(r'<fill in>', statement2)\n",
    "\n",
    "# to print value, use group()\n",
    "if (match):\n",
    "    print match.group()\n",
    "else: \n",
    "    print \"try again\""
   ]
  },
  {
   "cell_type": "markdown",
   "metadata": {},
   "source": [
    "Let's assume we want to see if: a word with \"ain\" ends with a suffix either an (ing, ly, er, ed)"
   ]
  },
  {
   "cell_type": "code",
   "execution_count": 11,
   "metadata": {},
   "outputs": [
    {
     "name": "stdout",
     "output_type": "stream",
     "text": [
      "the rain in spain falls mainly on the plain\n",
      "ainly\n"
     ]
    }
   ],
   "source": [
    "import re #add the import for re (regular expressions)\n",
    "print statement2\n",
    "match = re.search(r'<fill in>', statement2)\n",
    "\n",
    "# to print value, use group()\n",
    "if (match):\n",
    "    print match.group()\n",
    "else: \n",
    "    print \"try again\""
   ]
  },
  {
   "cell_type": "markdown",
   "metadata": {},
   "source": [
    "### Repetition"
   ]
  },
  {
   "cell_type": "markdown",
   "metadata": {},
   "source": [
    "__+__ - 1 or more occurrences of the pattern to its left"
   ]
  },
  {
   "cell_type": "markdown",
   "metadata": {},
   "source": [
    "__*__ - 0 or more occurrences of the pattern to its left"
   ]
  },
  {
   "cell_type": "markdown",
   "metadata": {},
   "source": [
    "___?__ - match 0 or 1 occurrences of the pattern to its left"
   ]
  },
  {
   "cell_type": "markdown",
   "metadata": {},
   "source": [
    "### Search and findall"
   ]
  },
  {
   "cell_type": "markdown",
   "metadata": {},
   "source": [
    "To this point we have only been focused on matching (so a \"yes/no\" question). Searching will seek out a specific solution (one and only one) and findall will seek out all solutions (one to many). "
   ]
  },
  {
   "cell_type": "markdown",
   "metadata": {},
   "source": [
    "__()__ - used with search and findall to focus the search on a specific subsection (or group)"
   ]
  },
  {
   "cell_type": "markdown",
   "metadata": {},
   "source": [
    "Let's try it. To do: find all words that have \"ain\" in the statement."
   ]
  },
  {
   "cell_type": "code",
   "execution_count": 14,
   "metadata": {},
   "outputs": [
    {
     "name": "stdout",
     "output_type": "stream",
     "text": [
      "the rain in spain falls mainly on the plain\n",
      "rain\n",
      "spain\n",
      "mainly\n",
      "plain\n"
     ]
    }
   ],
   "source": [
    "import re #add the import for re (regular expressions)\n",
    "print statement2\n",
    "matches = re.findall(r'<fill in>', statement2)\n",
    "\n",
    "for match in matches:\n",
    "    print match"
   ]
  },
  {
   "cell_type": "markdown",
   "metadata": {},
   "source": [
    "Let's try it. To do: find all words between rain and spain."
   ]
  },
  {
   "cell_type": "code",
   "execution_count": 19,
   "metadata": {},
   "outputs": [
    {
     "name": "stdout",
     "output_type": "stream",
     "text": [
      "the rain in spain falls mainly on the plain\n",
      "rain in spain\n",
      "in\n"
     ]
    }
   ],
   "source": [
    "import re #add the import for re (regular expressions)\n",
    "print statement2\n",
    "match = re.search(r'<fill in>', statement2)\n",
    "\n",
    "if (match):\n",
    "    print match.group()\n",
    "    print match.group(1)\n",
    "else: \n",
    "    print \"try again\""
   ]
  },
  {
   "cell_type": "code",
   "execution_count": null,
   "metadata": {},
   "outputs": [],
   "source": []
  }
 ],
 "metadata": {
  "hide_code_all_hidden": false,
  "kernelspec": {
   "display_name": "Python 2",
   "language": "python",
   "name": "python2"
  },
  "language_info": {
   "codemirror_mode": {
    "name": "ipython",
    "version": 2
   },
   "file_extension": ".py",
   "mimetype": "text/x-python",
   "name": "python",
   "nbconvert_exporter": "python",
   "pygments_lexer": "ipython2",
   "version": "2.7.14"
  }
 },
 "nbformat": 4,
 "nbformat_minor": 2
}
