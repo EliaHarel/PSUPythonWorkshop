{
 "cells": [
  {
   "cell_type": "markdown",
   "metadata": {
    "slideshow": {
     "slide_type": "slide"
    }
   },
   "source": [
    "### Comparison Operators"
   ]
  },
  {
   "cell_type": "markdown",
   "metadata": {
    "slideshow": {
     "slide_type": "slide"
    }
   },
   "source": [
    "We need to be able to compare different variables; we'll use these for conditions later."
   ]
  },
  {
   "cell_type": "markdown",
   "metadata": {
    "slideshow": {
     "slide_type": "fragment"
    }
   },
   "source": [
    "We have already initiated variables by setting something equal to something else - let's do that here by setting aVar equal to 10 and then setting bVar equal to aVar."
   ]
  },
  {
   "cell_type": "code",
   "execution_count": 1,
   "metadata": {
    "slideshow": {
     "slide_type": "fragment"
    }
   },
   "outputs": [
    {
     "name": "stdout",
     "output_type": "stream",
     "text": [
      "10 10\n"
     ]
    }
   ],
   "source": [
    "aVar = 10\n",
    "bVar = aVar\n",
    "print aVar,bVar"
   ]
  },
  {
   "cell_type": "markdown",
   "metadata": {
    "slideshow": {
     "slide_type": "slide"
    }
   },
   "source": [
    "The first comparison operator is '==' which tests to see if two variables are equal. "
   ]
  },
  {
   "cell_type": "code",
   "execution_count": 2,
   "metadata": {
    "slideshow": {
     "slide_type": "fragment"
    }
   },
   "outputs": [
    {
     "name": "stdout",
     "output_type": "stream",
     "text": [
      "10 10 11\n",
      "True\n",
      "False\n"
     ]
    }
   ],
   "source": [
    "cVar = 11\n",
    "print aVar,bVar,cVar\n",
    "print aVar == bVar\n",
    "print aVar == cVar"
   ]
  },
  {
   "cell_type": "markdown",
   "metadata": {
    "slideshow": {
     "slide_type": "fragment"
    }
   },
   "source": [
    "This tells us that aVar is equal to bVar, because it returns 'True' and aVar is not equal to cVar, as that returns 'False.'"
   ]
  },
  {
   "cell_type": "markdown",
   "metadata": {
    "slideshow": {
     "slide_type": "slide"
    }
   },
   "source": [
    "We can also test to see if two values are not equal using the '!=' operator."
   ]
  },
  {
   "cell_type": "code",
   "execution_count": 3,
   "metadata": {
    "slideshow": {
     "slide_type": "fragment"
    }
   },
   "outputs": [
    {
     "name": "stdout",
     "output_type": "stream",
     "text": [
      "10 10 11\n",
      "False\n",
      "True\n"
     ]
    }
   ],
   "source": [
    "print aVar,bVar,cVar\n",
    "print aVar != bVar\n",
    "print aVar != cVar"
   ]
  },
  {
   "cell_type": "markdown",
   "metadata": {
    "slideshow": {
     "slide_type": "fragment"
    }
   },
   "source": [
    "This gives us the opposite of what we had before.  It is false that aVar and bVar are not equal, meaning that they are equal.  It is true that aVar and cVar are not equal."
   ]
  },
  {
   "cell_type": "markdown",
   "metadata": {
    "slideshow": {
     "slide_type": "slide"
    }
   },
   "source": [
    "We can also compare the magnitude of values using '<', '<=', '>'and '>=', which will return 'True' if the condition is being met."
   ]
  },
  {
   "cell_type": "code",
   "execution_count": 4,
   "metadata": {
    "slideshow": {
     "slide_type": "subslide"
    }
   },
   "outputs": [
    {
     "name": "stdout",
     "output_type": "stream",
     "text": [
      "10 10 11\n",
      "False\n",
      "True\n",
      "True\n",
      "False\n"
     ]
    }
   ],
   "source": [
    "print aVar,bVar,cVar\n",
    "print aVar < bVar\n",
    "print aVar <= bVar\n",
    "print aVar >= bVar\n",
    "print aVar > bVar"
   ]
  },
  {
   "cell_type": "markdown",
   "metadata": {
    "slideshow": {
     "slide_type": "slide"
    }
   },
   "source": [
    "We do have to watch out for our types. A string of a value is not the same as a value"
   ]
  },
  {
   "cell_type": "code",
   "execution_count": 5,
   "metadata": {
    "slideshow": {
     "slide_type": "subslide"
    }
   },
   "outputs": [
    {
     "name": "stdout",
     "output_type": "stream",
     "text": [
      "10 10 11\n",
      "False\n",
      "<type 'int'> <type 'str'>\n",
      "True\n",
      "True\n"
     ]
    }
   ],
   "source": [
    "print aVar,bVar,cVar\n",
    "print aVar == '10'\n",
    "print type(aVar),type('10')\n",
    "print aVar == 10\n",
    "print aVar == 10.0"
   ]
  },
  {
   "cell_type": "markdown",
   "metadata": {
    "slideshow": {
     "slide_type": "slide"
    }
   },
   "source": [
    "We can also combine different comparison operators. If both individual statements must be 'True,' we can use the 'and' operator."
   ]
  },
  {
   "cell_type": "code",
   "execution_count": 6,
   "metadata": {
    "slideshow": {
     "slide_type": "fragment"
    }
   },
   "outputs": [
    {
     "name": "stdout",
     "output_type": "stream",
     "text": [
      "10 10 11\n",
      "True\n",
      "False\n"
     ]
    }
   ],
   "source": [
    "print aVar,bVar,cVar\n",
    "print (aVar == 10) and (aVar == bVar)\n",
    "print (aVar == 10) and (aVar == cVar)"
   ]
  },
  {
   "cell_type": "markdown",
   "metadata": {
    "slideshow": {
     "slide_type": "slide"
    }
   },
   "source": [
    "If we want 'True' for either of the conditions to be met, we can use the 'or' operator."
   ]
  },
  {
   "cell_type": "code",
   "execution_count": 7,
   "metadata": {
    "slideshow": {
     "slide_type": "fragment"
    }
   },
   "outputs": [
    {
     "name": "stdout",
     "output_type": "stream",
     "text": [
      "10 10 11\n",
      "True\n",
      "False\n"
     ]
    }
   ],
   "source": [
    "print aVar,bVar,cVar\n",
    "print (aVar == cVar) or (aVar == bVar)\n",
    "print (aVar == 11) or (aVar == cVar)"
   ]
  },
  {
   "cell_type": "code",
   "execution_count": 8,
   "metadata": {
    "slideshow": {
     "slide_type": "fragment"
    }
   },
   "outputs": [
    {
     "name": "stdout",
     "output_type": "stream",
     "text": [
      "10 10 11\n",
      "True\n",
      "False\n"
     ]
    }
   ],
   "source": [
    "print aVar,bVar,cVar\n",
    "print (aVar == cVar) or (aVar == bVar)\n",
    "print (aVar == cVar) or not (aVar == bVar)"
   ]
  },
  {
   "cell_type": "code",
   "execution_count": null,
   "metadata": {},
   "outputs": [],
   "source": []
  }
 ],
 "metadata": {
  "celltoolbar": "Slideshow",
  "kernelspec": {
   "display_name": "Python 2",
   "language": "python",
   "name": "python2"
  },
  "language_info": {
   "codemirror_mode": {
    "name": "ipython",
    "version": 2
   },
   "file_extension": ".py",
   "mimetype": "text/x-python",
   "name": "python",
   "nbconvert_exporter": "python",
   "pygments_lexer": "ipython2",
   "version": "2.7.14"
  }
 },
 "nbformat": 4,
 "nbformat_minor": 2
}
