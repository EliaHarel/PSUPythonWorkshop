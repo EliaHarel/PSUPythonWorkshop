{
 "cells": [
  {
   "cell_type": "markdown",
   "metadata": {},
   "source": [
    "# What is a variable?"
   ]
  },
  {
   "cell_type": "markdown",
   "metadata": {},
   "source": [
    "variables are used to store values\n",
    "\n",
    "In Python, we do not need to declare what type of variable is being used. Python does this for us!"
   ]
  },
  {
   "cell_type": "markdown",
   "metadata": {},
   "source": [
    "### Integers"
   ]
  },
  {
   "cell_type": "code",
   "execution_count": 59,
   "metadata": {},
   "outputs": [],
   "source": [
    "someInteger = 0"
   ]
  },
  {
   "cell_type": "code",
   "execution_count": 60,
   "metadata": {},
   "outputs": [
    {
     "data": {
      "text/plain": [
       "int"
      ]
     },
     "execution_count": 60,
     "metadata": {},
     "output_type": "execute_result"
    }
   ],
   "source": [
    "type(someInteger)"
   ]
  },
  {
   "cell_type": "code",
   "execution_count": 61,
   "metadata": {},
   "outputs": [
    {
     "name": "stdout",
     "output_type": "stream",
     "text": [
      "10\n"
     ]
    }
   ],
   "source": [
    "someInteger = someInteger + 10\n",
    "print someInteger"
   ]
  },
  {
   "cell_type": "code",
   "execution_count": 62,
   "metadata": {},
   "outputs": [
    {
     "name": "stdout",
     "output_type": "stream",
     "text": [
      "<type 'int'> 10\n"
     ]
    }
   ],
   "source": [
    "print type(someInteger), someInteger"
   ]
  },
  {
   "cell_type": "markdown",
   "metadata": {},
   "source": [
    "### Floats"
   ]
  },
  {
   "cell_type": "markdown",
   "metadata": {},
   "source": [
    "Floats are similar to integers, but with more percision.\n",
    "Float comes from Floating point. "
   ]
  },
  {
   "cell_type": "code",
   "execution_count": 63,
   "metadata": {},
   "outputs": [
    {
     "name": "stdout",
     "output_type": "stream",
     "text": [
      "<type 'float'> 0.0\n"
     ]
    }
   ],
   "source": [
    "someFloat = .0\n",
    "print type(someFloat), someFloat"
   ]
  },
  {
   "cell_type": "code",
   "execution_count": 64,
   "metadata": {},
   "outputs": [
    {
     "name": "stdout",
     "output_type": "stream",
     "text": [
      "<type 'float'> 10.0\n"
     ]
    }
   ],
   "source": [
    "someFloat = someFloat + 10\n",
    "print type(someFloat), someFloat"
   ]
  },
  {
   "cell_type": "markdown",
   "metadata": {},
   "source": [
    "#### Mixing integers and floats"
   ]
  },
  {
   "cell_type": "code",
   "execution_count": 68,
   "metadata": {},
   "outputs": [
    {
     "name": "stdout",
     "output_type": "stream",
     "text": [
      "20.0\n",
      "11.1\n",
      "10 3\n",
      "10 3.33333333333\n"
     ]
    }
   ],
   "source": [
    "print someInteger + someFloat\n",
    "print someInteger + 1.1\n",
    "print someInteger, (someInteger/3)\n",
    "# Why does this happen? \n",
    "# Integer / Integer = Integer\n",
    "print someInteger, (someInteger/3.)"
   ]
  },
  {
   "cell_type": "markdown",
   "metadata": {},
   "source": [
    "#### type-cast"
   ]
  },
  {
   "cell_type": "code",
   "execution_count": 71,
   "metadata": {},
   "outputs": [
    {
     "name": "stdout",
     "output_type": "stream",
     "text": [
      "10 10.0\n",
      "10.0 10\n",
      "10 3.33333333333\n"
     ]
    }
   ],
   "source": [
    "print someInteger, someFloat\n",
    "print float(someInteger), int(someFloat)\n",
    "print someInteger, (float(someInteger)/3)"
   ]
  },
  {
   "cell_type": "markdown",
   "metadata": {},
   "source": [
    "### Strings"
   ]
  },
  {
   "cell_type": "markdown",
   "metadata": {},
   "source": [
    "strings are sequence of letters, numbers, and special characters "
   ]
  },
  {
   "cell_type": "code",
   "execution_count": 22,
   "metadata": {},
   "outputs": [],
   "source": [
    "helloStatement = \"hello everyone!\""
   ]
  },
  {
   "cell_type": "code",
   "execution_count": 24,
   "metadata": {},
   "outputs": [
    {
     "name": "stdout",
     "output_type": "stream",
     "text": [
      "<type 'str'> hello everyone!\n"
     ]
    }
   ],
   "source": [
    "print type(helloStatement),helloStatement"
   ]
  },
  {
   "cell_type": "code",
   "execution_count": 28,
   "metadata": {},
   "outputs": [
    {
     "name": "stdout",
     "output_type": "stream",
     "text": [
      "a <type 'str'>\n"
     ]
    }
   ],
   "source": [
    "singleCharacter = \"a\"\n",
    "print singleCharacter, type(singleCharacter)"
   ]
  },
  {
   "cell_type": "markdown",
   "metadata": {},
   "source": [
    "#### String Indexing/String Slicing"
   ]
  },
  {
   "cell_type": "code",
   "execution_count": 31,
   "metadata": {},
   "outputs": [
    {
     "name": "stdout",
     "output_type": "stream",
     "text": [
      "e\n"
     ]
    }
   ],
   "source": [
    "print helloStatement[1]"
   ]
  },
  {
   "cell_type": "code",
   "execution_count": 32,
   "metadata": {},
   "outputs": [
    {
     "name": "stdout",
     "output_type": "stream",
     "text": [
      "hello\n"
     ]
    }
   ],
   "source": [
    "print helloStatement[0:5]"
   ]
  },
  {
   "cell_type": "code",
   "execution_count": 33,
   "metadata": {},
   "outputs": [
    {
     "name": "stdout",
     "output_type": "stream",
     "text": [
      "hello\n"
     ]
    }
   ],
   "source": [
    "print helloStatement[:5]"
   ]
  },
  {
   "cell_type": "code",
   "execution_count": 34,
   "metadata": {},
   "outputs": [
    {
     "name": "stdout",
     "output_type": "stream",
     "text": [
      " everyone!\n"
     ]
    }
   ],
   "source": [
    "print helloStatement[5:]"
   ]
  },
  {
   "cell_type": "markdown",
   "metadata": {},
   "source": [
    "#### String functions"
   ]
  },
  {
   "cell_type": "code",
   "execution_count": 43,
   "metadata": {},
   "outputs": [
    {
     "name": "stdout",
     "output_type": "stream",
     "text": [
      "11\n",
      "-1\n",
      "Hello everyone!\n",
      "hello everyone!\n",
      "['hello', 'everyone!']\n"
     ]
    }
   ],
   "source": [
    "################\n",
    "## Find\n",
    "################\n",
    "print helloStatement.find(\"one\")\n",
    "print helloStatement.find(\"me\")\n",
    "print helloStatement.capitalize()\n",
    "print helloStatement.lower()\n",
    "print helloStatement.split(\" \")"
   ]
  },
  {
   "cell_type": "markdown",
   "metadata": {},
   "source": [
    "what will this do?"
   ]
  },
  {
   "cell_type": "code",
   "execution_count": 42,
   "metadata": {},
   "outputs": [
    {
     "name": "stdout",
     "output_type": "stream",
     "text": [
      "hello everyone!\n",
      "Hello\n"
     ]
    }
   ],
   "source": [
    "print helloStatement.capitalize().lower()\n",
    "# We can chain these!\n",
    "print helloStatement[:5].capitalize()"
   ]
  },
  {
   "cell_type": "markdown",
   "metadata": {},
   "source": [
    "#### Concatenating Strings"
   ]
  },
  {
   "cell_type": "code",
   "execution_count": 49,
   "metadata": {},
   "outputs": [
    {
     "name": "stdout",
     "output_type": "stream",
     "text": [
      "bio101\n",
      "bio101\n"
     ]
    }
   ],
   "source": [
    "courseName = \"bio\"\n",
    "courseNumber = \"101\"\n",
    "print courseName+courseNumber\n",
    "print \"%s%s\" % (courseName,courseNumber)"
   ]
  },
  {
   "cell_type": "markdown",
   "metadata": {},
   "source": [
    "Why I like to use %s"
   ]
  },
  {
   "cell_type": "code",
   "execution_count": 10,
   "metadata": {},
   "outputs": [
    {
     "name": "stdout",
     "output_type": "stream",
     "text": [
      "variable1,variable2,variable3,variable4,variable5\n",
      "variable1,variable2,variable3,variable4,variable5\n"
     ]
    }
   ],
   "source": [
    "variable1 = \"variable1\"\n",
    "variable2 = \"variable2\"\n",
    "variable3 = \"variable3\"\n",
    "variable4 = \"variable4\"\n",
    "variable5 = \"variable5\"\n",
    "print variable1 + \",\" + variable2 + \",\" + variable3 + \",\" + variable4 + \",\" + variable5\n",
    "print \"%s,%s,%s,%s,%s\" % (variable1,variable2,variable3,variable4,variable5)"
   ]
  },
  {
   "cell_type": "code",
   "execution_count": 50,
   "metadata": {},
   "outputs": [
    {
     "name": "stdout",
     "output_type": "stream",
     "text": [
      "bio101\n",
      "I am currently sitting in bio101\n"
     ]
    }
   ],
   "source": [
    "# let's concatenate the strings\n",
    "courseNameNumber = \"%s%s\" % (courseName,courseNumber)\n",
    "print courseNameNumber\n",
    "print \"I am currently sitting in %s\" % (courseNameNumber)"
   ]
  },
  {
   "cell_type": "markdown",
   "metadata": {},
   "source": [
    "### Booleans"
   ]
  },
  {
   "cell_type": "markdown",
   "metadata": {},
   "source": [
    "Booleans are used to do comparisions (true/false), (1/0), (yes/no)"
   ]
  },
  {
   "cell_type": "code",
   "execution_count": 2,
   "metadata": {},
   "outputs": [
    {
     "data": {
      "text/plain": [
       "bool"
      ]
     },
     "execution_count": 2,
     "metadata": {},
     "output_type": "execute_result"
    }
   ],
   "source": [
    "someCondition = True\n",
    "type(someCondition)"
   ]
  },
  {
   "cell_type": "code",
   "execution_count": 3,
   "metadata": {},
   "outputs": [
    {
     "data": {
      "text/plain": [
       "False"
      ]
     },
     "execution_count": 3,
     "metadata": {},
     "output_type": "execute_result"
    }
   ],
   "source": [
    "# Will come back to this in a second (==)\n",
    "(someCondition == False)"
   ]
  },
  {
   "cell_type": "code",
   "execution_count": 8,
   "metadata": {},
   "outputs": [
    {
     "name": "stdout",
     "output_type": "stream",
     "text": [
      "yes for True!\n"
     ]
    }
   ],
   "source": [
    "if (False): \n",
    "    print \"yes for False!\"\n",
    "if (True): \n",
    "    print \"yes for True!\""
   ]
  },
  {
   "cell_type": "code",
   "execution_count": 6,
   "metadata": {},
   "outputs": [
    {
     "name": "stdout",
     "output_type": "stream",
     "text": [
      "yes for 1!\n"
     ]
    }
   ],
   "source": [
    "if (0): \n",
    "    print \"yes for 0!\"\n",
    "if (1): \n",
    "    print \"yes for 1!\""
   ]
  },
  {
   "cell_type": "code",
   "execution_count": null,
   "metadata": {},
   "outputs": [],
   "source": []
  }
 ],
 "metadata": {
  "kernelspec": {
   "display_name": "Python 2",
   "language": "python",
   "name": "python2"
  },
  "language_info": {
   "codemirror_mode": {
    "name": "ipython",
    "version": 2
   },
   "file_extension": ".py",
   "mimetype": "text/x-python",
   "name": "python",
   "nbconvert_exporter": "python",
   "pygments_lexer": "ipython2",
   "version": "2.7.15"
  }
 },
 "nbformat": 4,
 "nbformat_minor": 2
}
