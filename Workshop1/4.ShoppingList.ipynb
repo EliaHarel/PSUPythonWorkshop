{
 "cells": [
  {
   "cell_type": "markdown",
   "metadata": {
    "slideshow": {
     "slide_type": "slide"
    }
   },
   "source": [
    "# Let's create a shopping list!"
   ]
  },
  {
   "cell_type": "markdown",
   "metadata": {
    "slideshow": {
     "slide_type": "slide"
    }
   },
   "source": [
    "## First, let's just create a list"
   ]
  },
  {
   "cell_type": "code",
   "execution_count": 29,
   "metadata": {
    "slideshow": {
     "slide_type": "fragment"
    }
   },
   "outputs": [],
   "source": [
    "shoppingList = []"
   ]
  },
  {
   "cell_type": "markdown",
   "metadata": {
    "slideshow": {
     "slide_type": "slide"
    }
   },
   "source": [
    "Let's create a function to add new items to my shopping list."
   ]
  },
  {
   "cell_type": "code",
   "execution_count": 30,
   "metadata": {
    "slideshow": {
     "slide_type": "fragment"
    }
   },
   "outputs": [],
   "source": [
    "def addToShoppingList(itemToAdd):\n",
    "    shoppingList.append(itemToAdd)"
   ]
  },
  {
   "cell_type": "markdown",
   "metadata": {
    "slideshow": {
     "slide_type": "slide"
    }
   },
   "source": [
    "Walking around my kitchen I notice we are missing milk."
   ]
  },
  {
   "cell_type": "code",
   "execution_count": 31,
   "metadata": {
    "slideshow": {
     "slide_type": "fragment"
    }
   },
   "outputs": [],
   "source": [
    "addToShoppingList(\"milk\")"
   ]
  },
  {
   "cell_type": "markdown",
   "metadata": {
    "slideshow": {
     "slide_type": "slide"
    }
   },
   "source": [
    "We have 3 eggs left (always want 6 on hand)."
   ]
  },
  {
   "cell_type": "code",
   "execution_count": 32,
   "metadata": {
    "slideshow": {
     "slide_type": "fragment"
    }
   },
   "outputs": [],
   "source": [
    "numberOfEggs = 3\n",
    "if (numberOfEggs < 6): addToShoppingList(\"eggs\")"
   ]
  },
  {
   "cell_type": "markdown",
   "metadata": {
    "slideshow": {
     "slide_type": "slide"
    }
   },
   "source": [
    "I want to make spaghetti for dinner (need sauce, spaghetti, and bread)."
   ]
  },
  {
   "cell_type": "code",
   "execution_count": 33,
   "metadata": {
    "slideshow": {
     "slide_type": "fragment"
    }
   },
   "outputs": [],
   "source": [
    "spaghettiRecipe = [\"sauce\",\"spaghetti\",\"bread\"]\n",
    "for ingredient in spaghettiRecipe:\n",
    "    addToShoppingList(ingredient)"
   ]
  },
  {
   "cell_type": "markdown",
   "metadata": {
    "slideshow": {
     "slide_type": "slide"
    }
   },
   "source": [
    "Let's see what we have so far."
   ]
  },
  {
   "cell_type": "code",
   "execution_count": 34,
   "metadata": {
    "slideshow": {
     "slide_type": "fragment"
    }
   },
   "outputs": [
    {
     "name": "stdout",
     "output_type": "stream",
     "text": [
      "['milk', 'eggs', 'sauce', 'spaghetti', 'bread']\n"
     ]
    }
   ],
   "source": [
    "print shoppingList"
   ]
  },
  {
   "cell_type": "markdown",
   "metadata": {
    "slideshow": {
     "slide_type": "slide"
    }
   },
   "source": [
    "Not the easiest to read. Let's try this another way:"
   ]
  },
  {
   "cell_type": "code",
   "execution_count": 35,
   "metadata": {
    "slideshow": {
     "slide_type": "fragment"
    }
   },
   "outputs": [
    {
     "name": "stdout",
     "output_type": "stream",
     "text": [
      "milk\n",
      "eggs\n",
      "sauce\n",
      "spaghetti\n",
      "bread\n"
     ]
    }
   ],
   "source": [
    "for item in shoppingList:\n",
    "    print item"
   ]
  },
  {
   "cell_type": "markdown",
   "metadata": {
    "slideshow": {
     "slide_type": "slide"
    }
   },
   "source": [
    "## Second, let's add some prices"
   ]
  },
  {
   "cell_type": "markdown",
   "metadata": {
    "slideshow": {
     "slide_type": "slide"
    }
   },
   "source": [
    "So I want to keep an eye on my budget, so I note all the prices."
   ]
  },
  {
   "cell_type": "markdown",
   "metadata": {
    "slideshow": {
     "slide_type": "fragment"
    }
   },
   "source": [
    "First, I will set all prices to 0."
   ]
  },
  {
   "cell_type": "code",
   "execution_count": 36,
   "metadata": {
    "slideshow": {
     "slide_type": "fragment"
    }
   },
   "outputs": [
    {
     "name": "stdout",
     "output_type": "stream",
     "text": [
      "{'spaghetti': 0, 'eggs': 0, 'sauce': 0, 'milk': 0, 'bread': 0}\n"
     ]
    }
   ],
   "source": [
    "shoppingPrices = {}\n",
    "for item in shoppingList:\n",
    "    shoppingPrices[item] = 0\n",
    "print shoppingPrices"
   ]
  },
  {
   "cell_type": "markdown",
   "metadata": {
    "slideshow": {
     "slide_type": "subslide"
    }
   },
   "source": [
    "Now I will manually add prices for each item."
   ]
  },
  {
   "cell_type": "code",
   "execution_count": 37,
   "metadata": {
    "slideshow": {
     "slide_type": "fragment"
    }
   },
   "outputs": [],
   "source": [
    "shoppingPrices['spaghetti'] = .99\n",
    "shoppingPrices['eggs'] = 1.99\n",
    "shoppingPrices['sauce'] = 2.15\n",
    "shoppingPrices['milk'] = 2.85\n",
    "shoppingPrices['bread'] = 1.49"
   ]
  },
  {
   "cell_type": "code",
   "execution_count": 38,
   "metadata": {
    "slideshow": {
     "slide_type": "fragment"
    }
   },
   "outputs": [
    {
     "name": "stdout",
     "output_type": "stream",
     "text": [
      "{'spaghetti': 0.99, 'eggs': 1.99, 'sauce': 2.15, 'milk': 2.85, 'bread': 1.49}\n"
     ]
    }
   ],
   "source": [
    "print shoppingPrices"
   ]
  },
  {
   "cell_type": "markdown",
   "metadata": {
    "slideshow": {
     "slide_type": "slide"
    }
   },
   "source": [
    "Also, I don't want to manually put in values. \n",
    "\n",
    "For this example, I will just use random values. Let's see an example of how to do this:"
   ]
  },
  {
   "cell_type": "code",
   "execution_count": 39,
   "metadata": {
    "slideshow": {
     "slide_type": "fragment"
    }
   },
   "outputs": [
    {
     "name": "stdout",
     "output_type": "stream",
     "text": [
      "12\n",
      "1\n"
     ]
    }
   ],
   "source": [
    "# first, import the random library\n",
    "import random\n",
    "# to create a random integer, use randint and the range (lowest values, highest values (-1))\n",
    "print random.randint(1,21)\n",
    "# now make this into a decimal price\n",
    "# example for eggs, let's assume the price can go from 1.50 to 2.50 (NOTE the 251)\n",
    "print random.randint(150,251)/100"
   ]
  },
  {
   "cell_type": "markdown",
   "metadata": {
    "slideshow": {
     "slide_type": "slide"
    }
   },
   "source": [
    "why are we only getting two options (1 or 2)? \n",
    "\n",
    "We need a decimal! So let's type-cast using float()."
   ]
  },
  {
   "cell_type": "code",
   "execution_count": 40,
   "metadata": {
    "slideshow": {
     "slide_type": "fragment"
    }
   },
   "outputs": [
    {
     "name": "stdout",
     "output_type": "stream",
     "text": [
      "2.17\n",
      "1.9\n",
      "1.63\n",
      "1.74\n"
     ]
    }
   ],
   "source": [
    "print random.randint(150,251)/float(100)\n",
    "print random.randint(150,251)/float(100)\n",
    "print random.randint(150,251)/float(100)\n",
    "print random.randint(150,251)/float(100)"
   ]
  },
  {
   "cell_type": "markdown",
   "metadata": {
    "slideshow": {
     "slide_type": "slide"
    }
   },
   "source": [
    "Let's define are ranges:\n",
    "-  Spaghetti (.75 - 1.00)\n",
    "-  Eggs (1.50 - 2.50)\n",
    "-  Sauce (2.00 - 3.00)\n",
    "-  Milk (2.50 - 4.00)\n",
    "-  Bread (1.25 - 1.75)"
   ]
  },
  {
   "cell_type": "code",
   "execution_count": 41,
   "metadata": {
    "slideshow": {
     "slide_type": "fragment"
    }
   },
   "outputs": [],
   "source": [
    "def createRandomPrice(item):\n",
    "    if (item==\"spaghetti\"): return random.randint(75,100)/float(100)\n",
    "    if (item==\"eggs\"): return random.randint(150,250)/float(100)\n",
    "    if (item==\"sauce\"): return random.randint(200,300)/float(100)\n",
    "    if (item==\"milk\"): return random.randint(250,400)/float(100)\n",
    "    if (item==\"bread\"): return random.randint(125,175)/float(100)"
   ]
  },
  {
   "cell_type": "markdown",
   "metadata": {
    "slideshow": {
     "slide_type": "slide"
    }
   },
   "source": [
    "## Third, some serious code here"
   ]
  },
  {
   "cell_type": "markdown",
   "metadata": {
    "slideshow": {
     "slide_type": "slide"
    }
   },
   "source": [
    "Idea!! I will go to multiple stores to get the best prices!\n",
    "\n",
    "Here is what I need:\n",
    "\n",
    "We will need a list of stores (Wegmans, Wal-Mart, Giant, Trader Joes).\n",
    "\n",
    "For each store, we will need a list of the stores and our shopping list.\n",
    "\n",
    "Let's start with our store names:"
   ]
  },
  {
   "cell_type": "code",
   "execution_count": 42,
   "metadata": {
    "slideshow": {
     "slide_type": "subslide"
    }
   },
   "outputs": [],
   "source": [
    "storeNames = [\"Wegmans\",\"Wal-Mart\",\"Giant\",\"Trader Joes\"]"
   ]
  },
  {
   "cell_type": "code",
   "execution_count": 43,
   "metadata": {
    "slideshow": {
     "slide_type": "fragment"
    }
   },
   "outputs": [
    {
     "name": "stdout",
     "output_type": "stream",
     "text": [
      "Wegmans\n",
      "Wal-Mart\n",
      "Giant\n",
      "Trader Joes\n"
     ]
    }
   ],
   "source": [
    "for storeName in storeNames:\n",
    "    print storeName"
   ]
  },
  {
   "cell_type": "markdown",
   "metadata": {
    "slideshow": {
     "slide_type": "slide"
    }
   },
   "source": [
    "OK, let's test this:"
   ]
  },
  {
   "cell_type": "code",
   "execution_count": 44,
   "metadata": {
    "slideshow": {
     "slide_type": "fragment"
    }
   },
   "outputs": [
    {
     "name": "stdout",
     "output_type": "stream",
     "text": [
      "milk 2.75\n",
      "eggs 2.36\n",
      "sauce 2.86\n",
      "spaghetti 0.92\n",
      "bread 1.52\n"
     ]
    }
   ],
   "source": [
    "for item in shoppingList:\n",
    "    print item, createRandomPrice(item)"
   ]
  },
  {
   "cell_type": "markdown",
   "metadata": {},
   "source": [
    "This is what we want in the end. For each store, we have a price for each item."
   ]
  },
  {
   "cell_type": "markdown",
   "metadata": {},
   "source": [
    "| food | Wegmans | Wal-Mart | Giant | Trader Joes |\n",
    "|------|------|------|------|------|\n",
    "| spaghetti |  x.xx  |  x.xx |  x.xx  | x.xx |\n",
    "| eggs |  x.xx  |  x.xx |  x.xx  |  x.xx |\n",
    "| sauce |  x.xx  |  x.xx |  x.xx  |  x.xx |\n",
    "| milk |  x.xx  |  x.xx |  x.xx  |  x.xx |\n",
    "| bread |  x.xx  |  x.xx |  x.xx  |  x.xx |"
   ]
  },
  {
   "cell_type": "markdown",
   "metadata": {
    "slideshow": {
     "slide_type": "slide"
    }
   },
   "source": [
    "First, we need a Dictionary for each item and for each item another Dictionary for the store/prices."
   ]
  },
  {
   "cell_type": "code",
   "execution_count": 45,
   "metadata": {
    "slideshow": {
     "slide_type": "fragment"
    }
   },
   "outputs": [
    {
     "name": "stdout",
     "output_type": "stream",
     "text": [
      "{'spaghetti': {}, 'eggs': {}, 'sauce': {}, 'milk': {}, 'bread': {}}\n"
     ]
    }
   ],
   "source": [
    "shoppingPricesByStores = {}\n",
    "for item in shoppingList:\n",
    "    shoppingPricesByStores[item] = {}\n",
    "print shoppingPricesByStores"
   ]
  },
  {
   "cell_type": "markdown",
   "metadata": {
    "slideshow": {
     "slide_type": "slide"
    }
   },
   "source": [
    "Now for each item, we set both the store name and the random price. "
   ]
  },
  {
   "cell_type": "code",
   "execution_count": 46,
   "metadata": {
    "slideshow": {
     "slide_type": "fragment"
    }
   },
   "outputs": [
    {
     "name": "stdout",
     "output_type": "stream",
     "text": [
      "{'spaghetti': {'Wal-Mart': 0.86, 'Giant': 1.0, 'Wegmans': 0.92, 'Trader Joes': 0.97}, 'eggs': {'Wal-Mart': 2.29, 'Giant': 2.04, 'Wegmans': 2.23, 'Trader Joes': 2.05}, 'sauce': {'Wal-Mart': 2.5, 'Giant': 2.25, 'Wegmans': 2.11, 'Trader Joes': 2.38}, 'milk': {'Wal-Mart': 3.29, 'Giant': 2.63, 'Wegmans': 2.97, 'Trader Joes': 2.97}, 'bread': {'Wal-Mart': 1.7, 'Giant': 1.29, 'Wegmans': 1.49, 'Trader Joes': 1.57}}\n"
     ]
    }
   ],
   "source": [
    "for item in shoppingPricesByStores:\n",
    "    shoppingPricesByStores[item] = {}\n",
    "    for storeName in storeNames:\n",
    "        shoppingPricesByStores[item][storeName] = createRandomPrice(item)\n",
    "print shoppingPricesByStores"
   ]
  },
  {
   "cell_type": "markdown",
   "metadata": {
    "slideshow": {
     "slide_type": "slide"
    }
   },
   "source": [
    "Finally, we need to sort. We use a sorting function (sorted). \n",
    "\n",
    "Let's try first with just sorted (shoppingPricesByStores[item])."
   ]
  },
  {
   "cell_type": "code",
   "execution_count": 47,
   "metadata": {
    "slideshow": {
     "slide_type": "fragment"
    }
   },
   "outputs": [
    {
     "name": "stdout",
     "output_type": "stream",
     "text": [
      "['bread', 'eggs', 'milk', 'sauce', 'spaghetti']\n"
     ]
    }
   ],
   "source": [
    "print sorted(shoppingPricesByStores)"
   ]
  },
  {
   "cell_type": "markdown",
   "metadata": {
    "slideshow": {
     "slide_type": "slide"
    }
   },
   "source": [
    "Hmm... not what we are looking for. We want to sort based on prices per store."
   ]
  },
  {
   "cell_type": "code",
   "execution_count": 48,
   "metadata": {
    "slideshow": {
     "slide_type": "fragment"
    }
   },
   "outputs": [
    {
     "name": "stdout",
     "output_type": "stream",
     "text": [
      "spaghetti\n",
      "['Giant', 'Trader Joes', 'Wal-Mart', 'Wegmans']\n",
      "eggs\n",
      "['Giant', 'Trader Joes', 'Wal-Mart', 'Wegmans']\n",
      "sauce\n",
      "['Giant', 'Trader Joes', 'Wal-Mart', 'Wegmans']\n",
      "milk\n",
      "['Giant', 'Trader Joes', 'Wal-Mart', 'Wegmans']\n",
      "bread\n",
      "['Giant', 'Trader Joes', 'Wal-Mart', 'Wegmans']\n"
     ]
    }
   ],
   "source": [
    "for item in shoppingPricesByStores:\n",
    "    print item\n",
    "    print sorted(shoppingPricesByStores[item])"
   ]
  },
  {
   "cell_type": "markdown",
   "metadata": {
    "slideshow": {
     "slide_type": "slide"
    }
   },
   "source": [
    "This is sorting based on the name of the store; we need to sort based on the amount."
   ]
  },
  {
   "cell_type": "markdown",
   "metadata": {
    "slideshow": {
     "slide_type": "fragment"
    }
   },
   "source": [
    "There is actually a function we can use, called items(), which as it sounds, gives us all items in our dictionary."
   ]
  },
  {
   "cell_type": "code",
   "execution_count": 49,
   "metadata": {
    "slideshow": {
     "slide_type": "fragment"
    }
   },
   "outputs": [
    {
     "data": {
      "text/plain": [
       "[('spaghetti',\n",
       "  {'Giant': 1.0, 'Trader Joes': 0.97, 'Wal-Mart': 0.86, 'Wegmans': 0.92}),\n",
       " ('eggs',\n",
       "  {'Giant': 2.04, 'Trader Joes': 2.05, 'Wal-Mart': 2.29, 'Wegmans': 2.23}),\n",
       " ('sauce',\n",
       "  {'Giant': 2.25, 'Trader Joes': 2.38, 'Wal-Mart': 2.5, 'Wegmans': 2.11}),\n",
       " ('milk',\n",
       "  {'Giant': 2.63, 'Trader Joes': 2.97, 'Wal-Mart': 3.29, 'Wegmans': 2.97}),\n",
       " ('bread',\n",
       "  {'Giant': 1.29, 'Trader Joes': 1.57, 'Wal-Mart': 1.7, 'Wegmans': 1.49})]"
      ]
     },
     "execution_count": 49,
     "metadata": {},
     "output_type": "execute_result"
    }
   ],
   "source": [
    "shoppingPricesByStores.items()"
   ]
  },
  {
   "cell_type": "markdown",
   "metadata": {
    "slideshow": {
     "slide_type": "slide"
    }
   },
   "source": [
    "So let's try using that. "
   ]
  },
  {
   "cell_type": "code",
   "execution_count": 50,
   "metadata": {
    "slideshow": {
     "slide_type": "fragment"
    }
   },
   "outputs": [
    {
     "name": "stdout",
     "output_type": "stream",
     "text": [
      "spaghetti\n",
      "{'Wal-Mart': 0.86, 'Giant': 1.0, 'Wegmans': 0.92, 'Trader Joes': 0.97}\n",
      "[('Giant', 1.0), ('Trader Joes', 0.97), ('Wal-Mart', 0.86), ('Wegmans', 0.92)]\n",
      "eggs\n",
      "{'Wal-Mart': 2.29, 'Giant': 2.04, 'Wegmans': 2.23, 'Trader Joes': 2.05}\n",
      "[('Giant', 2.04), ('Trader Joes', 2.05), ('Wal-Mart', 2.29), ('Wegmans', 2.23)]\n",
      "sauce\n",
      "{'Wal-Mart': 2.5, 'Giant': 2.25, 'Wegmans': 2.11, 'Trader Joes': 2.38}\n",
      "[('Giant', 2.25), ('Trader Joes', 2.38), ('Wal-Mart', 2.5), ('Wegmans', 2.11)]\n",
      "milk\n",
      "{'Wal-Mart': 3.29, 'Giant': 2.63, 'Wegmans': 2.97, 'Trader Joes': 2.97}\n",
      "[('Giant', 2.63), ('Trader Joes', 2.97), ('Wal-Mart', 3.29), ('Wegmans', 2.97)]\n",
      "bread\n",
      "{'Wal-Mart': 1.7, 'Giant': 1.29, 'Wegmans': 1.49, 'Trader Joes': 1.57}\n",
      "[('Giant', 1.29), ('Trader Joes', 1.57), ('Wal-Mart', 1.7), ('Wegmans', 1.49)]\n"
     ]
    }
   ],
   "source": [
    "for item in shoppingPricesByStores:\n",
    "    print item\n",
    "    print shoppingPricesByStores[item]\n",
    "    print sorted(shoppingPricesByStores[item].items())"
   ]
  },
  {
   "cell_type": "markdown",
   "metadata": {
    "slideshow": {
     "slide_type": "slide"
    }
   },
   "source": [
    "First, I will define a function (I will explain this more in a second). \n",
    "\n",
    "Also, I marked a couple of print statements to showcase what is going on. \n",
    "\n",
    "All this function does is take tuple and returns the second item in the tuple. \n",
    "\n",
    "REMEMBER, computer talk here.. 1 = 2, because it starts at 0, 1, 2,..."
   ]
  },
  {
   "cell_type": "code",
   "execution_count": 51,
   "metadata": {
    "slideshow": {
     "slide_type": "fragment"
    }
   },
   "outputs": [],
   "source": [
    "def comparePrices (itemToSort):\n",
    "    print \"#From comparePrices function#\"\n",
    "    print itemToSort\n",
    "    print \"At the store \"+itemToSort[0]+\" the price is \"+str(itemToSort[1])\n",
    "    print \"#End comparePrices function#\"\n",
    "    return itemToSort[1]"
   ]
  },
  {
   "cell_type": "markdown",
   "metadata": {
    "slideshow": {
     "slide_type": "slide"
    }
   },
   "source": [
    "We can add a \"key\" that tells the sorting function, which value to sort on. \n",
    "\n",
    "So reading this in more non-technical speak:\n",
    "\n",
    "1.  For each item in dictionary called shoppingPricesByStores\n",
    "2.  Print item name\n",
    "3.  Then sort by the pair (storeName and price)\n",
    "4.  Use the function comparePrices to tell sorting to sort by the price. "
   ]
  },
  {
   "cell_type": "code",
   "execution_count": 52,
   "metadata": {
    "slideshow": {
     "slide_type": "subslide"
    }
   },
   "outputs": [
    {
     "name": "stdout",
     "output_type": "stream",
     "text": [
      "####################In for loop####################\n",
      "spaghetti\n",
      "#From comparePrices function#\n",
      "('Wal-Mart', 0.86)\n",
      "At the store Wal-Mart the price is 0.86\n",
      "#End comparePrices function#\n",
      "#From comparePrices function#\n",
      "('Giant', 1.0)\n",
      "At the store Giant the price is 1.0\n",
      "#End comparePrices function#\n",
      "#From comparePrices function#\n",
      "('Wegmans', 0.92)\n",
      "At the store Wegmans the price is 0.92\n",
      "#End comparePrices function#\n",
      "#From comparePrices function#\n",
      "('Trader Joes', 0.97)\n",
      "At the store Trader Joes the price is 0.97\n",
      "#End comparePrices function#\n",
      "[('Wal-Mart', 0.86), ('Wegmans', 0.92), ('Trader Joes', 0.97), ('Giant', 1.0)]\n",
      "####################Out for loop####################\n",
      "####################In for loop####################\n",
      "eggs\n",
      "#From comparePrices function#\n",
      "('Wal-Mart', 2.29)\n",
      "At the store Wal-Mart the price is 2.29\n",
      "#End comparePrices function#\n",
      "#From comparePrices function#\n",
      "('Giant', 2.04)\n",
      "At the store Giant the price is 2.04\n",
      "#End comparePrices function#\n",
      "#From comparePrices function#\n",
      "('Wegmans', 2.23)\n",
      "At the store Wegmans the price is 2.23\n",
      "#End comparePrices function#\n",
      "#From comparePrices function#\n",
      "('Trader Joes', 2.05)\n",
      "At the store Trader Joes the price is 2.05\n",
      "#End comparePrices function#\n",
      "[('Giant', 2.04), ('Trader Joes', 2.05), ('Wegmans', 2.23), ('Wal-Mart', 2.29)]\n",
      "####################Out for loop####################\n",
      "####################In for loop####################\n",
      "sauce\n",
      "#From comparePrices function#\n",
      "('Wal-Mart', 2.5)\n",
      "At the store Wal-Mart the price is 2.5\n",
      "#End comparePrices function#\n",
      "#From comparePrices function#\n",
      "('Giant', 2.25)\n",
      "At the store Giant the price is 2.25\n",
      "#End comparePrices function#\n",
      "#From comparePrices function#\n",
      "('Wegmans', 2.11)\n",
      "At the store Wegmans the price is 2.11\n",
      "#End comparePrices function#\n",
      "#From comparePrices function#\n",
      "('Trader Joes', 2.38)\n",
      "At the store Trader Joes the price is 2.38\n",
      "#End comparePrices function#\n",
      "[('Wegmans', 2.11), ('Giant', 2.25), ('Trader Joes', 2.38), ('Wal-Mart', 2.5)]\n",
      "####################Out for loop####################\n",
      "####################In for loop####################\n",
      "milk\n",
      "#From comparePrices function#\n",
      "('Wal-Mart', 3.29)\n",
      "At the store Wal-Mart the price is 3.29\n",
      "#End comparePrices function#\n",
      "#From comparePrices function#\n",
      "('Giant', 2.63)\n",
      "At the store Giant the price is 2.63\n",
      "#End comparePrices function#\n",
      "#From comparePrices function#\n",
      "('Wegmans', 2.97)\n",
      "At the store Wegmans the price is 2.97\n",
      "#End comparePrices function#\n",
      "#From comparePrices function#\n",
      "('Trader Joes', 2.97)\n",
      "At the store Trader Joes the price is 2.97\n",
      "#End comparePrices function#\n",
      "[('Giant', 2.63), ('Wegmans', 2.97), ('Trader Joes', 2.97), ('Wal-Mart', 3.29)]\n",
      "####################Out for loop####################\n",
      "####################In for loop####################\n",
      "bread\n",
      "#From comparePrices function#\n",
      "('Wal-Mart', 1.7)\n",
      "At the store Wal-Mart the price is 1.7\n",
      "#End comparePrices function#\n",
      "#From comparePrices function#\n",
      "('Giant', 1.29)\n",
      "At the store Giant the price is 1.29\n",
      "#End comparePrices function#\n",
      "#From comparePrices function#\n",
      "('Wegmans', 1.49)\n",
      "At the store Wegmans the price is 1.49\n",
      "#End comparePrices function#\n",
      "#From comparePrices function#\n",
      "('Trader Joes', 1.57)\n",
      "At the store Trader Joes the price is 1.57\n",
      "#End comparePrices function#\n",
      "[('Giant', 1.29), ('Wegmans', 1.49), ('Trader Joes', 1.57), ('Wal-Mart', 1.7)]\n",
      "####################Out for loop####################\n"
     ]
    }
   ],
   "source": [
    "for item in shoppingPricesByStores:\n",
    "    print \"####################In for loop####################\"\n",
    "    print item\n",
    "    print sorted(shoppingPricesByStores[item].items(), key=comparePrices)\n",
    "    print \"####################Out for loop####################\""
   ]
  },
  {
   "cell_type": "markdown",
   "metadata": {
    "slideshow": {
     "slide_type": "slide"
    }
   },
   "source": [
    "We can short-hand this a bit by using lambda.\n",
    "\n",
    "Lambda is like a micro-function. We use it once and that's it."
   ]
  },
  {
   "cell_type": "code",
   "execution_count": 53,
   "metadata": {
    "slideshow": {
     "slide_type": "fragment"
    }
   },
   "outputs": [
    {
     "name": "stdout",
     "output_type": "stream",
     "text": [
      "spaghetti\n",
      "[('Wal-Mart', 0.86), ('Wegmans', 0.92), ('Trader Joes', 0.97), ('Giant', 1.0)]\n",
      "eggs\n",
      "[('Giant', 2.04), ('Trader Joes', 2.05), ('Wegmans', 2.23), ('Wal-Mart', 2.29)]\n",
      "sauce\n",
      "[('Wegmans', 2.11), ('Giant', 2.25), ('Trader Joes', 2.38), ('Wal-Mart', 2.5)]\n",
      "milk\n",
      "[('Giant', 2.63), ('Wegmans', 2.97), ('Trader Joes', 2.97), ('Wal-Mart', 3.29)]\n",
      "bread\n",
      "[('Giant', 1.29), ('Wegmans', 1.49), ('Trader Joes', 1.57), ('Wal-Mart', 1.7)]\n"
     ]
    }
   ],
   "source": [
    "for item in shoppingPricesByStores:\n",
    "    print item\n",
    "    print sorted(shoppingPricesByStores[item].items(), key=lambda (store,amount): (amount))"
   ]
  },
  {
   "cell_type": "markdown",
   "metadata": {
    "slideshow": {
     "slide_type": "slide"
    }
   },
   "source": [
    "Let's print this out a bit neater."
   ]
  },
  {
   "cell_type": "code",
   "execution_count": 54,
   "metadata": {
    "slideshow": {
     "slide_type": "fragment"
    }
   },
   "outputs": [
    {
     "name": "stdout",
     "output_type": "stream",
     "text": [
      "spaghetti\n",
      "Wal-Mart: 0.86\n",
      "Wegmans: 0.92\n",
      "Trader Joes: 0.97\n",
      "Giant: 1.0\n",
      "\n",
      "\n",
      "eggs\n",
      "Giant: 2.04\n",
      "Trader Joes: 2.05\n",
      "Wegmans: 2.23\n",
      "Wal-Mart: 2.29\n",
      "\n",
      "\n",
      "sauce\n",
      "Wegmans: 2.11\n",
      "Giant: 2.25\n",
      "Trader Joes: 2.38\n",
      "Wal-Mart: 2.5\n",
      "\n",
      "\n",
      "milk\n",
      "Giant: 2.63\n",
      "Wegmans: 2.97\n",
      "Trader Joes: 2.97\n",
      "Wal-Mart: 3.29\n",
      "\n",
      "\n",
      "bread\n",
      "Giant: 1.29\n",
      "Wegmans: 1.49\n",
      "Trader Joes: 1.57\n",
      "Wal-Mart: 1.7\n",
      "\n",
      "\n"
     ]
    }
   ],
   "source": [
    "for item in shoppingPricesByStores:\n",
    "    print item\n",
    "    for key, value in sorted(shoppingPricesByStores[item].items(), key=lambda (store,amount): (amount)):\n",
    "        print \"%s: %s\" % (key, value)\n",
    "    print \"\\n\""
   ]
  }
 ],
 "metadata": {
  "celltoolbar": "Slideshow",
  "kernelspec": {
   "display_name": "Python 2",
   "language": "python",
   "name": "python2"
  },
  "language_info": {
   "codemirror_mode": {
    "name": "ipython",
    "version": 2
   },
   "file_extension": ".py",
   "mimetype": "text/x-python",
   "name": "python",
   "nbconvert_exporter": "python",
   "pygments_lexer": "ipython2",
   "version": "2.7.14"
  }
 },
 "nbformat": 4,
 "nbformat_minor": 2
}
