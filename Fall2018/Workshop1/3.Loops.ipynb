{
 "cells": [
  {
   "cell_type": "markdown",
   "metadata": {
    "slideshow": {
     "slide_type": "slide"
    }
   },
   "source": [
    "# Introduction to Functions, Loops and Sorting"
   ]
  },
  {
   "cell_type": "markdown",
   "metadata": {
    "slideshow": {
     "slide_type": "slide"
    }
   },
   "source": [
    "## Functions"
   ]
  },
  {
   "cell_type": "markdown",
   "metadata": {
    "slideshow": {
     "slide_type": "slide"
    }
   },
   "source": [
    "Functions allow us to do repeated tasks easily by writing the code only once.  Functions will have a name, inputs and outputs. \n",
    "\n",
    "There are functions that are built in to python, for example we have already been using the type() function, which tells us the type of variable we are using.  "
   ]
  },
  {
   "cell_type": "code",
   "execution_count": 1,
   "metadata": {
    "slideshow": {
     "slide_type": "subslide"
    }
   },
   "outputs": [
    {
     "name": "stdout",
     "output_type": "stream",
     "text": [
      "<type 'float'>\n"
     ]
    }
   ],
   "source": [
    "aVal=10.0\n",
    "print type( aVal )"
   ]
  },
  {
   "cell_type": "markdown",
   "metadata": {
    "slideshow": {
     "slide_type": "slide"
    }
   },
   "source": [
    "We can also create out own function, using def to define a function with the name and inputs.  The function will do things and then return.\n",
    "````python\n",
    "def functionName( inputs ):\n",
    "    #Operate on the inputs\n",
    "    ouputs = inputs + 5\n",
    "    return outputs;\n",
    "   ````"
   ]
  },
  {
   "cell_type": "markdown",
   "metadata": {
    "slideshow": {
     "slide_type": "subslide"
    }
   },
   "source": [
    "Some notes on functions:\n",
    "* Python allows you to have any number (including 0) of inputs and outputs.  \n",
    "* We can also define multiple functions as long as the are defined before used. \n",
    "* Functions can call other functions.\n",
    "* Variables defined in the functions are local - they don't exist after the function is returned"
   ]
  },
  {
   "cell_type": "code",
   "execution_count": 6,
   "metadata": {
    "slideshow": {
     "slide_type": "subslide"
    }
   },
   "outputs": [
    {
     "name": "stdout",
     "output_type": "stream",
     "text": [
      " input: 10 <type 'int'> 93841927585968\n",
      "outs =  20\n",
      "alpha = "
     ]
    },
    {
     "ename": "NameError",
     "evalue": "name 'alpha' is not defined",
     "output_type": "error",
     "traceback": [
      "\u001b[0;31m\u001b[0m",
      "\u001b[0;31mNameError\u001b[0mTraceback (most recent call last)",
      "\u001b[0;32m<ipython-input-6-6588d592f09f>\u001b[0m in \u001b[0;36m<module>\u001b[0;34m()\u001b[0m\n\u001b[1;32m     15\u001b[0m \u001b[0;32mprint\u001b[0m \u001b[0;34m'outs = '\u001b[0m \u001b[0;34m,\u001b[0m \u001b[0mouts\u001b[0m\u001b[0;34m\u001b[0m\u001b[0m\n\u001b[1;32m     16\u001b[0m \u001b[0;31m# This won't work because alpha was only defined within the function\u001b[0m\u001b[0;34m\u001b[0m\u001b[0;34m\u001b[0m\u001b[0m\n\u001b[0;32m---> 17\u001b[0;31m \u001b[0;32mprint\u001b[0m \u001b[0;34m'alpha = '\u001b[0m \u001b[0;34m,\u001b[0m \u001b[0malpha\u001b[0m\u001b[0;34m\u001b[0m\u001b[0m\n\u001b[0m",
      "\u001b[0;31mNameError\u001b[0m: name 'alpha' is not defined"
     ]
    }
   ],
   "source": [
    "# Function to print out info about a variable\n",
    "def printOutInfoAndMultiplyByTwo( input ):\n",
    "    print 'input:' , input , type( input ) , id( input )\n",
    "    alpha = input * 2\n",
    "    return alpha\n",
    "    \n",
    "#-#-#-#-#-#-#\n",
    "# Not in the function - this is what runs\n",
    "value = 10\n",
    "\n",
    "# Call the function using value as the input parameter\n",
    "outs = printOutInfoAndMultiplyByTwo( value )\n",
    "\n",
    "# Print out some information\n",
    "print 'outs = ' , outs\n",
    "# This won't work because alpha was only defined within the function\n",
    "print 'alpha = ' , alpha"
   ]
  },
  {
   "cell_type": "markdown",
   "metadata": {
    "slideshow": {
     "slide_type": "slide"
    }
   },
   "source": [
    "## For Loops"
   ]
  },
  {
   "cell_type": "markdown",
   "metadata": {
    "slideshow": {
     "slide_type": "subslide"
    }
   },
   "source": [
    "One of the most basic types of loops is a for loop - this allows us to iterate over a sequence."
   ]
  },
  {
   "cell_type": "markdown",
   "metadata": {
    "slideshow": {
     "slide_type": "fragment"
    }
   },
   "source": [
    "We set up a for loop using 2 things\n",
    "\n",
    "* loop variable - the value in the sequence we use\n",
    "\n",
    "* sequence - the data we iterate over"
   ]
  },
  {
   "cell_type": "markdown",
   "metadata": {
    "slideshow": {
     "slide_type": "subslide"
    }
   },
   "source": [
    "In this example, someNumbers is our sequence and thisNum is our loop variable"
   ]
  },
  {
   "cell_type": "code",
   "execution_count": 1,
   "metadata": {
    "slideshow": {
     "slide_type": "fragment"
    }
   },
   "outputs": [
    {
     "name": "stdout",
     "output_type": "stream",
     "text": [
      "-1\n",
      "4\n",
      "6\n",
      "3\n",
      "-5\n",
      "2\n",
      "-4\n",
      "9\n",
      "-8\n",
      "7\n",
      "-3\n"
     ]
    }
   ],
   "source": [
    "someNumbers = [-1, 4, 6, 3, -5, 2, -4, 9, -8, 7, -3]\n",
    "for thisNum in someNumbers:\n",
    "    print thisNum"
   ]
  },
  {
   "cell_type": "markdown",
   "metadata": {
    "slideshow": {
     "slide_type": "fragment"
    }
   },
   "source": [
    "Sometimes, it's helpful to iterate using indices.  For example, linear algebra heavy calculations will almost always use indices to make working with vectors and matrices easier.\n",
    "\n",
    "We can use the len() and range() functions to show the length and create indices"
   ]
  },
  {
   "cell_type": "code",
   "execution_count": 2,
   "metadata": {
    "slideshow": {
     "slide_type": "fragment"
    }
   },
   "outputs": [
    {
     "name": "stdout",
     "output_type": "stream",
     "text": [
      "11\n",
      "[0, 1, 2, 3, 4, 5, 6, 7, 8, 9, 10]\n"
     ]
    }
   ],
   "source": [
    "print len(someNumbers)\n",
    "print range(len(someNumbers))"
   ]
  },
  {
   "cell_type": "markdown",
   "metadata": {
    "slideshow": {
     "slide_type": "subslide"
    }
   },
   "source": [
    "Let's do the same for loop as before, but using the index to call a specific item within our list."
   ]
  },
  {
   "cell_type": "code",
   "execution_count": 3,
   "metadata": {
    "slideshow": {
     "slide_type": "fragment"
    }
   },
   "outputs": [
    {
     "name": "stdout",
     "output_type": "stream",
     "text": [
      "0 -1\n",
      "1 4\n",
      "2 6\n",
      "3 3\n",
      "4 -5\n",
      "5 2\n",
      "6 -4\n",
      "7 9\n",
      "8 -8\n",
      "9 7\n",
      "10 -3\n"
     ]
    }
   ],
   "source": [
    "for spot in range(len(someNumbers)):\n",
    "    print spot, someNumbers[spot]"
   ]
  },
  {
   "cell_type": "markdown",
   "metadata": {
    "slideshow": {
     "slide_type": "subslide"
    }
   },
   "source": [
    "You may have noticed that the second line is indented.  This is how we indicate what is in the loop.  Our loop can have many lines (all indented).  The first line that isn't indented indicates we are out of the loop."
   ]
  },
  {
   "cell_type": "code",
   "execution_count": 4,
   "metadata": {
    "slideshow": {
     "slide_type": "fragment"
    }
   },
   "outputs": [
    {
     "name": "stdout",
     "output_type": "stream",
     "text": [
      "0 -1\n",
      "Inside the loop\n",
      "1 4\n",
      "Inside the loop\n",
      "2 6\n",
      "Inside the loop\n",
      "3 3\n",
      "Inside the loop\n",
      "4 -5\n",
      "Inside the loop\n",
      "5 2\n",
      "Inside the loop\n",
      "6 -4\n",
      "Inside the loop\n",
      "7 9\n",
      "Inside the loop\n",
      "8 -8\n",
      "Inside the loop\n",
      "9 7\n",
      "Inside the loop\n",
      "10 -3\n",
      "Inside the loop\n",
      "#-# Outside the loop #-#\n"
     ]
    }
   ],
   "source": [
    "for spot in range(len(someNumbers)):\n",
    "    print spot, someNumbers[spot]\n",
    "    print \"Inside the loop\"\n",
    "print \"#-# Outside the loop #-#\""
   ]
  },
  {
   "cell_type": "markdown",
   "metadata": {
    "slideshow": {
     "slide_type": "slide"
    }
   },
   "source": [
    "## While loops"
   ]
  },
  {
   "cell_type": "markdown",
   "metadata": {
    "slideshow": {
     "slide_type": "fragment"
    }
   },
   "source": [
    "For loops are used when you have something you are iterating over - you know the length.  You can use a while loop if you don't know the number of times something will run. You stop running the loop with a convergence criterion is met."
   ]
  },
  {
   "cell_type": "markdown",
   "metadata": {
    "slideshow": {
     "slide_type": "fragment"
    }
   },
   "source": [
    "### Conceptual Example\n",
    "You can think about taking a test in two different ways:\n",
    "\n",
    "For loop:\n",
    "```python\n",
    "for problem in test:\n",
    "    \"solve problem\"\n",
    "    ```\n",
    "\n",
    "While loop:\n",
    "```python \n",
    "while percentDone < (100):\n",
    "    \"increase percentDone\"\n",
    "```"
   ]
  },
  {
   "cell_type": "markdown",
   "metadata": {
    "slideshow": {
     "slide_type": "subslide"
    }
   },
   "source": [
    "Let's set up a while loop to find the first number from our someNumbers that meets some criterion - for example the first number that is greater than 6.5.\n",
    "\n",
    "We need to initialize our criterion variable to 0 and set up an iterator to count up for us."
   ]
  },
  {
   "cell_type": "code",
   "execution_count": 5,
   "metadata": {
    "slideshow": {
     "slide_type": "fragment"
    }
   },
   "outputs": [
    {
     "name": "stdout",
     "output_type": "stream",
     "text": [
      "9\n"
     ]
    }
   ],
   "source": [
    "pushToLarge = 0\n",
    "counter = 0\n",
    "while pushToLarge < 6.5:\n",
    "    pushToLarge = someNumbers[counter]\n",
    "    counter = counter + 1\n",
    "print pushToLarge"
   ]
  },
  {
   "cell_type": "markdown",
   "metadata": {
    "slideshow": {
     "slide_type": "subslide"
    }
   },
   "source": [
    "While loops will keep iterating until their condition is met. If the condition is not met, they will keep running indefinently - this is called an infinite loop.\n",
    "\n",
    "Infinite loops can be caused by an impossible condition, or by programming error.  Use the stop button (black square) to stop this errorneous code, which will never stop. "
   ]
  },
  {
   "cell_type": "code",
   "execution_count": 6,
   "metadata": {
    "slideshow": {
     "slide_type": "fragment"
    }
   },
   "outputs": [],
   "source": [
    "#counter = 1\n",
    "#while counter > 0:\n",
    "#    counter = counter + 1\n",
    "#    print counter"
   ]
  },
  {
   "cell_type": "markdown",
   "metadata": {
    "slideshow": {
     "slide_type": "slide"
    }
   },
   "source": [
    "## Conditioning Data"
   ]
  },
  {
   "cell_type": "markdown",
   "metadata": {
    "slideshow": {
     "slide_type": "subslide"
    }
   },
   "source": [
    "We can condition our data using if-else statements and switch cases.  If-else statements allow us to do different things if a certain criterion is met or not. We can count the odds and evens in our someNumbers list."
   ]
  },
  {
   "cell_type": "markdown",
   "metadata": {
    "slideshow": {
     "slide_type": "skip"
    }
   },
   "source": [
    "The if statement starts with if and then lists a condition that may or may not be met.  In our example, this is if the modulo (or remander) after dividing by 1 is equal to one.  If one is left over, the number is odd, so we increment our odd counter.   If this condition isn't met - we go to the else, and see that we increment the evens counter. "
   ]
  },
  {
   "cell_type": "code",
   "execution_count": 7,
   "metadata": {
    "slideshow": {
     "slide_type": "fragment"
    }
   },
   "outputs": [
    {
     "name": "stdout",
     "output_type": "stream",
     "text": [
      "odds =  6\n",
      "evens =  5\n"
     ]
    }
   ],
   "source": [
    "odds = 0\n",
    "evens = 0\n",
    "for spot in range(len(someNumbers)):\n",
    "    #print spot, someNumbers[spot], someNumbers[spot]%2\n",
    "    if (someNumbers[spot]%2) == 1:\n",
    "        odds = odds + 1\n",
    "        #print someNumbers[spot], \" is odd!\"\n",
    "    else:\n",
    "        evens = evens + 1\n",
    "print \"odds = \", odds\n",
    "print \"evens = \", evens"
   ]
  },
  {
   "cell_type": "markdown",
   "metadata": {
    "slideshow": {
     "slide_type": "fragment"
    }
   },
   "source": [
    "Python comments start with #.  You can leave comments as documentation, or to not execute certain code. "
   ]
  },
  {
   "cell_type": "markdown",
   "metadata": {
    "slideshow": {
     "slide_type": "subslide"
    }
   },
   "source": [
    "If-else statements can also be stacked together, to allow for additional sorting using multiple conditions.  The way this is done in python is by using \n",
    "```python\n",
    "elif\n",
    "```\n",
    "to provide another condition. Let's sort the evens into positive and negative values."
   ]
  },
  {
   "cell_type": "code",
   "execution_count": 8,
   "metadata": {
    "slideshow": {
     "slide_type": "fragment"
    }
   },
   "outputs": [
    {
     "name": "stdout",
     "output_type": "stream",
     "text": [
      "odds =  6\n",
      "posEvens =  3\n",
      "negEvens =  2\n"
     ]
    }
   ],
   "source": [
    "odds = 0\n",
    "posEvens = 0\n",
    "negEvens = 0\n",
    "\n",
    "for spot in range(len(someNumbers)):\n",
    "    if (someNumbers[spot]%2) == (1):\n",
    "        odds = odds + 1\n",
    "    elif (someNumbers[spot]) > (0):\n",
    "        posEvens = posEvens + 1\n",
    "    else:\n",
    "        negEvens = negEvens + 1\n",
    "print \"odds = \", odds\n",
    "print \"posEvens = \", posEvens\n",
    "print \"negEvens = \", negEvens"
   ]
  },
  {
   "cell_type": "markdown",
   "metadata": {
    "slideshow": {
     "slide_type": "subslide"
    }
   },
   "source": [
    "Note: we don't need a final else if we don't care about values that don't meet our earlier criteria."
   ]
  },
  {
   "cell_type": "code",
   "execution_count": 9,
   "metadata": {
    "slideshow": {
     "slide_type": "fragment"
    }
   },
   "outputs": [
    {
     "name": "stdout",
     "output_type": "stream",
     "text": [
      "odds =  6\n",
      "posEvens =  3\n"
     ]
    }
   ],
   "source": [
    "odds = 0\n",
    "posEvens = 0\n",
    "\n",
    "for spot in range(len(someNumbers)):\n",
    "    if (someNumbers[spot]%2) == (1):\n",
    "        odds = odds + 1\n",
    "    elif (someNumbers[spot]) > (0):\n",
    "        posEvens = posEvens + 1\n",
    "\n",
    "print \"odds = \", odds\n",
    "print \"posEvens = \", posEvens"
   ]
  },
  {
   "cell_type": "markdown",
   "metadata": {
    "slideshow": {
     "slide_type": "subslide"
    }
   },
   "source": [
    "Switch Cases are specialized if-else statements - the criteria must be met exactly."
   ]
  },
  {
   "cell_type": "markdown",
   "metadata": {
    "slideshow": {
     "slide_type": "fragment"
    }
   },
   "source": [
    "Let's work on an example that changes between month numbers and month names. We first set up a dictionary that will be used for the evaulation. "
   ]
  },
  {
   "cell_type": "code",
   "execution_count": 10,
   "metadata": {
    "slideshow": {
     "slide_type": "fragment"
    }
   },
   "outputs": [],
   "source": [
    "monthSwap = {1:'Jan',2:'Feb',3:'Mar',4:'Apr',5:'May',6:'Jun',7:'Jul',8:'Aug',9:'Sep',10:'Oct',11:'Nov',12:'Dec'}"
   ]
  },
  {
   "cell_type": "markdown",
   "metadata": {
    "slideshow": {
     "slide_type": "fragment"
    }
   },
   "source": [
    "We then can use a get statement with the key to find the result:\n",
    "```python\n",
    "result = monthSwap.get(key, 'default')\n",
    "```\n",
    "The value listed in default is returned if the given key isn't present. Let's look at an example using our month dictionary"
   ]
  },
  {
   "cell_type": "code",
   "execution_count": 11,
   "metadata": {
    "slideshow": {
     "slide_type": "fragment"
    }
   },
   "outputs": [
    {
     "name": "stdout",
     "output_type": "stream",
     "text": [
      "Apr 6 1955\n",
      "Apr 6 1955\n",
      "Feb 12 1983\n",
      "Feb 12 1983\n",
      "Nov 24 1999\n",
      "Nov 24 1999\n",
      "Sep 23 2010\n",
      "Sep 23 2010\n",
      "oooooops! 15 2015\n"
     ]
    },
    {
     "ename": "KeyError",
     "evalue": "15",
     "output_type": "error",
     "traceback": [
      "\u001b[1;31m\u001b[0m",
      "\u001b[1;31mKeyError\u001b[0mTraceback (most recent call last)",
      "\u001b[1;32m<ipython-input-11-e2ccd301b189>\u001b[0m in \u001b[0;36m<module>\u001b[1;34m()\u001b[0m\n\u001b[0;32m      4\u001b[0m \u001b[1;32mfor\u001b[0m \u001b[0mspot\u001b[0m \u001b[1;32min\u001b[0m \u001b[0mrange\u001b[0m\u001b[1;33m(\u001b[0m\u001b[0mlen\u001b[0m\u001b[1;33m(\u001b[0m\u001b[0mbirthdayDays\u001b[0m\u001b[1;33m)\u001b[0m\u001b[1;33m)\u001b[0m\u001b[1;33m:\u001b[0m\u001b[1;33m\u001b[0m\u001b[0m\n\u001b[0;32m      5\u001b[0m     \u001b[1;32mprint\u001b[0m \u001b[0mmonthSwap\u001b[0m\u001b[1;33m.\u001b[0m\u001b[0mget\u001b[0m\u001b[1;33m(\u001b[0m\u001b[0mbirthdayMonths\u001b[0m\u001b[1;33m[\u001b[0m\u001b[0mspot\u001b[0m\u001b[1;33m]\u001b[0m\u001b[1;33m,\u001b[0m\u001b[1;34m\"oooooops!\"\u001b[0m\u001b[1;33m)\u001b[0m\u001b[1;33m,\u001b[0m \u001b[0mbirthdayDays\u001b[0m\u001b[1;33m[\u001b[0m\u001b[0mspot\u001b[0m\u001b[1;33m]\u001b[0m\u001b[1;33m,\u001b[0m \u001b[0mbirthdayYears\u001b[0m\u001b[1;33m[\u001b[0m\u001b[0mspot\u001b[0m\u001b[1;33m]\u001b[0m\u001b[1;33m\u001b[0m\u001b[0m\n\u001b[1;32m----> 6\u001b[1;33m     \u001b[1;32mprint\u001b[0m \u001b[0mmonthSwap\u001b[0m\u001b[1;33m[\u001b[0m\u001b[0mbirthdayMonths\u001b[0m\u001b[1;33m[\u001b[0m\u001b[0mspot\u001b[0m\u001b[1;33m]\u001b[0m\u001b[1;33m]\u001b[0m\u001b[1;33m,\u001b[0m \u001b[0mbirthdayDays\u001b[0m\u001b[1;33m[\u001b[0m\u001b[0mspot\u001b[0m\u001b[1;33m]\u001b[0m\u001b[1;33m,\u001b[0m \u001b[0mbirthdayYears\u001b[0m\u001b[1;33m[\u001b[0m\u001b[0mspot\u001b[0m\u001b[1;33m]\u001b[0m\u001b[1;33m\u001b[0m\u001b[0m\n\u001b[0m",
      "\u001b[1;31mKeyError\u001b[0m: 15"
     ]
    }
   ],
   "source": [
    "birthdayMonths = [4,2,11,9,15]\n",
    "birthdayDays = [6,12,24,23,15]\n",
    "birthdayYears = [1955,1983,1999,2010,2015]\n",
    "for spot in range(len(birthdayDays)):\n",
    "    print monthSwap.get(birthdayMonths[spot],\"oooooops!\"), birthdayDays[spot], birthdayYears[spot]\n",
    "    print monthSwap[birthdayMonths[spot]], birthdayDays[spot], birthdayYears[spot]"
   ]
  },
  {
   "cell_type": "markdown",
   "metadata": {
    "slideshow": {
     "slide_type": "subslide"
    }
   },
   "source": [
    "Similar code with if-else statements would be:"
   ]
  },
  {
   "cell_type": "code",
   "execution_count": 12,
   "metadata": {
    "slideshow": {
     "slide_type": "fragment"
    }
   },
   "outputs": [
    {
     "name": "stdout",
     "output_type": "stream",
     "text": [
      "Apr 6 1955\n",
      "Feb 12 1983\n",
      "Nov 24 1999\n",
      "Sep 23 2010\n",
      "oooooops! 15 2015\n"
     ]
    }
   ],
   "source": [
    "for spot in range(len(birthdayDays)):\n",
    "    if (birthdayMonths[spot]) == (1):\n",
    "        mon = 'Jan'\n",
    "    elif (birthdayMonths[spot]) == (2):\n",
    "        mon = 'Feb'\n",
    "    elif (birthdayMonths[spot]) == (3):\n",
    "        mon = 'Mar'\n",
    "    elif (birthdayMonths[spot]) == (4):\n",
    "        mon = 'Apr'\n",
    "    elif (birthdayMonths[spot]) == (5):\n",
    "        mon = 'May'\n",
    "    elif (birthdayMonths[spot]) == (6):\n",
    "        mon = 'Jun'\n",
    "    elif (birthdayMonths[spot]) == (7):\n",
    "        mon ='July'\n",
    "    elif (birthdayMonths[spot]) == (8):\n",
    "        mon = 'Aug'\n",
    "    elif (birthdayMonths[spot]) == (9):\n",
    "        mon = 'Sep'\n",
    "    elif (birthdayMonths[spot]) == (10):\n",
    "        mon = 'Oct'\n",
    "    elif (birthdayMonths[spot]) == (11):\n",
    "        mon = 'Nov'\n",
    "    elif (birthdayMonths[spot]) == (12):\n",
    "        mon = 'Dec'\n",
    "    else:\n",
    "        mon = 'oooooops!'\n",
    "    print mon, birthdayDays[spot], birthdayYears[spot]"
   ]
  },
  {
   "cell_type": "markdown",
   "metadata": {
    "slideshow": {
     "slide_type": "fragment"
    }
   },
   "source": [
    "You'll note that the first term, April, needs to check itself 4 times before returning an answer, versus the one operation using the key with the dictionary"
   ]
  },
  {
   "cell_type": "code",
   "execution_count": null,
   "metadata": {},
   "outputs": [],
   "source": []
  }
 ],
 "metadata": {
  "celltoolbar": "Slideshow",
  "kernelspec": {
   "display_name": "Python 2",
   "language": "python",
   "name": "python2"
  },
  "language_info": {
   "codemirror_mode": {
    "name": "ipython",
    "version": 2
   },
   "file_extension": ".py",
   "mimetype": "text/x-python",
   "name": "python",
   "nbconvert_exporter": "python",
   "pygments_lexer": "ipython2",
   "version": "2.7.15"
  }
 },
 "nbformat": 4,
 "nbformat_minor": 2
}
