{
 "cells": [
  {
   "cell_type": "markdown",
   "metadata": {},
   "source": [
    "# Modules"
   ]
  },
  {
   "cell_type": "markdown",
   "metadata": {},
   "source": [
    "## Built in Modules"
   ]
  },
  {
   "cell_type": "markdown",
   "metadata": {},
   "source": [
    "Python uses modules to make additional functionality available.  Modules can be thought of as libraries with many functions, data types and characteristics that can be used once these are loaded. "
   ]
  },
  {
   "cell_type": "markdown",
   "metadata": {},
   "source": [
    "We load modules using the import statement:\n",
    "* Highly recommend import using a name (import module as name)\n",
    "* Use the name to keep multiply defined functions separate\n",
    "* You can import only individual functions from a module\n",
    "* You can also rename functions"
   ]
  },
  {
   "cell_type": "code",
   "execution_count": 14,
   "metadata": {},
   "outputs": [
    {
     "name": "stdout",
     "output_type": "stream",
     "text": [
      "1.0\n",
      "-1.0\n"
     ]
    }
   ],
   "source": [
    "# Import all functions using a name\n",
    "import numpy as np\n",
    "# We then use the name to refer to functions from this module\n",
    "print np.sin( 1./2. * np.pi )\n",
    "\n",
    "# We can also import just some of the functions, as well as change their names\n",
    "from math import cos as mathCos\n",
    "print mathCos( np.pi )"
   ]
  },
  {
   "cell_type": "markdown",
   "metadata": {},
   "source": [
    "Some common python modules are:\n",
    "* numpy\n",
    "* matplotlib\n",
    "* math\n",
    "* scipy\n",
    "* pandas\n",
    "\n",
    "Modules based on their topic can be found: https://wiki.python.org/moin/UsefulModules"
   ]
  },
  {
   "cell_type": "markdown",
   "metadata": {},
   "source": [
    "Some modules are already included on the system.  You may have to add or update some yourself. Python has uses pip for module addition, which includes dependencies. For example, to add cython and to update matplolib:"
   ]
  },
  {
   "cell_type": "code",
   "execution_count": 15,
   "metadata": {},
   "outputs": [
    {
     "name": "stdout",
     "output_type": "stream",
     "text": [
      "Requirement already satisfied: cython in /Users/adam/anaconda2/lib/python2.7/site-packages\n",
      "\u001b[33mYou are using pip version 9.0.3, however version 18.0 is available.\n",
      "You should consider upgrading via the 'pip install --upgrade pip' command.\u001b[0m\n",
      "Requirement already up-to-date: matplotlib in /Users/adam/.local/lib/python2.7/site-packages\n",
      "Requirement already up-to-date: pyparsing!=2.0.4,!=2.1.2,!=2.1.6,>=2.0.1 in /Users/adam/.local/lib/python2.7/site-packages (from matplotlib)\n",
      "Requirement already up-to-date: backports.functools-lru-cache in /Users/adam/.local/lib/python2.7/site-packages (from matplotlib)\n",
      "Requirement already up-to-date: subprocess32 in /Users/adam/.local/lib/python2.7/site-packages (from matplotlib)\n",
      "Requirement already up-to-date: six>=1.10 in /Users/adam/anaconda2/lib/python2.7/site-packages (from matplotlib)\n",
      "Requirement already up-to-date: python-dateutil>=2.1 in /Users/adam/.local/lib/python2.7/site-packages (from matplotlib)\n",
      "Requirement already up-to-date: pytz in /Users/adam/.local/lib/python2.7/site-packages (from matplotlib)\n",
      "Requirement already up-to-date: kiwisolver>=1.0.1 in /Users/adam/.local/lib/python2.7/site-packages (from matplotlib)\n",
      "Requirement already up-to-date: numpy>=1.7.1 in /Users/adam/.local/lib/python2.7/site-packages (from matplotlib)\n",
      "Requirement already up-to-date: cycler>=0.10 in /Users/adam/anaconda2/lib/python2.7/site-packages (from matplotlib)\n",
      "Requirement already up-to-date: setuptools in /Users/adam/.local/lib/python2.7/site-packages (from kiwisolver>=1.0.1->matplotlib)\n",
      "\u001b[33mYou are using pip version 9.0.3, however version 18.0 is available.\n",
      "You should consider upgrading via the 'pip install --upgrade pip' command.\u001b[0m\n"
     ]
    }
   ],
   "source": [
    "import sys\n",
    "!pip install cython --user\n",
    "!pip install matplotlib --user --upgrade"
   ]
  },
  {
   "cell_type": "markdown",
   "metadata": {},
   "source": [
    "## Homade Modules"
   ]
  },
  {
   "cell_type": "markdown",
   "metadata": {},
   "source": [
    "You can also build your own modules: just place what you want in a python file (<fileName>.py) in your working directory.  Note that you need an empty file named __init__.py in this directory as well. You can then load your module just like the built in modules.  For example, if a file called adamsTrigs.py contained:\n",
    "```python\n",
    "import math as mt\n",
    "def printTrigVals(angle):\n",
    "    print angle,mt.sin(angle),mt.cos(angle),mt.tan(angle)\n",
    "```\n",
    "then I can load the module and use this function locally by either importing everything in the file, or just the function we are interested in."
   ]
  },
  {
   "cell_type": "code",
   "execution_count": 16,
   "metadata": {},
   "outputs": [
    {
     "name": "stdout",
     "output_type": "stream",
     "text": [
      "1.0471975512 0.866025403784 0.5 1.73205080757\n",
      "0.628318530718 0.587785252292 0.809016994375 0.726542528005\n"
     ]
    }
   ],
   "source": [
    "import adamsTrigs as aT\n",
    "aT.printTrigVals( np.pi / 3. )\n",
    "\n",
    "from adamsTrigs import printTrigVals as trigVals\n",
    "trigVals( np.pi / 5)"
   ]
  },
  {
   "cell_type": "markdown",
   "metadata": {},
   "source": [
    "## Helpful hints for modules"
   ]
  },
  {
   "cell_type": "markdown",
   "metadata": {},
   "source": [
    "### Dir"
   ]
  },
  {
   "cell_type": "markdown",
   "metadata": {},
   "source": [
    "Python has a built in command called dir to show the directory (contents) of a module. This provides lots of info, including the function names."
   ]
  },
  {
   "cell_type": "code",
   "execution_count": 17,
   "metadata": {},
   "outputs": [
    {
     "data": {
      "text/plain": [
       "['__builtins__',\n",
       " '__doc__',\n",
       " '__file__',\n",
       " '__name__',\n",
       " '__package__',\n",
       " 'mt',\n",
       " 'printTrigVals']"
      ]
     },
     "execution_count": 17,
     "metadata": {},
     "output_type": "execute_result"
    }
   ],
   "source": [
    "import adamsTrigs as aT\n",
    "dir( aT )"
   ]
  },
  {
   "cell_type": "markdown",
   "metadata": {},
   "source": [
    "We can also use dir to see what is currently available to use:"
   ]
  },
  {
   "cell_type": "code",
   "execution_count": 18,
   "metadata": {
    "scrolled": true
   },
   "outputs": [
    {
     "data": {
      "text/plain": [
       "['In',\n",
       " 'Out',\n",
       " '_',\n",
       " '_10',\n",
       " '_13',\n",
       " '_17',\n",
       " '_6',\n",
       " '__',\n",
       " '___',\n",
       " '__builtin__',\n",
       " '__builtins__',\n",
       " '__doc__',\n",
       " '__name__',\n",
       " '__package__',\n",
       " '_dh',\n",
       " '_exit_code',\n",
       " '_i',\n",
       " '_i1',\n",
       " '_i10',\n",
       " '_i11',\n",
       " '_i12',\n",
       " '_i13',\n",
       " '_i14',\n",
       " '_i15',\n",
       " '_i16',\n",
       " '_i17',\n",
       " '_i18',\n",
       " '_i2',\n",
       " '_i3',\n",
       " '_i4',\n",
       " '_i5',\n",
       " '_i6',\n",
       " '_i7',\n",
       " '_i8',\n",
       " '_i9',\n",
       " '_ih',\n",
       " '_ii',\n",
       " '_iii',\n",
       " '_oh',\n",
       " '_sh',\n",
       " 'aT',\n",
       " 'exit',\n",
       " 'get_ipython',\n",
       " 'mathCos',\n",
       " 'np',\n",
       " 'quit',\n",
       " 'sys',\n",
       " 'trigVals']"
      ]
     },
     "execution_count": 18,
     "metadata": {},
     "output_type": "execute_result"
    }
   ],
   "source": [
    "dir()"
   ]
  },
  {
   "cell_type": "markdown",
   "metadata": {},
   "source": [
    "### Main"
   ]
  },
  {
   "cell_type": "markdown",
   "metadata": {},
   "source": [
    "We can aso define code that will only run if the file is being run directly.  This will not run if the file is being loaded by another as a module. "
   ]
  },
  {
   "cell_type": "code",
   "execution_count": 19,
   "metadata": {},
   "outputs": [
    {
     "name": "stdout",
     "output_type": "stream",
     "text": [
      "This is being run from here\n"
     ]
    }
   ],
   "source": [
    "if __name__ == \"__main__\":\n",
    "    # Make a figure of the local data\n",
    "    # Print out some local variables to provide examples for later use\n",
    "    print \"This is being run from here\""
   ]
  },
  {
   "cell_type": "markdown",
   "metadata": {},
   "source": [
    "We'll see an example of this later where a figure with local data may or may not be created depending on how the file is invoked."
   ]
  }
 ],
 "metadata": {
  "kernelspec": {
   "display_name": "Python 2",
   "language": "python",
   "name": "python2"
  },
  "language_info": {
   "codemirror_mode": {
    "name": "ipython",
    "version": 2
   },
   "file_extension": ".py",
   "mimetype": "text/x-python",
   "name": "python",
   "nbconvert_exporter": "python",
   "pygments_lexer": "ipython2",
   "version": "2.7.14"
  }
 },
 "nbformat": 4,
 "nbformat_minor": 2
}
