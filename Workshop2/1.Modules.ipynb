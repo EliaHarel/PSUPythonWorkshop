{
 "cells": [
  {
   "cell_type": "markdown",
   "metadata": {},
   "source": [
    "# Modules"
   ]
  },
  {
   "cell_type": "markdown",
   "metadata": {},
   "source": [
    "## Built in Modules"
   ]
  },
  {
   "cell_type": "markdown",
   "metadata": {},
   "source": [
    "Python uses modules to make additional functionality available.  Modules can be thought of as libraries with many functions, data types and characteristics that can be used once these are loaded. "
   ]
  },
  {
   "cell_type": "markdown",
   "metadata": {},
   "source": [
    "We load modules using the import statement:\n",
    "* Highly recommend import using a name (import module as name)\n",
    "* Use the name to keep multiply defined functions separate\n",
    "* You can import only individual functions from a module\n",
    "* You can also rename functions"
   ]
  },
  {
   "cell_type": "code",
   "execution_count": 7,
   "metadata": {},
   "outputs": [
    {
     "name": "stdout",
     "output_type": "stream",
     "text": [
      "1.0\n",
      "-1.0\n"
     ]
    }
   ],
   "source": [
    "# Import all functions using a name\n",
    "import numpy as np\n",
    "# We then use the name to refer to functions from this module\n",
    "print np.sin( 1./2. * np.pi )\n",
    "\n",
    "# We can also import just some of the functions, as well as change their names\n",
    "from math import cos as mathCos\n",
    "print mathCos( np.pi )"
   ]
  },
  {
   "cell_type": "markdown",
   "metadata": {},
   "source": [
    "Some common python modules are:\n",
    "* numpy\n",
    "* matplotlib\n",
    "* math\n",
    "* scipy\n",
    "* pandas\n",
    "\n",
    "Modules based on their topic can be found: https://wiki.python.org/moin/UsefulModules"
   ]
  },
  {
   "cell_type": "markdown",
   "metadata": {},
   "source": [
    "Some modules are already included on the system.  You may have to add or update some yourself. Python has uses pip for module addition, which includes dependencies. For example, to add cython and to update matplolib:"
   ]
  },
  {
   "cell_type": "code",
   "execution_count": 8,
   "metadata": {},
   "outputs": [],
   "source": [
    "#!pip install cython --user\n",
    "#!pip install matplotlib --user --upgrade"
   ]
  },
  {
   "cell_type": "markdown",
   "metadata": {},
   "source": [
    "## Homade Modules"
   ]
  },
  {
   "cell_type": "markdown",
   "metadata": {},
   "source": [
    "You can also build your own modules: just place what you want in a python file (<fileName>.py) in your working directory.  Note that you need an empty file named __init__.py in this directory as well. You can then load your module just like the built in modules.  For example, if a file called adamsTrigs.py contained:\n",
    "```python\n",
    "import math as mt\n",
    "def printTrigVals(angle):\n",
    "    print angle,mt.sin(angle),mt.cos(angle),mt.tan(angle)\n",
    "```\n",
    "then I can load the module and use this function locally by either importing everything in the file, or just the function we are interested in."
   ]
  },
  {
   "cell_type": "code",
   "execution_count": 9,
   "metadata": {},
   "outputs": [
    {
     "name": "stdout",
     "output_type": "stream",
     "text": [
      "1.0471975512 0.866025403784 0.5 1.73205080757\n",
      "0.628318530718 0.587785252292 0.809016994375 0.726542528005\n"
     ]
    }
   ],
   "source": [
    "import adamsTrigs as aT\n",
    "aT.printTrigVals( np.pi / 3. )\n",
    "\n",
    "from adamsTrigs import printTrigVals as trigVals\n",
    "trigVals( np.pi / 5)"
   ]
  },
  {
   "cell_type": "markdown",
   "metadata": {},
   "source": [
    "## Helpful hints for modules"
   ]
  },
  {
   "cell_type": "markdown",
   "metadata": {},
   "source": [
    "### Dir"
   ]
  },
  {
   "cell_type": "markdown",
   "metadata": {},
   "source": [
    "Python has a built in command called dir to show the directory (contents) of a module. This provides lots of info, including the function names."
   ]
  },
  {
   "cell_type": "code",
   "execution_count": 10,
   "metadata": {},
   "outputs": [
    {
     "data": {
      "text/plain": [
       "['__builtins__',\n",
       " '__doc__',\n",
       " '__file__',\n",
       " '__name__',\n",
       " '__package__',\n",
       " 'mt',\n",
       " 'printTrigVals']"
      ]
     },
     "execution_count": 10,
     "metadata": {},
     "output_type": "execute_result"
    }
   ],
   "source": [
    "import adamsTrigs as aT\n",
    "dir( aT )"
   ]
  },
  {
   "cell_type": "markdown",
   "metadata": {},
   "source": [
    "We can also use dir to see what is currently available to use:"
   ]
  },
  {
   "cell_type": "code",
   "execution_count": 11,
   "metadata": {
    "scrolled": true
   },
   "outputs": [
    {
     "data": {
      "text/plain": [
       "['In',\n",
       " 'Out',\n",
       " '_',\n",
       " '_10',\n",
       " '_4',\n",
       " '_5',\n",
       " '__',\n",
       " '___',\n",
       " '__builtin__',\n",
       " '__builtins__',\n",
       " '__doc__',\n",
       " '__name__',\n",
       " '__package__',\n",
       " '_dh',\n",
       " '_exit_code',\n",
       " '_i',\n",
       " '_i1',\n",
       " '_i10',\n",
       " '_i11',\n",
       " '_i2',\n",
       " '_i3',\n",
       " '_i4',\n",
       " '_i5',\n",
       " '_i6',\n",
       " '_i7',\n",
       " '_i8',\n",
       " '_i9',\n",
       " '_ih',\n",
       " '_ii',\n",
       " '_iii',\n",
       " '_oh',\n",
       " '_sh',\n",
       " 'aT',\n",
       " 'exit',\n",
       " 'get_ipython',\n",
       " 'mathCos',\n",
       " 'np',\n",
       " 'quit',\n",
       " 'trigVals']"
      ]
     },
     "execution_count": 11,
     "metadata": {},
     "output_type": "execute_result"
    }
   ],
   "source": [
    "dir()"
   ]
  },
  {
   "cell_type": "markdown",
   "metadata": {},
   "source": [
    "### Main"
   ]
  },
  {
   "cell_type": "markdown",
   "metadata": {},
   "source": [
    "We can aso define code that will only run if the file is being run directly.  This will not run if the file is being loaded by another as a module. "
   ]
  },
  {
   "cell_type": "code",
   "execution_count": 12,
   "metadata": {},
   "outputs": [
    {
     "name": "stdout",
     "output_type": "stream",
     "text": [
      "This is being run from here\n"
     ]
    }
   ],
   "source": [
    "if __name__ == \"__main__\":\n",
    "    # Make a figure of the local data\n",
    "    # Print out some local variables to provide examples for later use\n",
    "    print \"This is being run from here\""
   ]
  },
  {
   "cell_type": "markdown",
   "metadata": {},
   "source": [
    "This is often used in files to read in data, where individual data sets are read into discrete files, which are then read into a main function as modules.  You can make figures showing individual data-sets to test if you are reading correctly in the read file.  Rather than make these each time you include that data read file as a module, you can put the plotting in an if statement like this."
   ]
  },
  {
   "cell_type": "code",
   "execution_count": null,
   "metadata": {},
   "outputs": [],
   "source": []
  }
 ],
 "metadata": {
  "kernelspec": {
   "display_name": "Python 2",
   "language": "python",
   "name": "python2"
  },
  "language_info": {
   "codemirror_mode": {
    "name": "ipython",
    "version": 2
   },
   "file_extension": ".py",
   "mimetype": "text/x-python",
   "name": "python",
   "nbconvert_exporter": "python",
   "pygments_lexer": "ipython2",
   "version": "2.7.15"
  }
 },
 "nbformat": 4,
 "nbformat_minor": 2
}
