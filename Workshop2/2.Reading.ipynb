{
 "cells": [
  {
   "cell_type": "markdown",
   "metadata": {},
   "source": [
    "# Reading in data from files"
   ]
  },
  {
   "cell_type": "markdown",
   "metadata": {},
   "source": [
    "### Basic File Actions: Open, do something and close\n",
    "Python allows us to open a file, perform an action on it (reading, writing, appending) and then close the file.  We chose the mode of the file to be consisten with the action that we want to take.  The available modes and actions are:\n",
    "* r = read only mode\n",
    "* a = append mode\n",
    "* w = write mode \n",
    "* r+ = read and write mode"
   ]
  },
  {
   "cell_type": "code",
   "execution_count": 40,
   "metadata": {},
   "outputs": [
    {
     "name": "stdout",
     "output_type": "stream",
     "text": [
      "0 10\n",
      "1 21\n",
      "2 32\n",
      "3 43\n",
      "4 54\n",
      "5 65\n",
      "6 76\n",
      "7 87\n",
      "8 98\n",
      "9 109\n",
      "\n"
     ]
    }
   ],
   "source": [
    "# ourName = open( \"filename\" , \"mode\")\n",
    "fileToRead = open( \"random.txt\", \"r\" )\n",
    "contents = fileToRead.read()\n",
    "fileToRead.close()\n",
    "print contents"
   ]
  },
  {
   "cell_type": "markdown",
   "metadata": {},
   "source": [
    "This reads our entire file in at once.  We can also read in certain numbes of characters or lines of text.\n",
    "* read: Reads in the next character - you can give it the next number of characters to read in\n",
    "* readline: Reads in an entire line\n",
    "* readilnes: Reads in the rest of the file, but splits up the input based on line\n",
    "Note that later statements start from where you are in the file, not the beginning (or even the beginning of a line)"
   ]
  },
  {
   "cell_type": "code",
   "execution_count": 41,
   "metadata": {},
   "outputs": [
    {
     "name": "stdout",
     "output_type": "stream",
     "text": [
      "0 10\n",
      "\n",
      "1 2\n",
      "['1\\n', '2 32\\n', '3 43\\n', '4 54\\n', '5 65\\n', '6 76\\n', '7 87\\n', '8 98\\n', '9 109\\n']\n"
     ]
    }
   ],
   "source": [
    "# ourName = open( \"filename\", \"mode\")\n",
    "fileToRead = open( \"random.txt\", \"r\" )\n",
    "print fileToRead.readline()\n",
    "print fileToRead.read(3) \n",
    "theRest = fileToRead.readlines() \n",
    "print theRest\n",
    "fileToRead.close()"
   ]
  },
  {
   "cell_type": "markdown",
   "metadata": {},
   "source": [
    "We can also loop over the lines of a file, which is much more efficient than reading in "
   ]
  },
  {
   "cell_type": "code",
   "execution_count": 42,
   "metadata": {},
   "outputs": [
    {
     "name": "stdout",
     "output_type": "stream",
     "text": [
      "[['0', '10'], ['1', '21'], ['2', '32'], ['3', '43'], ['4', '54'], ['5', '65'], ['6', '76'], ['7', '87'], ['8', '98'], ['9', '109']]\n"
     ]
    }
   ],
   "source": [
    "fileToRead = open( \"random.txt\", \"r\" )\n",
    "dataFormatted = []\n",
    "for line in fileToRead:\n",
    "    # Strip off the newline and split based on the space\n",
    "    dataFormatted.append( line.strip('\\n').split(' ') )\n",
    "fileToRead.close()\n",
    "print dataFormatted"
   ]
  },
  {
   "cell_type": "markdown",
   "metadata": {},
   "source": [
    "We can also write to a file and append to a file in a very similar fashion.  Note that the write will delete any file that is already there with that name."
   ]
  },
  {
   "cell_type": "code",
   "execution_count": 43,
   "metadata": {},
   "outputs": [
    {
     "name": "stdout",
     "output_type": "stream",
     "text": [
      "Is this the second line?\n",
      "Add another Line\n",
      "Appended to the end\n"
     ]
    }
   ],
   "source": [
    "# Write to a file\n",
    "fileToWrite = open( \"sampleWrite.txt\", \"w\" )\n",
    "fileToWrite.write( \"Does this show up?\" ) \n",
    "fileToWrite.close()\n",
    "\n",
    "# Write to the same file\n",
    "fileToWrite = open(\"sampleWrite.txt\", \"w\" )\n",
    "fileToWrite.write( \"Is this the second line?\" ) \n",
    "fileToWrite.write( \"\\nAdd another Line\" )\n",
    "fileToWrite.close()\n",
    "\n",
    "# Append to the file\n",
    "fileToAppend = open( \"sampleWrite.txt\", \"a\" )\n",
    "fileToAppend.write( \"\\nAppended to the end\" ) \n",
    "fileToAppend.close()\n",
    "\n",
    "# Check to see what's there\n",
    "fileToCheck = open( \"sampleWrite.txt\", \"r\" )\n",
    "print fileToCheck.read()\n",
    "fileToCheck.close()"
   ]
  },
  {
   "cell_type": "markdown",
   "metadata": {},
   "source": [
    "### Reading in regular data"
   ]
  },
  {
   "cell_type": "markdown",
   "metadata": {},
   "source": [
    "The read commands we were doing before were very poweful, but they assume you will do all of your data prep and formatting as an additional step.  The numpy module comes with two excellent functions that allow you to read input files with known formatting in an easier manner: loadtxt and genfromtext. "
   ]
  },
  {
   "cell_type": "code",
   "execution_count": 44,
   "metadata": {},
   "outputs": [
    {
     "name": "stdout",
     "output_type": "stream",
     "text": [
      "All of the data: [[  0.  10.]\n",
      " [  1.  21.]\n",
      " [  2.  32.]\n",
      " [  3.  43.]\n",
      " [  4.  54.]\n",
      " [  5.  65.]\n",
      " [  6.  76.]\n",
      " [  7.  87.]\n",
      " [  8.  98.]\n",
      " [  9. 109.]]\n",
      "Columns:  [0. 1. 2. 3. 4. 5. 6. 7. 8. 9.] [ 10.  21.  32.  43.  54.  65.  76.  87.  98. 109.]\n",
      "First Column:  [0. 1. 2. 3. 4. 5. 6. 7. 8. 9.]\n",
      "Second Column as strings: ['10' '21' '32' '43' '54' '65' '76' '87' '98' '109']\n"
     ]
    }
   ],
   "source": [
    "import numpy as np\n",
    "\n",
    "# Read in similar to before\n",
    "allData = np.loadtxt( \"random.txt\", delimiter=\" \" )\n",
    "print \"All of the data:\", allData\n",
    "\n",
    "# Break into columns\n",
    "colA, colB = np.loadtxt( \"random.txt\", unpack=True )\n",
    "print \"Columns: \", colA,colB\n",
    "\n",
    "# Read in a single column\n",
    "firstCol = np.loadtxt( \"random.txt\", usecols=[0],unpack=True )\n",
    "print \"First Column: \", firstCol\n",
    "\n",
    "# Change the type\n",
    "secColSt = np.loadtxt( \"random.txt\", dtype=str, usecols=[1], unpack=True )\n",
    "print \"Second Column as strings:\", secColSt"
   ]
  },
  {
   "cell_type": "markdown",
   "metadata": {},
   "source": [
    "Numpy's genfromtxt is used the same way, but has some additional error handling.   This can be useful if your data is incomplete, or has some errors. You can put anything you want for missing values - common choices are nan (not a number) or 0. Do something so that you can easily identify problems and either filter them out or know you are ok ignoring them."
   ]
  },
  {
   "cell_type": "code",
   "execution_count": 45,
   "metadata": {},
   "outputs": [
    {
     "name": "stdout",
     "output_type": "stream",
     "text": [
      "[ 0.  1.  2.  3. nan  5.  6.  7.  8.  9. 10. 11. 12.]\n",
      "[ 3. nan  1.  4.  1.  5.  9.  2.  6.  5.  3.  5.  9.]\n"
     ]
    }
   ],
   "source": [
    "import numpy as np\n",
    "digitNum,piVal = np.genfromtxt(\"corruptData.dat\",delimiter=\",\",unpack=True,missing_values=' ',filling_values=np.nan)\n",
    "print digitNum\n",
    "print piVal"
   ]
  },
  {
   "cell_type": "markdown",
   "metadata": {},
   "source": [
    "## Lambda functions"
   ]
  },
  {
   "cell_type": "markdown",
   "metadata": {},
   "source": [
    "Lambda functions are anonymous functions which are defined by the keywork lambda"
   ]
  },
  {
   "cell_type": "code",
   "execution_count": 46,
   "metadata": {},
   "outputs": [
    {
     "data": {
      "text/plain": [
       "9.42477796076938"
      ]
     },
     "execution_count": 46,
     "metadata": {},
     "output_type": "execute_result"
    }
   ],
   "source": [
    "import numpy as np\n",
    "multByPiLmb = lambda x: x * np.pi\n",
    "multByPiLmb(3)"
   ]
  },
  {
   "cell_type": "markdown",
   "metadata": {},
   "source": [
    "Note that this is similar to:"
   ]
  },
  {
   "cell_type": "code",
   "execution_count": 47,
   "metadata": {},
   "outputs": [
    {
     "data": {
      "text/plain": [
       "9.42477796076938"
      ]
     },
     "execution_count": 47,
     "metadata": {},
     "output_type": "execute_result"
    }
   ],
   "source": [
    "import numpy as np\n",
    "def multByPiFxn( input ):\n",
    "    return input * np.pi\n",
    "\n",
    "multByPiFxn(3)"
   ]
  },
  {
   "cell_type": "markdown",
   "metadata": {},
   "source": [
    "However, the way that the lambda function is written allows us to use it in ways that regular expressions cannot be used. For example, let's say you wanted to transform a variable as it was being read in."
   ]
  },
  {
   "cell_type": "code",
   "execution_count": 48,
   "metadata": {},
   "outputs": [
    {
     "name": "stdout",
     "output_type": "stream",
     "text": [
      "Original Columns:  [0. 1. 2. 3. 4. 5. 6. 7. 8. 9.] [ 10.  21.  32.  43.  54.  65.  76.  87.  98. 109.]\n",
      "Updated Columns:  [10. 11. 12. 13. 14. 15. 16. 17. 18. 19.] [ 10.  21.  32.  43.  54.  65.  76.  87.  98. 109.]\n"
     ]
    }
   ],
   "source": [
    "import numpy as np\n",
    "colA, colB = np.loadtxt( \"random.txt\", unpack=True )\n",
    "print \"Original Columns: \", colA,colB\n",
    "\n",
    "colC, colD = np.loadtxt( \"random.txt\", converters = {0: lambda s: int(s)+10}, unpack=True )\n",
    "print \"Updated Columns: \", colC,colD"
   ]
  },
  {
   "cell_type": "code",
   "execution_count": null,
   "metadata": {},
   "outputs": [],
   "source": []
  }
 ],
 "metadata": {
  "kernelspec": {
   "display_name": "Python 2",
   "language": "python",
   "name": "python2"
  },
  "language_info": {
   "codemirror_mode": {
    "name": "ipython",
    "version": 2
   },
   "file_extension": ".py",
   "mimetype": "text/x-python",
   "name": "python",
   "nbconvert_exporter": "python",
   "pygments_lexer": "ipython2",
   "version": "2.7.15"
  }
 },
 "nbformat": 4,
 "nbformat_minor": 2
}
