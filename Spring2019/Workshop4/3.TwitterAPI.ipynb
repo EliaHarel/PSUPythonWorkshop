{
 "cells": [
  {
   "cell_type": "markdown",
   "metadata": {},
   "source": [
    "# Twitter API"
   ]
  },
  {
   "cell_type": "markdown",
   "metadata": {},
   "source": [
    "## REST and Stream API"
   ]
  },
  {
   "cell_type": "markdown",
   "metadata": {},
   "source": [
    "There are two types of API that can be utilized to connect to twitter, the REST and Stream API. \n",
    "The Representational State Transfer (REST) API using the URLlib and will ask twitter a specific query once and return results. The Stream API connects and stays connected to twitter to provide relevant tweets basically forevery. The Stream API comes in three sizes (garden hose (1%), decahose (10%), and firehose (100%)). Listed below is documentation on how to connect to both. API keys are omitted. "
   ]
  },
  {
   "cell_type": "markdown",
   "metadata": {},
   "source": [
    "How to get your twitter api keys, please see: twitterAPIInstructions.md for more instructions. \n",
    "Go here first: https://apps.twitter.com/"
   ]
  },
  {
   "cell_type": "markdown",
   "metadata": {},
   "source": [
    "Check out the link to see how you can submit unique queries. \n",
    "https://developer.twitter.com/en/docs/tweets/search/api-reference/get-search-tweets.html"
   ]
  },
  {
   "cell_type": "markdown",
   "metadata": {},
   "source": [
    "### REST API"
   ]
  },
  {
   "cell_type": "code",
   "execution_count": null,
   "metadata": {},
   "outputs": [],
   "source": [
    "import oauth2 as oauth \n",
    "import urllib \n",
    "\n",
    "consumerKey = \"xxx\"\n",
    "consumerSecret = \"xxx\"\n",
    "accessToken = \"xxx-xxx\"\n",
    "accessTokenSecret = \"xxx\"\n",
    "searchQuery = urllib.parse.quote_plus(\"#psu\")\n",
    "#geocode = \"40,-79,5mi\"\n",
    "consumer = oauth.Consumer(key=consumerKey, secret=consumerSecret)\n",
    "token = oauth.Token(key=accessToken, secret=accessTokenSecret)\n",
    "client = oauth.Client(consumer, token)\n",
    "\n",
    "#url = \"https://api.twitter.com/1.1/search/tweets.json?q=%s&geocode=%s&include_entities=true&result_type=recent&count=100\" % (searchQuery,geocode)\n",
    "url = \"https://api.twitter.com/1.1/search/tweets.json?q=%s&include_entities=true&result_type=recent&count=100\" % (searchQuery)\n",
    "header, fhand = client.request(url, method=\"GET\")\n",
    "print(fhand)"
   ]
  },
  {
   "cell_type": "markdown",
   "metadata": {},
   "source": [
    "### Stream API"
   ]
  },
  {
   "cell_type": "code",
   "execution_count": null,
   "metadata": {},
   "outputs": [],
   "source": [
    "from tweepy.streaming import StreamListener\n",
    "from tweepy import OAuthHandler\n",
    "from tweepy import Stream\n",
    "\n",
    "\n",
    "# Go to http://apps.twitter.com and create an app.\n",
    "# The consumer key and secret will be generated for you after\n",
    "consumer_key=\"xxxx\"\n",
    "consumer_secret=\"xxxx\"\n",
    "\n",
    "# After the step above, you will be redirected to your app's page.\n",
    "# Create an access token under the the \"Your access token\" section\n",
    "access_token=\"xxx-xxxx\"\n",
    "access_token_secret=\"xxx\"\n",
    "\n",
    "\n",
    "class StdOutListener(StreamListener):\n",
    "    \"\"\" A listener handles tweets that are received from the stream.\n",
    "    This is a basic listener that just prints received tweets to stdout.\n",
    "\n",
    "    \"\"\"\n",
    "        \n",
    "    def on_data(self, data):\n",
    "        print (data)\n",
    "        return True\n",
    "\n",
    "    def on_error(self, status):\n",
    "        print (status)\n",
    "\n",
    "if __name__ == '__main__':\n",
    "    l = StdOutListener()\n",
    "    auth = OAuthHandler(consumer_key, consumer_secret)\n",
    "    auth.set_access_token(access_token, access_token_secret)\n",
    "    \n",
    "    stream = Stream(auth, l)\n",
    "    stream.filter(track=['PSU'])"
   ]
  },
  {
   "cell_type": "code",
   "execution_count": null,
   "metadata": {},
   "outputs": [],
   "source": []
  }
 ],
 "metadata": {
  "kernelspec": {
   "display_name": "Python 3",
   "language": "python",
   "name": "python3"
  },
  "language_info": {
   "codemirror_mode": {
    "name": "ipython",
    "version": 3
   },
   "file_extension": ".py",
   "mimetype": "text/x-python",
   "name": "python",
   "nbconvert_exporter": "python",
   "pygments_lexer": "ipython3",
   "version": "3.7.2"
  }
 },
 "nbformat": 4,
 "nbformat_minor": 2
}
