{
 "cells": [
  {
   "cell_type": "markdown",
   "metadata": {},
   "source": [
    "# Putting it all together"
   ]
  },
  {
   "cell_type": "markdown",
   "metadata": {},
   "source": [
    "Let's put together a few concepts to showcase how to pull this all together. First, let's get some Twitter data (simulated). Then let's parse it using regular expressions. Next, let's introduce networkx to create a graph. Finally, let's take a look at the graph!"
   ]
  },
  {
   "cell_type": "code",
   "execution_count": null,
   "metadata": {},
   "outputs": [],
   "source": [
    "tweetData = \"https://prototype.visualization.vpr.psu.edu/open/workshop/fromTwitterSample.json\""
   ]
  },
  {
   "cell_type": "code",
   "execution_count": null,
   "metadata": {
    "scrolled": false
   },
   "outputs": [],
   "source": [
    "#Used to make requests\n",
    "import urllib\n",
    "\n",
    "f = urllib.request.urlopen(tweetData)\n",
    "f.read()"
   ]
  },
  {
   "cell_type": "markdown",
   "metadata": {},
   "source": [
    "Looks like a JSON format to me. "
   ]
  },
  {
   "cell_type": "code",
   "execution_count": null,
   "metadata": {},
   "outputs": [],
   "source": [
    "import json\n",
    "\n",
    "response = urllib.request.urlopen(tweetData)\n",
    "data = json.load(response)   \n",
    "print(json.dumps(data, indent=2))"
   ]
  },
  {
   "cell_type": "code",
   "execution_count": null,
   "metadata": {},
   "outputs": [],
   "source": [
    "response = urllib.request.urlopen(tweetData)\n",
    "data = json.load(response) \n",
    "print(json.dumps(data[\"statuses\"][0], indent=2))"
   ]
  },
  {
   "cell_type": "markdown",
   "metadata": {},
   "source": [
    "Let's go through all tweets and print their message (text)"
   ]
  },
  {
   "cell_type": "code",
   "execution_count": null,
   "metadata": {},
   "outputs": [],
   "source": [
    "response = urllib.request.urlopen(tweetData)\n",
    "data = json.load(response) \n",
    "for tweets in data[\"statuses\"]: \n",
    "    print (tweets[\"text\"])"
   ]
  },
  {
   "cell_type": "markdown",
   "metadata": {},
   "source": [
    "Now use regular expressions to find all hashtags. We are going to create a graph using this data!"
   ]
  },
  {
   "cell_type": "code",
   "execution_count": null,
   "metadata": {},
   "outputs": [],
   "source": [
    "import re\n",
    "\n",
    "response = urllib.request.urlopen(tweetData)\n",
    "data = json.load(response) \n",
    "nodes = []\n",
    "links = []\n",
    "counter = 0\n",
    "for tweets in data[\"statuses\"]: \n",
    "    matches = re.findall(r'\\#\\w+', tweets[\"text\"])\n",
    "    print (matches)\n",
    "    for hashtagsFound in matches:\n",
    "        if hashtagsFound not in nodes:\n",
    "            nodes.append(hashtagsFound)\n",
    "    for source in range(len(matches)):    \n",
    "        for target in range(source+1,len(matches)):\n",
    "            links.append([matches[source],matches[target]])\n",
    "print (nodes)\n",
    "print (links)"
   ]
  },
  {
   "cell_type": "code",
   "execution_count": null,
   "metadata": {},
   "outputs": [],
   "source": [
    "import json\n",
    "from collections import OrderedDict \n",
    "outputFile = \"graph.json\"\n",
    "fileIn = open(outputFile, 'w')\n",
    "graphsize = 100\n",
    "printNodes = OrderedDict()\n",
    "printLinks = OrderedDict()\n",
    "\n",
    "j = \"\" # JSON object\n",
    "j = j + \"{\"    \n",
    "j = j + \"\"\"\\t\"nodes\": [\"\"\"\n",
    "\n",
    "for n in nodes:\n",
    "    printNodes[n] = {}\n",
    "    printNodes[n]['name'] = n\n",
    "\n",
    "for n in printNodes:\n",
    "    j = j + str(json.dumps(printNodes[n])) + \",\\n\"\n",
    "    \n",
    "j = j[:-2]\n",
    "j = j + \"\\t],\\n\"\n",
    "j = j + \"\"\"\\t\"links\":[\\n\"\"\"\n",
    "for link in links:\n",
    "    printLinks[str(link)] = {}\n",
    "    printLinks[str(link)]['source'] = nodes.index(link[0])\n",
    "    printLinks[str(link)]['target'] = nodes.index(link[1])\n",
    "for l in printLinks:\n",
    "    j = j + str(json.dumps(printLinks[l])) + \",\\n\"\n",
    "j = j[:-2]\n",
    "j = j + \"\\t]\\n\"\n",
    "j = j + \"}\"\n",
    "fileIn.write(j)\n",
    "fileIn.close()"
   ]
  },
  {
   "cell_type": "markdown",
   "metadata": {},
   "source": [
    "Now let's create a graph!"
   ]
  },
  {
   "cell_type": "code",
   "execution_count": null,
   "metadata": {},
   "outputs": [],
   "source": [
    "%%javascript\n",
    "require.config({paths: {d3: \"//d3js.org/d3.v4.min\",}}); // Home directory of D3.JS: https://d3js.org/\n",
    "// create the network (nodes and links)\n",
    "require([\"d3\"], function(d3) {\n",
    "    window.nodes = [];\n",
    "    window.links = [];\n",
    "    d3.json(\"graph.json\", function(error, graph) {\n",
    "        console.log(graph);\n",
    "        if (error) throw error;\n",
    "\n",
    "        graph.nodes.forEach(function(d,i) {\n",
    "            nodes.push({\n",
    "                name:d.name,\n",
    "                index: i,\n",
    "            })\n",
    "        })\n",
    "        graph.links.forEach(function(d,i) {\n",
    "            links.push({\n",
    "                source:nodes[d.source],\n",
    "                target:nodes[d.target],\n",
    "                index: i,\n",
    "            })\n",
    "        })\n",
    "    })\n",
    "})"
   ]
  },
  {
   "cell_type": "code",
   "execution_count": null,
   "metadata": {},
   "outputs": [],
   "source": [
    "%%javascript\n",
    "element.append('<div id=\"graph1\" style=\"min-width: 310px; height: 1000px; margin: 0 auto\"></div>');\n",
    "require.config({paths: {d3: \"//d3js.org/d3.v4.min\",}}); // Home directory of D3.JS: https://d3js.org/\n",
    "// Original Example: https://bl.ocks.org/mbostock/4062045\n",
    "require([\"d3\"], function(d3) {\n",
    "    // Use this to keep the screen clean\n",
    "    d3.select(\"div#graph1\").selectAll(\"*\").remove();    \n",
    "    \n",
    "    var width = 800, height = 1000;\n",
    "    // Create SVG\n",
    "    var svg = d3.select(\"div#graph1\").append(\"svg\")\n",
    "        .attr(\"width\", (width)+\"px\")\n",
    "        .attr(\"height\", (height)+\"px\")\n",
    "    // create color schema \n",
    "    var color = d3.scaleOrdinal(d3.schemeCategory20); // https://github.com/d3/d3-scale\n",
    "\n",
    "    var simulation = d3.forceSimulation() // https://github.com/d3/d3-force\n",
    "        .force(\"link\", d3.forceLink().id(function(d) { return d.index; }))\n",
    "        .force(\"charge\", d3.forceManyBody())\n",
    "        .force(\"center\", d3.forceCenter(width / 2, height / 2));\n",
    "    \n",
    "    var link = svg.append(\"g\") // https://www.w3schools.com/graphics/svg_line.asp\n",
    "        .attr(\"class\", \"links\")\n",
    "        .selectAll(\"line\").data(links).enter().append(\"line\")\n",
    "        .style(\"stroke\", \"black\")\n",
    "        .style(\"stroke-width\", function(d) { return \"2px\"; })  \n",
    "    \n",
    "    var node = svg.append(\"g\") // https://www.w3schools.com/graphics/svg_circle.asp\n",
    "        .attr(\"class\", \"nodes\")\n",
    "        .selectAll(\"circle\")\n",
    "        .data(nodes)\n",
    "        .enter().append(\"circle\")\n",
    "        .attr(\"r\", 5)\n",
    "        .attr(\"fill\", function(d) { return color(d.group); })\n",
    "        .call(d3.drag()\n",
    "        .on(\"start\", dragstarted)\n",
    "        .on(\"drag\", dragged)\n",
    "        .on(\"end\", dragended));\n",
    "\n",
    "    node.append(\"title\")\n",
    "        .text(function(d) { return d.name; });\n",
    "\n",
    "    simulation\n",
    "        .nodes(nodes)\n",
    "        .on(\"tick\", ticked);\n",
    "\n",
    "    simulation.force(\"link\")\n",
    "        .links(links);\n",
    "\n",
    "    function ticked() {\n",
    "        link\n",
    "            .attr(\"x1\", function(d) { return d.source.x; })\n",
    "            .attr(\"y1\", function(d) { return d.source.y; })\n",
    "            .attr(\"x2\", function(d) { return d.target.x; })\n",
    "            .attr(\"y2\", function(d) { return d.target.y; });\n",
    "\n",
    "        node\n",
    "            .attr(\"cx\", function(d) { return d.x; })\n",
    "            .attr(\"cy\", function(d) { return d.y; });\n",
    "    }\n",
    "    function dragstarted(d) {\n",
    "        if (!d3.event.active) simulation.alphaTarget(0.3).restart();\n",
    "        d.fx = d.x;\n",
    "        d.fy = d.y;\n",
    "    }\n",
    "\n",
    "    function dragged(d) {\n",
    "        d.fx = d3.event.x;\n",
    "        d.fy = d3.event.y;\n",
    "    }\n",
    "\n",
    "    function dragended(d) {\n",
    "        if (!d3.event.active) simulation.alphaTarget(0);\n",
    "        d.fx = null;\n",
    "        d.fy = null;\n",
    "    }\n",
    "})"
   ]
  },
  {
   "cell_type": "code",
   "execution_count": null,
   "metadata": {},
   "outputs": [],
   "source": []
  }
 ],
 "metadata": {
  "kernelspec": {
   "display_name": "Python 3",
   "language": "python",
   "name": "python3"
  },
  "language_info": {
   "codemirror_mode": {
    "name": "ipython",
    "version": 3
   },
   "file_extension": ".py",
   "mimetype": "text/x-python",
   "name": "python",
   "nbconvert_exporter": "python",
   "pygments_lexer": "ipython3",
   "version": "3.7.2"
  }
 },
 "nbformat": 4,
 "nbformat_minor": 2
}
