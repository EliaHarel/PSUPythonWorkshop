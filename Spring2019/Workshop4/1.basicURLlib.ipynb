{
 "cells": [
  {
   "cell_type": "markdown",
   "metadata": {},
   "source": [
    "# Using urllib"
   ]
  },
  {
   "cell_type": "markdown",
   "metadata": {
    "slideshow": {
     "slide_type": "fragment"
    }
   },
   "source": [
    "First, we need to import urllib. urllib is pretty straight forward. It goes out and downloads the document from a given website/URL. "
   ]
  },
  {
   "cell_type": "code",
   "execution_count": 2,
   "metadata": {},
   "outputs": [
    {
     "data": {
      "text/plain": [
       "b'<!DOCTYPE HTML PUBLIC \"-//W3C//DTD HTML 4.0 Transitional//EN\" \"http://www.w3.org/TR/html4/loose.dtd\">\\r\\n<html xmlns=\"http://www.w3.org/1999/xhtml\">\\r\\n\\t<head>\\r\\n\\t\\t<link href=\"//fonts.googleapis.com/css?family=Lato\" rel=\"stylesheet\">\\r\\n\\t\\t<style>\\r\\n\\t\\t\\ttable {\\r\\n\\t\\t\\t\\tfont-family: \\'Lato\\', sans-serif;\\r\\n\\r\\n\\t\\t\\t}\\r\\n\\t\\t</style>\\r\\n\\t</head>\\r\\n\\t<body>\\r\\n\\t\\t<table>\\r\\n\\t\\t<tr>\\r\\n\\t\\t\\t<th>data1</th><th>data2</th><th>data3</th>\\r\\n\\t\\t</tr>\\r\\n\\t\\t<tr>\\r\\n\\t\\t\\t<td>1</td><td>10.2</td><td>PA</td>\\r\\n\\t\\t</tr>\\r\\n\\t\\t<tr>\\r\\n\\t\\t\\t<td>2</td><td>12.2</td><td>OH</td>\\r\\n\\t\\t</tr>\\r\\n\\t\\t<tr>\\r\\n\\t\\t\\t<td>3</td><td>22.3</td><td>NY</td>\\r\\n\\t\\t</tr>\\r\\n\\t\\t</table>\\r\\n\\t</body>\\r\\n</html>'"
      ]
     },
     "execution_count": 2,
     "metadata": {},
     "output_type": "execute_result"
    }
   ],
   "source": [
    "#Used to make requests\n",
    "import urllib\n",
    "\n",
    "f = urllib.request.urlopen(\"https://prototype.visualization.vpr.psu.edu/open/workshop/\")\n",
    "f.read()"
   ]
  },
  {
   "cell_type": "markdown",
   "metadata": {},
   "source": [
    "Let's take a look at the HTML:"
   ]
  },
  {
   "cell_type": "code",
   "execution_count": 3,
   "metadata": {},
   "outputs": [
    {
     "data": {
      "text/html": [
       "<!DOCTYPE HTML PUBLIC \"-//W3C//DTD HTML 4.0 Transitional//EN\" \"http://www.w3.org/TR/html4/loose.dtd\">\n",
       "<html xmlns=\"http://www.w3.org/1999/xhtml\">\n",
       "    <head>\n",
       "        <link href=\"//fonts.googleapis.com/css?family=Lato\" rel=\"stylesheet\">\n",
       "        <style>\n",
       "            table {\n",
       "                font-family: 'Lato', sans-serif;\n",
       "\n",
       "            }\n",
       "        </style>\n",
       "    </head>\n",
       "    <body>\n",
       "        <table>\n",
       "        <tr>\n",
       "            <th>data1</th><th>data2</th><th>data3</th>\n",
       "        </tr>\n",
       "        <tr>\n",
       "            <td>1</td><td>10.2</td><td>PA</td>\n",
       "        </tr>\n",
       "        <tr>\n",
       "            <td>2</td><td>12.2</td><td>OH</td>\n",
       "        </tr>\n",
       "        <tr>\n",
       "            <td>3</td><td>22.3</td><td>NY</td>\n",
       "        </tr>\n",
       "        </table>\n",
       "    </body>\n",
       "</html>\n"
      ],
      "text/plain": [
       "<IPython.core.display.HTML object>"
      ]
     },
     "metadata": {},
     "output_type": "display_data"
    }
   ],
   "source": [
    "%%html\n",
    "<!DOCTYPE HTML PUBLIC \"-//W3C//DTD HTML 4.0 Transitional//EN\" \"http://www.w3.org/TR/html4/loose.dtd\">\n",
    "<html xmlns=\"http://www.w3.org/1999/xhtml\">\n",
    "    <head>\n",
    "        <link href=\"//fonts.googleapis.com/css?family=Lato\" rel=\"stylesheet\">\n",
    "        <style>\n",
    "            table {\n",
    "                font-family: 'Lato', sans-serif;\n",
    "\n",
    "            }\n",
    "        </style>\n",
    "    </head>\n",
    "    <body>\n",
    "        <table>\n",
    "        <tr>\n",
    "            <th>data1</th><th>data2</th><th>data3</th>\n",
    "        </tr>\n",
    "        <tr>\n",
    "            <td>1</td><td>10.2</td><td>PA</td>\n",
    "        </tr>\n",
    "        <tr>\n",
    "            <td>2</td><td>12.2</td><td>OH</td>\n",
    "        </tr>\n",
    "        <tr>\n",
    "            <td>3</td><td>22.3</td><td>NY</td>\n",
    "        </tr>\n",
    "        </table>\n",
    "    </body>\n",
    "</html>"
   ]
  },
  {
   "cell_type": "markdown",
   "metadata": {},
   "source": [
    "Let's clean this up a bit and add some line numbers as well."
   ]
  },
  {
   "cell_type": "code",
   "execution_count": 12,
   "metadata": {},
   "outputs": [
    {
     "name": "stdout",
     "output_type": "stream",
     "text": [
      "0 \t b'<!DOCTYPE HTML PUBLIC \"-//W3C//DTD HTML 4.0 Transitional//EN\" \"http://www.w3.org/TR/html4/loose.dtd\">\n",
      "1 \t <html xmlns=\"http://www.w3.org/1999/xhtml\">\n",
      "2 \t \\t<head>\n",
      "3 \t \\t\\t<link href=\"//fonts.googleapis.com/css?family=Lato\" rel=\"stylesheet\">\n",
      "4 \t \\t\\t<style>\n",
      "5 \t \\t\\t\\ttable {\n",
      "6 \t \\t\\t\\t\\tfont-family: \\'Lato\\', sans-serif;\n",
      "7 \t \n",
      "8 \t \\t\\t\\t}\n",
      "9 \t \\t\\t</style>\n",
      "10 \t \\t</head>\n",
      "11 \t \\t<body>\n",
      "12 \t \\t\\t<table>\n",
      "13 \t \\t\\t<tr>\n",
      "14 \t \\t\\t\\t<th>data1</th><th>data2</th><th>data3</th>\n",
      "15 \t \\t\\t</tr>\n",
      "16 \t \\t\\t<tr>\n",
      "17 \t \\t\\t\\t<td>1</td><td>10.2</td><td>PA</td>\n",
      "18 \t \\t\\t</tr>\n",
      "19 \t \\t\\t<tr>\n",
      "20 \t \\t\\t\\t<td>2</td><td>12.2</td><td>OH</td>\n",
      "21 \t \\t\\t</tr>\n",
      "22 \t \\t\\t<tr>\n",
      "23 \t \\t\\t\\t<td>3</td><td>22.3</td><td>NY</td>\n",
      "24 \t \\t\\t</tr>\n",
      "25 \t \\t\\t</table>\n",
      "26 \t \\t</body>\n",
      "27 \t </html>'\n"
     ]
    }
   ],
   "source": [
    "f = urllib.request.urlopen(\"https://prototype.visualization.vpr.psu.edu/open/workshop/\")\n",
    "counter = 0;\n",
    "text = str(f.read())\n",
    "for line in text.split(\"\\\\r\\\\n\"):\n",
    "    print (counter, \"\\t\", line)\n",
    "    counter = counter + 1\n"
   ]
  },
  {
   "cell_type": "markdown",
   "metadata": {},
   "source": [
    "So knowing the structure, this should be pretty easy to parse. "
   ]
  },
  {
   "cell_type": "markdown",
   "metadata": {},
   "source": [
    "Let's start by getting the headers and the data. "
   ]
  },
  {
   "cell_type": "code",
   "execution_count": 6,
   "metadata": {},
   "outputs": [
    {
     "name": "stdout",
     "output_type": "stream",
     "text": [
      "['<th>data1</th><th>data2</th><th>data3</th>', '<td>1</td><td>10.2</td><td>PA</td>', '<td>2</td><td>12.2</td><td>OH</td>', '<td>3</td><td>22.3</td><td>NY</td>']\n"
     ]
    }
   ],
   "source": [
    "f = urllib.urlopen(\"https://prototype.visualization.vpr.psu.edu/open/workshop/\")\n",
    "counter = 0;\n",
    "dataFromURL = []\n",
    "for line in f.read().split(\"\\r\\n\"):\n",
    "    cleanLine = line.replace(\"\\t\",\"\")\n",
    "    if (cleanLine.startswith(\"<th>\")) or (cleanLine.startswith(\"<td>\")):\n",
    "        dataFromURL.append(cleanLine)\n",
    "print dataFromURL"
   ]
  },
  {
   "cell_type": "markdown",
   "metadata": {},
   "source": [
    "Now let's spilt the data and combine it for a single data set. "
   ]
  },
  {
   "cell_type": "code",
   "execution_count": 23,
   "metadata": {},
   "outputs": [
    {
     "name": "stdout",
     "output_type": "stream",
     "text": [
      "Header Stuff\n",
      "['<th>data1', 'data2', 'data3</th>']\n",
      "Header - Check! ['data1', 'data2', 'data3']\n",
      "Data Stuff\n",
      "['<th>data1</th><th>data2</th><th>data3</th>', '<td>1</td><td>10.2</td><td>PA</td>', '<td>2</td><td>12.2</td><td>OH</td>', '<td>3</td><td>22.3</td><td>NY</td>']\n",
      "[['<td>1', '10.2', 'PA</td>'], ['<td>2', '12.2', 'OH</td>'], ['<td>3', '22.3', 'NY</td>']]\n",
      "Data - Check! [['1', '10.2', 'PA'], ['2', '12.2', 'OH'], ['3', '22.3', 'NY']]\n",
      "Combining Stuff\n",
      "{'data1': ['1', '2', '3'], 'data3': ['PA', 'OH', 'NY'], 'data2': ['10.2', '12.2', '22.3']}\n"
     ]
    }
   ],
   "source": [
    "header = dataFromURL[0].split(\"</th><th>\")\n",
    "print \"Header Stuff\"\n",
    "print header\n",
    "\n",
    "header[0] = header[0].replace(\"<th>\",\"\")\n",
    "header[len(header)-1] = header[len(header)-1].replace(\"</th>\",\"\")\n",
    "print \"Header - Check!\",header\n",
    "\n",
    "print \"Data Stuff\"\n",
    "print dataFromURL\n",
    "dataFromTable = []\n",
    "for line in dataFromURL[1:]:\n",
    "    dataFromTable.append(line.split(\"</td><td>\"))\n",
    "\n",
    "print dataFromTable    \n",
    "for row in range(len(dataFromTable)):\n",
    "    dataFromTable[row][0] = dataFromTable[row][0].replace(\"<td>\",\"\")\n",
    "    dataFromTable[row][len(dataFromTable[row])-1] = dataFromTable[row][len(dataFromTable[row])-1].replace(\"</td>\",\"\")\n",
    "print \"Data - Check!\", dataFromTable \n",
    "    \n",
    "# Combine the header and the data\n",
    "print \"Combining Stuff\"\n",
    "data = {}\n",
    "for colLabels in range(len(header)):\n",
    "    data[header[colLabels]] = []\n",
    "    for rowData in range(len(dataFromTable)):\n",
    "        data[header[colLabels]].append(dataFromTable[rowData][colLabels])\n",
    "print data\n"
   ]
  },
  {
   "cell_type": "markdown",
   "metadata": {},
   "source": [
    "### Regular Expressions"
   ]
  },
  {
   "cell_type": "markdown",
   "metadata": {},
   "source": [
    "Let's learn about this first.\n",
    "Link to [Learn about Regular Expressions](2.RegularExpressions.ipynb)"
   ]
  },
  {
   "cell_type": "markdown",
   "metadata": {},
   "source": [
    "Now let's try this with regular expressions. Much easier!"
   ]
  },
  {
   "cell_type": "code",
   "execution_count": 8,
   "metadata": {},
   "outputs": [
    {
     "name": "stdout",
     "output_type": "stream",
     "text": [
      "{'data1': ['3', '22.3', 'NY'], 'data3': ['3', '22.3', 'NY'], 'data2': ['3', '22.3', 'NY']}\n"
     ]
    }
   ],
   "source": [
    "import re\n",
    "\n",
    "header = re.findall(r\"<th>(.+?)</th>\", dataFromURL[0])\n",
    "dataset = {}\n",
    "for m in header:\n",
    "    dataset[m] = []\n",
    "\n",
    "for line in dataFromURL[1:]:\n",
    "    data = re.findall(r\"<td>(.+?)</td>\", line)\n",
    "    for col in dataset:\n",
    "        dataset[col] = data\n",
    "print dataset"
   ]
  },
  {
   "cell_type": "markdown",
   "metadata": {},
   "source": [
    "### But what if things weren't so.. neat?"
   ]
  },
  {
   "cell_type": "code",
   "execution_count": 9,
   "metadata": {},
   "outputs": [
    {
     "name": "stdout",
     "output_type": "stream",
     "text": [
      "0 \t<!DOCTYPE HTML PUBLIC \"-//W3C//DTD HTML 4.0 Transitional//EN\" \"http://www.w3.org/TR/html4/loose.dtd\">\n",
      "1 \t<html xmlns=\"http://www.w3.org/1999/xhtml\">\n",
      "2 \t\t<head>\n",
      "3 \t\t\t<link href=\"//fonts.googleapis.com/css?family=Lato\" rel=\"stylesheet\">\n",
      "4 \t\t\t<style>\n",
      "5 \t\t\t\ttable {\n",
      "6 \t\t\t\t\tfont-family: 'Lato', sans-serif;\n",
      "7 \t\n",
      "8 \t\t\t\t}\n",
      "9 \t\t\t</style>\n",
      "10 \t\t</header>\n",
      "11 \t\t<body>\n",
      "12 \t\t\t<table>\n",
      "13 \t\t\t<tr>\n",
      "14 \t\t\t\t<th>data1</th><th>data2</TH><th>data3</th>\n",
      "15 \t\t\t</tr>\n",
      "16 \t\t\t<tr>\n",
      "17 \t\t\t\t<TD>1</td><td>10.2</TD><td>PA</td>\n",
      "18 \t\t\t</tr>\n",
      "19 \t\t\t<tr>\n",
      "20 \t\t\t\t<td>2</td><td>12.2</td><td>OH</td>\n",
      "21 \t\t\t</tr>\n",
      "22 \t\t\t<tr>\n",
      "23 \t\t\t\t<td>3</td><td>22.3</td><td>NY</td>\n",
      "24 \t\t\t</tr>\n",
      "25 \t\t\t</tabler>\n",
      "26 \t\t<body>\n",
      "27 \t</html>\n"
     ]
    }
   ],
   "source": [
    "f = urllib.urlopen(\"https://prototype.visualization.vpr.psu.edu/open/workshop/anotherSite.html\")\n",
    "counter = 0;\n",
    "for line in f.read().split(\"\\r\\n\"):\n",
    "    print counter, \"\\t\", line\n",
    "    counter = counter + 1"
   ]
  },
  {
   "cell_type": "markdown",
   "metadata": {},
   "source": [
    "### Introducing.... Beautiful Soup!"
   ]
  },
  {
   "cell_type": "code",
   "execution_count": 10,
   "metadata": {},
   "outputs": [
    {
     "name": "stdout",
     "output_type": "stream",
     "text": [
      "<!DOCTYPE HTML PUBLIC \"-//W3C//DTD HTML 4.0 Transitional//EN\" \"http://www.w3.org/TR/html4/loose.dtd\">\n",
      "\n",
      "<html xmlns=\"http://www.w3.org/1999/xhtml\">\n",
      "<head>\n",
      "<link href=\"//fonts.googleapis.com/css?family=Lato\" rel=\"stylesheet\"/>\n",
      "<style>\r\n",
      "\t\t\ttable {\r\n",
      "\t\t\t\tfont-family: 'Lato', sans-serif;\r\n",
      "\r\n",
      "\t\t\t}\r\n",
      "\t\t</style>\n",
      "</head></html>\n",
      "<body>\n",
      "<table>\n",
      "<tr>\n",
      "<th>data1</th><th>data2</th><th>data3</th>\n",
      "</tr>\n",
      "<tr>\n",
      "<td>1</td><td>10.2</td><td>PA</td>\n",
      "</tr>\n",
      "<tr>\n",
      "<td>2</td><td>12.2</td><td>OH</td>\n",
      "</tr>\n",
      "<tr>\n",
      "<td>3</td><td>22.3</td><td>NY</td>\n",
      "</tr>\n",
      "</table></body>\n",
      "<body>\n",
      "</body>\n",
      "[<th>data1</th>, <th>data2</th>, <th>data3</th>]\n",
      "[<td>1</td>, <td>10.2</td>, <td>PA</td>, <td>2</td>, <td>12.2</td>, <td>OH</td>, <td>3</td>, <td>22.3</td>, <td>NY</td>]\n"
     ]
    }
   ],
   "source": [
    "from bs4 import BeautifulSoup\n",
    "f = urllib.urlopen(\"https://prototype.visualization.vpr.psu.edu/open/workshop/anotherSite.html\")\n",
    "soup = BeautifulSoup(f, 'html.parser')\n",
    "print soup\n",
    "print soup.findAll(\"th\")\n",
    "print soup.findAll(\"td\")"
   ]
  },
  {
   "cell_type": "markdown",
   "metadata": {},
   "source": [
    "BeautifulSoup is the way to go!"
   ]
  },
  {
   "cell_type": "code",
   "execution_count": 11,
   "metadata": {},
   "outputs": [
    {
     "name": "stdout",
     "output_type": "stream",
     "text": [
      "{u'data1': [u'3', u'22.3', u'NY'], u'data3': [u'3', u'22.3', u'NY'], u'data2': [u'3', u'22.3', u'NY']}\n"
     ]
    }
   ],
   "source": [
    "from bs4 import BeautifulSoup\n",
    "f = urllib.urlopen(\"https://prototype.visualization.vpr.psu.edu/open/workshop/anotherSite.html\")\n",
    "soup = BeautifulSoup(f, 'html.parser')\n",
    "\n",
    "dataset = {}\n",
    "\n",
    "for header in soup.findAll(\"th\"):\n",
    "    dataset[header.text] = []\n",
    "    for tr in soup.findAll('tr')[1:]:\n",
    "        temp  = []\n",
    "        for td in tr.findAll(\"td\"):\n",
    "            temp.append(td.text)\n",
    "    dataset[header.text] = temp\n",
    "print dataset"
   ]
  },
  {
   "cell_type": "markdown",
   "metadata": {},
   "source": [
    "### Used to demo layout of an html page"
   ]
  },
  {
   "cell_type": "markdown",
   "metadata": {},
   "source": [
    "I added this section to showcase the layout of most HTML files, which took way too many extra lines of code. "
   ]
  },
  {
   "cell_type": "code",
   "execution_count": 13,
   "metadata": {},
   "outputs": [
    {
     "data": {
      "application/javascript": [
       "window.data={\n",
       "  \"name\": \"HTML\", \n",
       "  \"children\": [\n",
       "    {\n",
       "      \"name\": \"header\", \n",
       "      \"children\": [\n",
       "        {\n",
       "          \"name\": \"title\"\n",
       "        }, \n",
       "        {\n",
       "          \"name\": \"sytle\"\n",
       "        }, \n",
       "        {\n",
       "          \"name\": \"script\"\n",
       "        }\n",
       "      ]\n",
       "    }, \n",
       "    {\n",
       "      \"name\": \"body\", \n",
       "      \"children\": [\n",
       "        {\n",
       "          \"name\": \"table\", \n",
       "          \"children\": [\n",
       "            {\n",
       "              \"name\": \"tr\", \n",
       "              \"children\": [\n",
       "                {\n",
       "                  \"name\": \"th\"\n",
       "                }, \n",
       "                {\n",
       "                  \"name\": \"td\"\n",
       "                }\n",
       "              ]\n",
       "            }\n",
       "          ]\n",
       "        }\n",
       "      ]\n",
       "    }\n",
       "  ]\n",
       "};"
      ],
      "text/plain": [
       "<IPython.core.display.Javascript object>"
      ]
     },
     "execution_count": 13,
     "metadata": {},
     "output_type": "execute_result"
    }
   ],
   "source": [
    "from anytree import AnyNode\n",
    "from anytree.exporter import JsonExporter\n",
    "\n",
    "HTML = AnyNode(name=\"HTML\")\n",
    "header = AnyNode(name=\"header\", parent=HTML)\n",
    "AnyNode(name=\"title\", parent=header)\n",
    "AnyNode(name=\"sytle\", parent=header)\n",
    "AnyNode(name=\"script\", parent=header)\n",
    "body = AnyNode(name=\"body\", parent=HTML)\n",
    "table = AnyNode(name=\"table\", parent=body)\n",
    "tr = AnyNode(name=\"tr\", parent=table)\n",
    "AnyNode(name=\"th\", parent=tr)\n",
    "AnyNode(name=\"td\", parent=tr)\n",
    "\n",
    "exporter = JsonExporter(indent=2, sort_keys=False)\n",
    "\n",
    "from IPython.display import Javascript\n",
    "Javascript(\"\"\"window.data={};\"\"\".format(exporter.export(HTML)))"
   ]
  },
  {
   "cell_type": "code",
   "execution_count": 14,
   "metadata": {},
   "outputs": [
    {
     "data": {
      "application/javascript": [
       "element.append('<div id=\"graph\" style=\"min-width: 310px; height: 300px; margin: 0 auto\"></div>');\n",
       "require.config({paths: {d3: \"//d3js.org/d3.v5.min\",}}); // Home directory of D3.JS: https://d3js.org/\n",
       "// Original Example: https://bl.ocks.org/mbostock/4060606\n",
       "require([\"d3\"], function(d3) {\n",
       "\n",
       "// set the dimensions and margins of the diagram\n",
       "var margin = {top: 20, right: 90, bottom: 30, left: 90},\n",
       "    width = 660 - margin.left - margin.right,\n",
       "    height = 300 - margin.top - margin.bottom;\n",
       "\n",
       "// declares a tree layout and assigns the size\n",
       "var treemap = d3.tree()\n",
       "    .size([height, width]);\n",
       "\n",
       "//  assigns the data to a hierarchy using parent-child relationships\n",
       "var nodes = d3.hierarchy(data, function(d) { return d.children; });\n",
       "\n",
       "// maps the node data to the tree layout\n",
       "nodes = treemap(nodes);\n",
       "\n",
       "var svg = d3.select(\"div#graph\").append(\"svg\")\n",
       "    .attr(\"width\", width + margin.left + margin.right)\n",
       "    .attr(\"height\", height + margin.top + margin.bottom)\n",
       "var g = svg.append(\"g\")\n",
       "    .attr(\"transform\", \"translate(\" + margin.left + \",\" + margin.top + \")\");\n",
       "\n",
       "// adds the links between the nodes\n",
       "var link = g.selectAll(\".link\").data( nodes.descendants().slice(1))\n",
       "  .enter().append(\"path\")\n",
       "    .attr(\"class\", \"link\")\n",
       "    .style(\"stroke\", \"lightgrey\")\n",
       "     .style(\"fill\", \"none\")\n",
       "    .attr(\"d\", function(d) {\n",
       "        console.log(d.parent.x,d.x)\n",
       "       return \"M\" + d.y + \",\" + d.x\n",
       "         + \"C\" + (d.y + d.parent.y) / 2 + \",\" + d.x\n",
       "         + \" \" + (d.y + d.parent.y) / 2 + \",\" + d.parent.x\n",
       "         + \" \" + d.parent.y + \",\" + d.parent.x;\n",
       "       });\n",
       "\n",
       "// adds each node as a group\n",
       "var node = g.selectAll(\".node\").data(nodes.descendants())\n",
       "    .enter().append(\"g\")\n",
       "    .attr(\"class\", function(d) { return \"node\" + (d.children ? \" node--internal\" : \" node--leaf\"); })\n",
       "    .attr(\"transform\", function(d) { return \"translate(\" + d.y + \",\" + d.x + \")\"; });\n",
       "\n",
       "\n",
       "// adds the text to the node\n",
       "node.append(\"text\")\n",
       "  .attr(\"dy\", \".35em\")\n",
       "  .style(\"text-anchor\", function(d) { return d.children ? \"end\" : \"start\"; })\n",
       "  .text(function(d) { return d.data.name; });\n",
       "\n",
       "})"
      ],
      "text/plain": [
       "<IPython.core.display.Javascript object>"
      ]
     },
     "metadata": {},
     "output_type": "display_data"
    }
   ],
   "source": [
    "%%javascript\n",
    "element.append('<div id=\"graph\" style=\"min-width: 310px; height: 300px; margin: 0 auto\"></div>');\n",
    "require.config({paths: {d3: \"//d3js.org/d3.v5.min\",}}); // Home directory of D3.JS: https://d3js.org/\n",
    "// Original Example: https://bl.ocks.org/mbostock/4060606\n",
    "require([\"d3\"], function(d3) {\n",
    "\n",
    "// set the dimensions and margins of the diagram\n",
    "var margin = {top: 20, right: 90, bottom: 30, left: 90},\n",
    "    width = 660 - margin.left - margin.right,\n",
    "    height = 300 - margin.top - margin.bottom;\n",
    "\n",
    "// declares a tree layout and assigns the size\n",
    "var treemap = d3.tree()\n",
    "    .size([height, width]);\n",
    "\n",
    "//  assigns the data to a hierarchy using parent-child relationships\n",
    "var nodes = d3.hierarchy(data, function(d) { return d.children; });\n",
    "\n",
    "// maps the node data to the tree layout\n",
    "nodes = treemap(nodes);\n",
    "\n",
    "var svg = d3.select(\"div#graph\").append(\"svg\")\n",
    "    .attr(\"width\", width + margin.left + margin.right)\n",
    "    .attr(\"height\", height + margin.top + margin.bottom)\n",
    "var g = svg.append(\"g\")\n",
    "    .attr(\"transform\", \"translate(\" + margin.left + \",\" + margin.top + \")\");\n",
    "\n",
    "// adds the links between the nodes\n",
    "var link = g.selectAll(\".link\").data( nodes.descendants().slice(1))\n",
    "  .enter().append(\"path\")\n",
    "    .attr(\"class\", \"link\")\n",
    "    .style(\"stroke\", \"lightgrey\")\n",
    "     .style(\"fill\", \"none\")\n",
    "    .attr(\"d\", function(d) {\n",
    "       return \"M\" + d.y + \",\" + d.x\n",
    "         + \"C\" + (d.y + d.parent.y) / 2 + \",\" + d.x\n",
    "         + \" \" + (d.y + d.parent.y) / 2 + \",\" + d.parent.x\n",
    "         + \" \" + d.parent.y + \",\" + d.parent.x;\n",
    "       });\n",
    "\n",
    "// adds each node as a group\n",
    "var node = g.selectAll(\".node\").data(nodes.descendants())\n",
    "    .enter().append(\"g\")\n",
    "    .attr(\"class\", function(d) { return \"node\" + (d.children ? \" node--internal\" : \" node--leaf\"); })\n",
    "    .attr(\"transform\", function(d) { return \"translate(\" + d.y + \",\" + d.x + \")\"; });\n",
    "\n",
    "\n",
    "// adds the text to the node\n",
    "node.append(\"text\")\n",
    "  .attr(\"dy\", \".35em\")\n",
    "  .style(\"text-anchor\", function(d) { return d.children ? \"end\" : \"start\"; })\n",
    "  .text(function(d) { return d.data.name; });\n",
    "\n",
    "})"
   ]
  }
 ],
 "metadata": {
  "kernelspec": {
   "display_name": "Python 3",
   "language": "python",
   "name": "python3"
  },
  "language_info": {
   "codemirror_mode": {
    "name": "ipython",
    "version": 3
   },
   "file_extension": ".py",
   "mimetype": "text/x-python",
   "name": "python",
   "nbconvert_exporter": "python",
   "pygments_lexer": "ipython3",
   "version": "3.7.1"
  }
 },
 "nbformat": 4,
 "nbformat_minor": 2
}
