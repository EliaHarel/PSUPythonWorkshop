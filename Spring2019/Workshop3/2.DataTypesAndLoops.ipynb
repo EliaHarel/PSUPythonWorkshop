{
 "cells": [
  {
   "cell_type": "markdown",
   "metadata": {},
   "source": [
    "# Faster Data Types and Loops"
   ]
  },
  {
   "cell_type": "markdown",
   "metadata": {},
   "source": [
    "Python is simple because of it's flexibility.  This notebook examines some methods for speeding things up:\n",
    "* Looping using alternate methods\n",
    "* Using numpy structures for math\n",
    "* Using pandas structure for data manipulation\n",
    "\n",
    "As a reminder:\n",
    "\n",
    "$m = 10^{-3} $ (milli)\n",
    "\n",
    "$\\mu = 10^{-6} $ (micro)\n",
    "\n",
    "$n = 10^{-9} $ (nano)\n"
   ]
  },
  {
   "cell_type": "markdown",
   "metadata": {},
   "source": [
    "## Alternate Strategies for Loops"
   ]
  },
  {
   "cell_type": "markdown",
   "metadata": {},
   "source": [
    "Loops tend to be slow in python (and in general, but compilers typically unroll for efficiency).  Let's look at some better ways of doing things."
   ]
  },
  {
   "cell_type": "code",
   "execution_count": 1,
   "metadata": {},
   "outputs": [],
   "source": [
    "import numpy as np\n",
    "someList = range(50)"
   ]
  },
  {
   "cell_type": "markdown",
   "metadata": {},
   "source": [
    "#### A basic for loop:"
   ]
  },
  {
   "cell_type": "code",
   "execution_count": 2,
   "metadata": {},
   "outputs": [
    {
     "name": "stdout",
     "output_type": "stream",
     "text": [
      "The slowest run took 4.30 times longer than the fastest. This could mean that an intermediate result is being cached.\n",
      "100000 loops, best of 3: 8.42 µs per loop\n"
     ]
    }
   ],
   "source": [
    "%%timeit\n",
    "out=[]\n",
    "for i in range( len( someList ) ):\n",
    "    out.append( someList[i] * 2 )"
   ]
  },
  {
   "cell_type": "markdown",
   "metadata": {},
   "source": [
    "#### The same thing, but in non-loop form:"
   ]
  },
  {
   "cell_type": "markdown",
   "metadata": {},
   "source": [
    "For loops have to check to see if they are complete at the end of every step - we can re-write this in a way that reduces the time greatly without that check"
   ]
  },
  {
   "cell_type": "code",
   "execution_count": 3,
   "metadata": {},
   "outputs": [
    {
     "name": "stdout",
     "output_type": "stream",
     "text": [
      "The slowest run took 13.63 times longer than the fastest. This could mean that an intermediate result is being cached.\n",
      "1000000 loops, best of 3: 570 ns per loop\n"
     ]
    }
   ],
   "source": [
    "%%timeit\n",
    "twoXSomeList = ( someList[i] * 2 for i in range( len( someList ) ) )"
   ]
  },
  {
   "cell_type": "markdown",
   "metadata": {},
   "source": [
    "#### Swapping for loops "
   ]
  },
  {
   "cell_type": "markdown",
   "metadata": {},
   "source": [
    "Enumerate and Zip can also be used for efficiency if you need to use loops with multiple variables"
   ]
  },
  {
   "cell_type": "code",
   "execution_count": 4,
   "metadata": {},
   "outputs": [
    {
     "name": "stdout",
     "output_type": "stream",
     "text": [
      "bothInd: 1.3269468329999654\n",
      "indVal:  0.9102434800006449\n",
      "zipped:  0.42603352300284314\n"
     ]
    }
   ],
   "source": [
    "import timeit as ti\n",
    "\n",
    "# Set-up\n",
    "iterMax = 10000\n",
    "incVal = 1\n",
    "aTot = range( 0, 500, incVal )\n",
    "bTot = range( 1000, 1500, incVal )\n",
    "\n",
    "# Using an index for both values\n",
    "def bothInd():\n",
    "    for indVal in range( len( aTot ) ):\n",
    "        out = aTot[indVal] * bTot[indVal]\n",
    "\n",
    "# Use an index for one value and the actual value for the other\n",
    "def indVal():\n",
    "    for indVal, aValue in enumerate( aTot ):\n",
    "        out = aValue * bTot[indVal]\n",
    "\n",
    "# Don't us any index\n",
    "def zipped():\n",
    "    for aValue, bValue in zip(aTot, bTot):\n",
    "         out = aValue * bValue\n",
    "            \n",
    "            \n",
    "print( 'bothInd:', ti.timeit( bothInd, number = iterMax ) )\n",
    "print( 'indVal: ', ti.timeit( indVal,  number = iterMax ) )\n",
    "print( 'zipped: ', ti.timeit( zipped,  number = iterMax ) )"
   ]
  },
  {
   "cell_type": "markdown",
   "metadata": {},
   "source": [
    "## Numpy structures"
   ]
  },
  {
   "cell_type": "markdown",
   "metadata": {},
   "source": [
    "Numpy has built in structures to do create efficient arrays!  There is some overhead associated with the creation of the arrays, so larger arrays have more savings"
   ]
  },
  {
   "cell_type": "code",
   "execution_count": 5,
   "metadata": {},
   "outputs": [
    {
     "name": "stdout",
     "output_type": "stream",
     "text": [
      "#-# 10 \n",
      "Numpy: 0.10019599299994297\n",
      "List:  0.07776459800152224\n",
      "\n",
      "#-# 100 \n",
      "Numpy: 0.055238162000023294\n",
      "List:  0.6829036730014195\n",
      "\n",
      "#-# 1000 \n",
      "Numpy: 0.11121881500002928\n",
      "List:  6.506387186997017\n"
     ]
    }
   ],
   "source": [
    "import numpy as np\n",
    "import timeit as ti\n",
    "iterMax = 10000\n",
    "\n",
    "# A numpy way of adding n^2 to n^3\n",
    "def numpyAdd(n):\n",
    "    a = np.arange(n) ** 2\n",
    "    b = np.arange(n) ** 3\n",
    "    return a + b\n",
    "\n",
    "# A list way of adding n^2 to n^3\n",
    "def listAdd(n):\n",
    "    a = [i ** 2 for i in range(n)]\n",
    "    b = [i ** 3 for i in range(n)]\n",
    "    return [a[i] + b[i] for i in range(n)]\n",
    "\n",
    "# Do this with an input of 10\n",
    "print( '#-# 10 ' )\n",
    "print( 'Numpy:', ti.timeit( 'numpyAdd(10)', 'from __main__ import numpyAdd', number = iterMax ) )\n",
    "print( 'List: ', ti.timeit( 'listAdd(10)',  'from __main__ import listAdd',  number = iterMax ) )\n",
    "\n",
    "# Do this with an input of 100\n",
    "print( '\\n#-# 100 ' )\n",
    "print( 'Numpy:', ti.timeit( 'numpyAdd(100)', 'from __main__ import numpyAdd', number = iterMax ) )\n",
    "print( 'List: ', ti.timeit( 'listAdd(100)',  'from __main__ import listAdd',  number = iterMax ) )\n",
    "\n",
    "# Do this with an input of 1000\n",
    "print( '\\n#-# 1000 ' )\n",
    "print( 'Numpy:', ti.timeit( 'numpyAdd(1000)', 'from __main__ import numpyAdd', number = iterMax ) )\n",
    "print( 'List: ', ti.timeit( 'listAdd(1000)',  'from __main__ import listAdd',  number = iterMax ) )"
   ]
  },
  {
   "cell_type": "markdown",
   "metadata": {},
   "source": [
    "#### Avoiding loops by using vector operations"
   ]
  },
  {
   "cell_type": "markdown",
   "metadata": {},
   "source": [
    "We can also use the built in functionality for numpy arrays to avoid loops"
   ]
  },
  {
   "cell_type": "code",
   "execution_count": 6,
   "metadata": {},
   "outputs": [],
   "source": [
    "import numpy as np\n",
    "someList = range( 500 )\n",
    "someNpArray = np.array( someList )"
   ]
  },
  {
   "cell_type": "markdown",
   "metadata": {},
   "source": [
    "A basic for loop"
   ]
  },
  {
   "cell_type": "code",
   "execution_count": 7,
   "metadata": {},
   "outputs": [
    {
     "name": "stdout",
     "output_type": "stream",
     "text": [
      "The slowest run took 5.66 times longer than the fastest. This could mean that an intermediate result is being cached.\n",
      "10000 loops, best of 3: 91.9 µs per loop\n"
     ]
    }
   ],
   "source": [
    "%%timeit\n",
    "out=[]\n",
    "for i in range( len( someList ) ):\n",
    "    out.append( someList[i] * 2 )"
   ]
  },
  {
   "cell_type": "markdown",
   "metadata": {},
   "source": [
    "We can speed this up in the same way as before"
   ]
  },
  {
   "cell_type": "code",
   "execution_count": 8,
   "metadata": {},
   "outputs": [
    {
     "name": "stdout",
     "output_type": "stream",
     "text": [
      "The slowest run took 9.45 times longer than the fastest. This could mean that an intermediate result is being cached.\n",
      "1000000 loops, best of 3: 627 ns per loop\n"
     ]
    }
   ],
   "source": [
    "%%timeit\n",
    "twoXSomeList = ( someList[i] * 2 for i in range( len( someList ) ) )"
   ]
  },
  {
   "cell_type": "markdown",
   "metadata": {},
   "source": [
    "We can do the same thing with an array."
   ]
  },
  {
   "cell_type": "code",
   "execution_count": 9,
   "metadata": {},
   "outputs": [
    {
     "name": "stdout",
     "output_type": "stream",
     "text": [
      "The slowest run took 41.69 times longer than the fastest. This could mean that an intermediate result is being cached.\n",
      "100000 loops, best of 3: 1.21 µs per loop\n"
     ]
    }
   ],
   "source": [
    "%%timeit\n",
    "twoXSomeArray = someNpArray * 2"
   ]
  },
  {
   "cell_type": "markdown",
   "metadata": {},
   "source": [
    "## Pandas structures"
   ]
  },
  {
   "cell_type": "markdown",
   "metadata": {},
   "source": [
    "Pandas is a module created for working with large data-sets efficiently.  It uses DataFrames to store information in terms of the data, the column names and the index (row) names.  None of the things shown here are time-intensive, but would be for large data sets.  Rather than manipulate the raw data, do this using Pandas"
   ]
  },
  {
   "cell_type": "code",
   "execution_count": 10,
   "metadata": {},
   "outputs": [
    {
     "name": "stdout",
     "output_type": "stream",
     "text": [
      "      ColA  ColB\n",
      "RowA   1.0  10.1\n",
      "RowB  3.14   2.1\n",
      "RowC   3.0  42.0\n"
     ]
    }
   ],
   "source": [
    "import pandas as pd\n",
    "import numpy as np\n",
    "data = np.array( [ ['X',   'ColA', 'ColB' ],\n",
    "                   ['RowA', 1.0,    10.1  ],\n",
    "                   ['RowB', 3.14,   2.1   ],\n",
    "                   ['RowC', 3.0,    42.   ] ] )\n",
    "                \n",
    "dFrame = pd.DataFrame( data    = data[1:,1:],\n",
    "                       index   = data[1:,0],\n",
    "                       columns = data[0,1:]) \n",
    "\n",
    "print( dFrame )"
   ]
  },
  {
   "cell_type": "markdown",
   "metadata": {},
   "source": [
    "We can use the index and columns variables to loop through or as counters with len"
   ]
  },
  {
   "cell_type": "code",
   "execution_count": 11,
   "metadata": {},
   "outputs": [
    {
     "name": "stdout",
     "output_type": "stream",
     "text": [
      "3\n",
      "2\n"
     ]
    }
   ],
   "source": [
    "print( len(dFrame.index) )\n",
    "print( len(dFrame.columns) )"
   ]
  },
  {
   "cell_type": "markdown",
   "metadata": {},
   "source": [
    "Pandas allows for the data to be addressed in multiple ways"
   ]
  },
  {
   "cell_type": "code",
   "execution_count": 12,
   "metadata": {},
   "outputs": [
    {
     "name": "stdout",
     "output_type": "stream",
     "text": [
      "      ColA  ColB\n",
      "RowA   1.0  10.1\n",
      "RowB  3.14   2.1\n",
      "RowC   3.0  42.0\n",
      "\n",
      "#-# Found with iat\n",
      "3.14\n",
      "#-# Found with at\n",
      "3.14\n",
      "#-# Found with iloc\n",
      "3.14\n",
      "#-# Found with loc\n",
      "3.14\n"
     ]
    }
   ],
   "source": [
    "print( dFrame )\n",
    "\n",
    "# Using at - all dimensions listed in one set of brackets\n",
    "print(\"\\n#-# Found with iat\")\n",
    "print( dFrame.iat[1,0] )\n",
    "print(\"#-# Found with at\")\n",
    "print( dFrame.at['RowB','ColA'] )\n",
    "\n",
    "# Using loc - all dimensions in separate brackets\n",
    "print(\"#-# Found with iloc\")\n",
    "print( dFrame.iloc[1][0] )\n",
    "print(\"#-# Found with loc\")\n",
    "print( dFrame.loc['RowB']['ColA'] )\n"
   ]
  },
  {
   "cell_type": "markdown",
   "metadata": {},
   "source": [
    "We can use some tools built into pandas to iterate through the data structure efficiently"
   ]
  },
  {
   "cell_type": "code",
   "execution_count": 13,
   "metadata": {},
   "outputs": [
    {
     "name": "stdout",
     "output_type": "stream",
     "text": [
      "      ColA  ColB\n",
      "RowA   1.0  10.1\n",
      "RowB  3.14   2.1\n",
      "RowC   3.0  42.0\n",
      "\n",
      "#-# Iterate through the rows in ColA\n",
      "1.0\n",
      "3.14\n",
      "3.0\n"
     ]
    }
   ],
   "source": [
    "# Print values in a column by iterating through the rows with iterrows\n",
    "print( dFrame )\n",
    "\n",
    "print(\"\\n#-# Iterate through the rows in ColA\")\n",
    "for index, row in dFrame.iterrows():\n",
    "    #print 'Index:', index\n",
    "    print( row[ 'ColA' ] )"
   ]
  },
  {
   "cell_type": "code",
   "execution_count": 14,
   "metadata": {},
   "outputs": [
    {
     "name": "stdout",
     "output_type": "stream",
     "text": [
      "      ColA  ColB\n",
      "RowA   1.0  10.1\n",
      "RowB  3.14   2.1\n",
      "RowC   3.0  42.0\n",
      "\n",
      "#-# Iterate through the cols in RowA\n",
      "1.0\n",
      "10.1\n"
     ]
    }
   ],
   "source": [
    "# Print the values in a row by iterating through the columns with iteritems\n",
    "print( dFrame )\n",
    "\n",
    "print(\"\\n#-# Iterate through the cols in RowA\")\n",
    "for index, col in dFrame.iteritems():\n",
    "    #print 'Index:', index\n",
    "    print( col[ 'RowA' ] )"
   ]
  },
  {
   "cell_type": "markdown",
   "metadata": {},
   "source": [
    "Pandas also has built in math functions known for efficiency with large data-sets"
   ]
  },
  {
   "cell_type": "code",
   "execution_count": 15,
   "metadata": {},
   "outputs": [
    {
     "name": "stdout",
     "output_type": "stream",
     "text": [
      "#-# Original\n",
      "      ColA  ColB\n",
      "RowA   1.0  10.1\n",
      "RowB  3.14   2.1\n",
      "RowC   3.0  42.0\n",
      "\n",
      "#-# With a sum column\n",
      "      ColA  ColB    sum\n",
      "RowA  1.00  10.1  11.10\n",
      "RowB  3.14   2.1   5.24\n",
      "RowC  3.00  42.0  45.00\n",
      "\n",
      "#-# Add one; not sum doesn't add 2\n",
      "      ColA  ColB    sum\n",
      "RowA  2.00  11.1  12.10\n",
      "RowB  4.14   3.1   6.24\n",
      "RowC  4.00  43.0  46.00\n"
     ]
    }
   ],
   "source": [
    "print(\"#-# Original\")\n",
    "print( dFrame )\n",
    "\n",
    "# Use sum to add up the columns within each row\n",
    "dFrame[\"ColA\"] = pd.to_numeric( dFrame[ \"ColA\" ] )\n",
    "dFrame[\"ColB\"] = pd.to_numeric( dFrame[ \"ColB\" ] )\n",
    "dFrame['sum'] = dFrame.sum( axis = 1 )\n",
    "print(\"\\n#-# With a sum column\")\n",
    "print( dFrame )\n",
    "\n",
    "# Use applymap to add 1 to all data values\n",
    "updatedDFrame = dFrame.applymap(lambda x: x+1) \n",
    "print(\"\\n#-# Add one; not sum doesn't add 2\")\n",
    "print( updatedDFrame )"
   ]
  },
  {
   "cell_type": "markdown",
   "metadata": {},
   "source": [
    "# Check yourself"
   ]
  },
  {
   "cell_type": "code",
   "execution_count": 38,
   "metadata": {},
   "outputs": [],
   "source": [
    "# Variables for use with these examples\n",
    "import numpy as np\n",
    "import pandas as pd\n",
    "\n",
    "someVals = np.arange(500)\n",
    "pandasD = np.array( [ ['X',   'Sue', 'John', 'Topher' ],\n",
    "                   ['HW0', 92., 47., 85.   ],\n",
    "                   ['MidTerm', 88., 75., 93.  ],\n",
    "                   ['HW1', 91., 94., 91.   ],\n",
    "                   ['HW1', 77.4, 86., 89.   ],\n",
    "                   ['Final', 88., 86.0, 98.   ] ] )\n",
    "classScores = pd.DataFrame( data    = pandasD[1:,1:],\n",
    "                       index   = pandasD[1:,0],\n",
    "                       columns = pandasD[0,1:]) "
   ]
  },
  {
   "cell_type": "markdown",
   "metadata": {},
   "source": [
    "Create a new variable, someValsSquared, that is the square of someVals using a non-loop for loop"
   ]
  },
  {
   "cell_type": "code",
   "execution_count": 39,
   "metadata": {},
   "outputs": [],
   "source": [
    "# Try it here\n"
   ]
  },
  {
   "cell_type": "markdown",
   "metadata": {},
   "source": [
    "Add the values in someVals and someValsSquared together using zip to create the variable someAddedVals"
   ]
  },
  {
   "cell_type": "code",
   "execution_count": 40,
   "metadata": {},
   "outputs": [],
   "source": [
    "# Try it here\n"
   ]
  },
  {
   "cell_type": "markdown",
   "metadata": {},
   "source": [
    "What is the average score for each of the graded objects in classScores? What is the average score for each student (assuming all grades are weighted equally)?"
   ]
  },
  {
   "cell_type": "code",
   "execution_count": 37,
   "metadata": {},
   "outputs": [],
   "source": [
    "# Try it here\n"
   ]
  },
  {
   "cell_type": "code",
   "execution_count": null,
   "metadata": {},
   "outputs": [],
   "source": []
  }
 ],
 "metadata": {
  "kernelspec": {
   "display_name": "Python 3",
   "language": "python",
   "name": "python3"
  },
  "language_info": {
   "codemirror_mode": {
    "name": "ipython",
    "version": 3
   },
   "file_extension": ".py",
   "mimetype": "text/x-python",
   "name": "python",
   "nbconvert_exporter": "python",
   "pygments_lexer": "ipython3",
   "version": "3.6.7"
  }
 },
 "nbformat": 4,
 "nbformat_minor": 2
}
