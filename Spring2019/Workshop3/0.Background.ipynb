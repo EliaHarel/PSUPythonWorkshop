{
 "cells": [
  {
   "cell_type": "markdown",
   "metadata": {},
   "source": [
    "# Installing what we need"
   ]
  },
  {
   "cell_type": "markdown",
   "metadata": {},
   "source": [
    "If you don't have these available on your jupyter installation, you will need to install them. You can see if you need to install them by trying to import the module.  If it doesn't work, you'll have to uncomment the next line to install.  Installation may take a few minutes and you may get a pip version warning that you can ignore. Note that if you had an earlier version of python and pip installed, you may need to modify the command to be pip3.7 rather than just pip."
   ]
  },
  {
   "cell_type": "markdown",
   "metadata": {},
   "source": [
    "## Numpy"
   ]
  },
  {
   "cell_type": "code",
   "execution_count": 1,
   "metadata": {},
   "outputs": [],
   "source": [
    "#import numpy as np\n",
    "# If this gives an error, uncomment and run the next cell"
   ]
  },
  {
   "cell_type": "code",
   "execution_count": 3,
   "metadata": {},
   "outputs": [
    {
     "name": "stdout",
     "output_type": "stream",
     "text": [
      "Collecting numpy==1.15.3\n",
      "  Using cached https://files.pythonhosted.org/packages/16/21/2e88568c134cc3c8d22af290865e2abbd86efa58a1358ffcb19b6c74f9a3/numpy-1.15.3-cp36-cp36m-manylinux1_x86_64.whl\n",
      "Installing collected packages: numpy\n",
      "Successfully installed numpy-1.15.3\n"
     ]
    }
   ],
   "source": [
    "# Note that we need an older version of numpy due to a pytables error for the hdf5\n",
    "!pip3 install numpy==1.15.3 "
   ]
  },
  {
   "cell_type": "markdown",
   "metadata": {},
   "source": [
    "## Pandas"
   ]
  },
  {
   "cell_type": "code",
   "execution_count": 4,
   "metadata": {},
   "outputs": [],
   "source": [
    "import pandas as pd\n",
    "# If this gives an error, uncomment and run the next cell"
   ]
  },
  {
   "cell_type": "code",
   "execution_count": 4,
   "metadata": {},
   "outputs": [],
   "source": [
    "#!pip install pandas --user"
   ]
  },
  {
   "cell_type": "markdown",
   "metadata": {},
   "source": [
    "## Tables"
   ]
  },
  {
   "cell_type": "code",
   "execution_count": 5,
   "metadata": {},
   "outputs": [],
   "source": [
    "import tables as tb\n",
    "# if this gives an error, uncomment and run the next cell"
   ]
  },
  {
   "cell_type": "code",
   "execution_count": 6,
   "metadata": {},
   "outputs": [
    {
     "name": "stdout",
     "output_type": "stream",
     "text": [
      "Collecting tables\n",
      "  Downloading https://files.pythonhosted.org/packages/d7/1b/21f4c7f296b718575c17ef25e61c05742a283c45077b4c8d5a190b3e0b59/tables-3.4.4-cp36-cp36m-manylinux1_x86_64.whl (3.8MB)\n",
      "\u001b[K    100% |████████████████████████████████| 3.8MB 327kB/s eta 0:00:01\n",
      "\u001b[?25hCollecting six>=1.9.0 (from tables)\n",
      "  Using cached https://files.pythonhosted.org/packages/73/fb/00a976f728d0d1fecfe898238ce23f502a721c0ac0ecfedb80e0d88c64e9/six-1.12.0-py2.py3-none-any.whl\n",
      "Collecting numpy>=1.8.0 (from tables)\n",
      "  Using cached https://files.pythonhosted.org/packages/35/d5/4f8410ac303e690144f0a0603c4b8fd3b986feb2749c435f7cdbb288f17e/numpy-1.16.2-cp36-cp36m-manylinux1_x86_64.whl\n",
      "Collecting numexpr>=2.5.2 (from tables)\n",
      "  Downloading https://files.pythonhosted.org/packages/0e/13/d38d56c4c49e50b35b6912c80d89f856d50aff605c9e3a4dbba91fc3df44/numexpr-2.6.9-cp36-cp36m-manylinux1_x86_64.whl (163kB)\n",
      "\u001b[K    100% |████████████████████████████████| 163kB 2.5MB/s eta 0:00:01\n",
      "\u001b[?25hInstalling collected packages: six, numpy, numexpr, tables\n",
      "Successfully installed numexpr-2.6.9 numpy-1.16.2 six-1.12.0 tables-3.4.4\n"
     ]
    }
   ],
   "source": [
    "!pip3 install tables --user"
   ]
  },
  {
   "cell_type": "markdown",
   "metadata": {},
   "source": [
    "## Multiprocessing"
   ]
  },
  {
   "cell_type": "code",
   "execution_count": null,
   "metadata": {},
   "outputs": [],
   "source": [
    "import multiprocessing as mp\n",
    "# If this gives an error, uncomment and run the next cell"
   ]
  },
  {
   "cell_type": "code",
   "execution_count": null,
   "metadata": {},
   "outputs": [],
   "source": [
    "#!pip install multiprocessing --user"
   ]
  },
  {
   "cell_type": "markdown",
   "metadata": {},
   "source": [
    "## Cython"
   ]
  },
  {
   "cell_type": "code",
   "execution_count": 10,
   "metadata": {},
   "outputs": [
    {
     "name": "stdout",
     "output_type": "stream",
     "text": [
      "Collecting cython\n",
      "  Using cached https://files.pythonhosted.org/packages/e1/fd/711507fa396064bf716493861d6955af45369d2c470548e34af20b79d4d4/Cython-0.29.6-cp36-cp36m-manylinux1_x86_64.whl\n",
      "Installing collected packages: cython\n",
      "Successfully installed cython-0.29.6\n"
     ]
    }
   ],
   "source": [
    "!pip3 install cython --user"
   ]
  },
  {
   "cell_type": "markdown",
   "metadata": {},
   "source": [
    "# Timeit"
   ]
  },
  {
   "cell_type": "markdown",
   "metadata": {},
   "source": [
    "We are going to use the timeit function in order to calculate the time for different codes to run in order to compare methods.  We will use this in three different ways"
   ]
  },
  {
   "cell_type": "markdown",
   "metadata": {},
   "source": [
    "## Functions without inputs"
   ]
  },
  {
   "cell_type": "markdown",
   "metadata": {},
   "source": [
    "Time a function that has no inputs.  Note that we control the number of iterations"
   ]
  },
  {
   "cell_type": "code",
   "execution_count": 6,
   "metadata": {},
   "outputs": [
    {
     "name": "stdout",
     "output_type": "stream",
     "text": [
      "Total Time: 0.014206493000529008\n",
      "Total Time: 0.07461136700294446\n"
     ]
    }
   ],
   "source": [
    "import timeit as ti\n",
    "iterMaxA = 10000\n",
    "iterMaxB = 100000\n",
    "\n",
    "def makeFloat( ):\n",
    "    valB = float( '5' )\n",
    "    \n",
    "print( 'Total Time:', ti.timeit( makeFloat, number = iterMaxA ) )\n",
    "print( 'Total Time:', ti.timeit( makeFloat, number = iterMaxB ) )"
   ]
  },
  {
   "cell_type": "markdown",
   "metadata": {},
   "source": [
    "## Functions with inputs"
   ]
  },
  {
   "cell_type": "markdown",
   "metadata": {},
   "source": [
    "The time for a function that requires inputs"
   ]
  },
  {
   "cell_type": "code",
   "execution_count": 7,
   "metadata": {},
   "outputs": [
    {
     "name": "stdout",
     "output_type": "stream",
     "text": [
      "Numpy: 0.11789564799983054\n"
     ]
    }
   ],
   "source": [
    "import numpy as np\n",
    "import timeit as ti\n",
    "iterMax = 10000\n",
    "\n",
    "def numpyAdd(n):\n",
    "    a = np.arange(n) ** 2\n",
    "    b = np.arange(n) ** 3\n",
    "    return a + b\n",
    "\n",
    "print( 'Numpy:', ti.timeit( 'numpyAdd(10)', 'from __main__ import numpyAdd', number = iterMax ) )"
   ]
  },
  {
   "cell_type": "markdown",
   "metadata": {},
   "source": [
    "## Timing entire cells"
   ]
  },
  {
   "cell_type": "markdown",
   "metadata": {},
   "source": [
    "Time to run the cell, it will repeat some number of times that varies to get roughly a 5 second runtime"
   ]
  },
  {
   "cell_type": "code",
   "execution_count": 8,
   "metadata": {},
   "outputs": [
    {
     "name": "stdout",
     "output_type": "stream",
     "text": [
      "10000 loops, best of 3: 93.2 µs per loop\n"
     ]
    }
   ],
   "source": [
    "%%timeit\n",
    "out=[]\n",
    "someList = range(500)\n",
    "for i in range( len( someList ) ):\n",
    "    out.append( someList[i] * 2 )"
   ]
  },
  {
   "cell_type": "code",
   "execution_count": null,
   "metadata": {},
   "outputs": [],
   "source": []
  }
 ],
 "metadata": {
  "kernelspec": {
   "display_name": "Python 3",
   "language": "python",
   "name": "python3"
  },
  "language_info": {
   "codemirror_mode": {
    "name": "ipython",
    "version": 3
   },
   "file_extension": ".py",
   "mimetype": "text/x-python",
   "name": "python",
   "nbconvert_exporter": "python",
   "pygments_lexer": "ipython3",
   "version": "3.6.7"
  }
 },
 "nbformat": 4,
 "nbformat_minor": 2
}
