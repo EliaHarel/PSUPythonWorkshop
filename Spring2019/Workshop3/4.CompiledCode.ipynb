{
 "cells": [
  {
   "cell_type": "markdown",
   "metadata": {},
   "source": [
    "# Compiled Code"
   ]
  },
  {
   "cell_type": "markdown",
   "metadata": {},
   "source": [
    "Python is a great code choice for beginners as the benefit of the readability and portability typically outweigh the low performance.  However, there are methods to speed up python execution, both within python itself and calling other codes written in faster languages for computationally heavy things.  In this section, we go over:\n",
    "* Pre-compiling python files (trivial, but small gains)\n",
    "* Wrapping compiled code (easy if you already have the code written)\n",
    "* Using a compiled lanuguage within python\n",
    "\n",
    "Note that you will need to have any compilers used (fotran, c) available if you wish to use these."
   ]
  },
  {
   "cell_type": "markdown",
   "metadata": {},
   "source": [
    "## Pre-compiling python code"
   ]
  },
  {
   "cell_type": "markdown",
   "metadata": {},
   "source": [
    "Python compiles to pyc files, which are used for future execution if there were no changes to the python script The pyc file should be created automatically.  You can also do this manually with py_compile:"
   ]
  },
  {
   "cell_type": "code",
   "execution_count": 15,
   "metadata": {},
   "outputs": [],
   "source": [
    "import py_compile as pyC\n",
    "pyC.compile('abc.py')"
   ]
  },
  {
   "cell_type": "markdown",
   "metadata": {},
   "source": [
    "You can also compile all of the files in a directory using the command:\n",
    "python -m compileall .\n",
    "\n",
    "Note that this might speed some longer, more complicated scripts up, but will likely not provide large performance gains."
   ]
  },
  {
   "cell_type": "markdown",
   "metadata": {},
   "source": [
    "## Wrapping code"
   ]
  },
  {
   "cell_type": "code",
   "execution_count": null,
   "metadata": {},
   "outputs": [],
   "source": []
  },
  {
   "cell_type": "code",
   "execution_count": 8,
   "metadata": {},
   "outputs": [
    {
     "name": "stdout",
     "output_type": "stream",
     "text": [
      "\u001b[39mrunning build\u001b[0m\n",
      "\u001b[39mrunning config_cc\u001b[0m\n",
      "\u001b[39munifing config_cc, config, build_clib, build_ext, build commands --compiler options\u001b[0m\n",
      "\u001b[39mrunning config_fc\u001b[0m\n",
      "\u001b[39munifing config_fc, config, build_clib, build_ext, build commands --fcompiler options\u001b[0m\n",
      "\u001b[39mrunning build_src\u001b[0m\n",
      "\u001b[39mbuild_src\u001b[0m\n",
      "\u001b[39mbuilding extension \"factorial\" sources\u001b[0m\n",
      "\u001b[39mf2py options: []\u001b[0m\n",
      "\u001b[39mf2py:> /var/folders/n4/d8fdv4ns143gxvy28jrrr1nr0000gp/T/tmpvp1V9V/src.macosx-10.6-x86_64-2.7/factorialmodule.c\u001b[0m\n",
      "\u001b[39mcreating /var/folders/n4/d8fdv4ns143gxvy28jrrr1nr0000gp/T/tmpvp1V9V/src.macosx-10.6-x86_64-2.7\u001b[0m\n",
      "Reading fortran codes...\n",
      "\tReading file 'factorial.f' (format:fix,strict)\n",
      "Post-processing...\n",
      "\tBlock: factorial\n",
      "\t\t\tBlock: fact\n",
      "Post-processing (stage 2)...\n",
      "Building modules...\n",
      "\tBuilding module \"factorial\"...\n",
      "\t\tConstructing wrapper function \"fact\"...\n",
      "\t\t  fact(n,factval)\n",
      "\tWrote C/API module \"factorial\" to file \"/var/folders/n4/d8fdv4ns143gxvy28jrrr1nr0000gp/T/tmpvp1V9V/src.macosx-10.6-x86_64-2.7/factorialmodule.c\"\n",
      "\u001b[39m  adding '/var/folders/n4/d8fdv4ns143gxvy28jrrr1nr0000gp/T/tmpvp1V9V/src.macosx-10.6-x86_64-2.7/fortranobject.c' to sources.\u001b[0m\n",
      "\u001b[39m  adding '/var/folders/n4/d8fdv4ns143gxvy28jrrr1nr0000gp/T/tmpvp1V9V/src.macosx-10.6-x86_64-2.7' to include_dirs.\u001b[0m\n",
      "\u001b[39mcopying /anaconda2/lib/python2.7/site-packages/numpy/f2py/src/fortranobject.c -> /var/folders/n4/d8fdv4ns143gxvy28jrrr1nr0000gp/T/tmpvp1V9V/src.macosx-10.6-x86_64-2.7\u001b[0m\n",
      "\u001b[39mcopying /anaconda2/lib/python2.7/site-packages/numpy/f2py/src/fortranobject.h -> /var/folders/n4/d8fdv4ns143gxvy28jrrr1nr0000gp/T/tmpvp1V9V/src.macosx-10.6-x86_64-2.7\u001b[0m\n",
      "\u001b[39mbuild_src: building npy-pkg config files\u001b[0m\n",
      "\u001b[39mrunning build_ext\u001b[0m\n",
      "\u001b[39mcustomize UnixCCompiler\u001b[0m\n",
      "\u001b[39mcustomize UnixCCompiler using build_ext\u001b[0m\n",
      "\u001b[39mget_default_fcompiler: matching types: '['gnu95', 'nag', 'absoft', 'ibm', 'intel', 'gnu', 'g95', 'pg']'\u001b[0m\n",
      "\u001b[39mcustomize Gnu95FCompiler\u001b[0m\n",
      "\u001b[39mFound executable /usr/local/bin/gfortran\u001b[0m\n",
      "\u001b[39mcustomize Gnu95FCompiler\u001b[0m\n",
      "\u001b[39mcustomize Gnu95FCompiler using build_ext\u001b[0m\n",
      "\u001b[39mbuilding 'factorial' extension\u001b[0m\n",
      "\u001b[39mcompiling C sources\u001b[0m\n",
      "\u001b[39mC compiler: gcc -fno-strict-aliasing -I/anaconda2/include -arch x86_64 -DNDEBUG -g -fwrapv -O3 -Wall -Wstrict-prototypes\n",
      "\u001b[0m\n",
      "\u001b[39mcreating /var/folders/n4/d8fdv4ns143gxvy28jrrr1nr0000gp/T/tmpvp1V9V/var\u001b[0m\n",
      "\u001b[39mcreating /var/folders/n4/d8fdv4ns143gxvy28jrrr1nr0000gp/T/tmpvp1V9V/var/folders\u001b[0m\n",
      "\u001b[39mcreating /var/folders/n4/d8fdv4ns143gxvy28jrrr1nr0000gp/T/tmpvp1V9V/var/folders/n4\u001b[0m\n",
      "\u001b[39mcreating /var/folders/n4/d8fdv4ns143gxvy28jrrr1nr0000gp/T/tmpvp1V9V/var/folders/n4/d8fdv4ns143gxvy28jrrr1nr0000gp\u001b[0m\n",
      "\u001b[39mcreating /var/folders/n4/d8fdv4ns143gxvy28jrrr1nr0000gp/T/tmpvp1V9V/var/folders/n4/d8fdv4ns143gxvy28jrrr1nr0000gp/T\u001b[0m\n",
      "\u001b[39mcreating /var/folders/n4/d8fdv4ns143gxvy28jrrr1nr0000gp/T/tmpvp1V9V/var/folders/n4/d8fdv4ns143gxvy28jrrr1nr0000gp/T/tmpvp1V9V\u001b[0m\n",
      "\u001b[39mcreating /var/folders/n4/d8fdv4ns143gxvy28jrrr1nr0000gp/T/tmpvp1V9V/var/folders/n4/d8fdv4ns143gxvy28jrrr1nr0000gp/T/tmpvp1V9V/src.macosx-10.6-x86_64-2.7\u001b[0m\n",
      "\u001b[39mcompile options: '-I/var/folders/n4/d8fdv4ns143gxvy28jrrr1nr0000gp/T/tmpvp1V9V/src.macosx-10.6-x86_64-2.7 -I/anaconda2/lib/python2.7/site-packages/numpy/core/include -I/anaconda2/include/python2.7 -c'\u001b[0m\n",
      "\u001b[39mgcc: /var/folders/n4/d8fdv4ns143gxvy28jrrr1nr0000gp/T/tmpvp1V9V/src.macosx-10.6-x86_64-2.7/factorialmodule.c\u001b[0m\n",
      "In file included from /var/folders/n4/d8fdv4ns143gxvy28jrrr1nr0000gp/T/tmpvp1V9V/src.macosx-10.6-x86_64-2.7/factorialmodule.c:15:\n",
      "In file included from /var/folders/n4/d8fdv4ns143gxvy28jrrr1nr0000gp/T/tmpvp1V9V/src.macosx-10.6-x86_64-2.7/fortranobject.h:13:\n",
      "In file included from /anaconda2/lib/python2.7/site-packages/numpy/core/include/numpy/arrayobject.h:4:\n",
      "In file included from /anaconda2/lib/python2.7/site-packages/numpy/core/include/numpy/ndarrayobject.h:18:\n",
      "In file included from /anaconda2/lib/python2.7/site-packages/numpy/core/include/numpy/ndarraytypes.h:1816:\n",
      "/anaconda2/lib/python2.7/site-packages/numpy/core/include/numpy/npy_1_7_deprecated_api.h:15:2: warning: \"Using deprecated NumPy API, disable it by \"          \"#defining NPY_NO_DEPRECATED_API NPY_1_7_API_VERSION\" [-W#warnings]\n",
      "#warning \"Using deprecated NumPy API, disable it by \" \\\n",
      " ^\n",
      "1 warning generated.\n",
      "\u001b[39mgcc: /var/folders/n4/d8fdv4ns143gxvy28jrrr1nr0000gp/T/tmpvp1V9V/src.macosx-10.6-x86_64-2.7/fortranobject.c\u001b[0m\n",
      "In file included from /var/folders/n4/d8fdv4ns143gxvy28jrrr1nr0000gp/T/tmpvp1V9V/src.macosx-10.6-x86_64-2.7/fortranobject.c:2:\n",
      "In file included from /var/folders/n4/d8fdv4ns143gxvy28jrrr1nr0000gp/T/tmpvp1V9V/src.macosx-10.6-x86_64-2.7/fortranobject.h:13:\n",
      "In file included from /anaconda2/lib/python2.7/site-packages/numpy/core/include/numpy/arrayobject.h:4:\n",
      "In file included from /anaconda2/lib/python2.7/site-packages/numpy/core/include/numpy/ndarrayobject.h:18:\n",
      "In file included from /anaconda2/lib/python2.7/site-packages/numpy/core/include/numpy/ndarraytypes.h:1816:\n",
      "/anaconda2/lib/python2.7/site-packages/numpy/core/include/numpy/npy_1_7_deprecated_api.h:15:2: warning: \"Using deprecated NumPy API, disable it by \"          \"#defining NPY_NO_DEPRECATED_API NPY_1_7_API_VERSION\" [-W#warnings]\n",
      "#warning \"Using deprecated NumPy API, disable it by \" \\\n",
      " ^\n",
      "1 warning generated.\n",
      "\u001b[39mcompiling Fortran sources\u001b[0m\n",
      "\u001b[39mFortran f77 compiler: /usr/local/bin/gfortran -Wall -g -ffixed-form -fno-second-underscore -m64 -fPIC -O3 -funroll-loops\n",
      "Fortran f90 compiler: /usr/local/bin/gfortran -Wall -g -fno-second-underscore -m64 -fPIC -O3 -funroll-loops\n",
      "Fortran fix compiler: /usr/local/bin/gfortran -Wall -g -ffixed-form -fno-second-underscore -Wall -g -fno-second-underscore -m64 -fPIC -O3 -funroll-loops\u001b[0m\n",
      "\u001b[39mcompile options: '-I/var/folders/n4/d8fdv4ns143gxvy28jrrr1nr0000gp/T/tmpvp1V9V/src.macosx-10.6-x86_64-2.7 -I/anaconda2/lib/python2.7/site-packages/numpy/core/include -I/anaconda2/include/python2.7 -c'\u001b[0m\n",
      "\u001b[39mgfortran:f77: factorial.f\u001b[0m\n",
      "\u001b[39m/usr/local/bin/gfortran -Wall -g -m64 -Wall -g -undefined dynamic_lookup -bundle /var/folders/n4/d8fdv4ns143gxvy28jrrr1nr0000gp/T/tmpvp1V9V/var/folders/n4/d8fdv4ns143gxvy28jrrr1nr0000gp/T/tmpvp1V9V/src.macosx-10.6-x86_64-2.7/factorialmodule.o /var/folders/n4/d8fdv4ns143gxvy28jrrr1nr0000gp/T/tmpvp1V9V/var/folders/n4/d8fdv4ns143gxvy28jrrr1nr0000gp/T/tmpvp1V9V/src.macosx-10.6-x86_64-2.7/fortranobject.o /var/folders/n4/d8fdv4ns143gxvy28jrrr1nr0000gp/T/tmpvp1V9V/factorial.o -L/usr/local/gfortran/lib/gcc/x86_64-apple-darwin18/8.2.0 -L/usr/local/gfortran/lib/gcc/x86_64-apple-darwin18/8.2.0/../../.. -L/usr/local/gfortran/lib/gcc/x86_64-apple-darwin18/8.2.0/../../.. -L/anaconda2/lib -lgfortran -o ./factorial.so\u001b[0m\n",
      "Removing build directory /var/folders/n4/d8fdv4ns143gxvy28jrrr1nr0000gp/T/tmpvp1V9V\n"
     ]
    }
   ],
   "source": [
    "!python -m numpy.f2py -c factorial.f -m factorial"
   ]
  },
  {
   "cell_type": "code",
   "execution_count": 11,
   "metadata": {},
   "outputs": [
    {
     "name": "stdout",
     "output_type": "stream",
     "text": [
      "0\n"
     ]
    }
   ],
   "source": [
    "import factorial as fc\n",
    "a=0\n",
    "fc.fact(5,a)\n",
    "print(a)"
   ]
  },
  {
   "cell_type": "code",
   "execution_count": null,
   "metadata": {},
   "outputs": [],
   "source": []
  },
  {
   "cell_type": "code",
   "execution_count": null,
   "metadata": {},
   "outputs": [],
   "source": []
  },
  {
   "cell_type": "markdown",
   "metadata": {},
   "source": [
    "## Including Codes"
   ]
  },
  {
   "cell_type": "code",
   "execution_count": null,
   "metadata": {},
   "outputs": [],
   "source": []
  },
  {
   "cell_type": "markdown",
   "metadata": {},
   "source": [
    "### Cython"
   ]
  },
  {
   "cell_type": "markdown",
   "metadata": {},
   "source": [
    "Python has a package called cython, which allows you to create compiled C code and call it as functions within python - this is typically done by creating pdx files with python code that gets transformed/compiled.  We'll do a simple example using the nomenclature built in Jupyter"
   ]
  },
  {
   "cell_type": "code",
   "execution_count": 1,
   "metadata": {},
   "outputs": [],
   "source": [
    "%load_ext Cython\n",
    "# Make the Cython extension available"
   ]
  },
  {
   "cell_type": "markdown",
   "metadata": {},
   "source": [
    "Here's some code for how to do this - it likely doesn't work out of the box if you didn't have a C compiler available when Jupyter was being installed (cough windows cough) "
   ]
  },
  {
   "cell_type": "code",
   "execution_count": 2,
   "metadata": {},
   "outputs": [],
   "source": [
    "#%%cython\n",
    "## Enable cython rather than python for this cell\n",
    "#\n",
    "#cdef int output = 0\n",
    "#for ind in range(100):\n",
    "#    output += ind\n",
    "#print(output)"
   ]
  },
  {
   "cell_type": "code",
   "execution_count": 3,
   "metadata": {},
   "outputs": [],
   "source": [
    "#%%cython --annotate\n",
    "## Enable cython rather than python for this cell and show the code that is created\n",
    "#\n",
    "#cdef int output = 0\n",
    "#for ind in range(100):\n",
    "#    output += ind\n",
    "#print(output)"
   ]
  },
  {
   "cell_type": "markdown",
   "metadata": {},
   "source": [
    "Here are some good cython tutorials and documentation if you want more information:\n",
    "* https://cython.readthedocs.io/en/latest/src/tutorial/cython_tutorial.html\n",
    "* https://python.g-node.org/python-summerschool-2011/_media/materials/cython/cython-slides.pdf\n",
    "* https://pythonprogramming.net/introduction-and-basics-cython-tutorial/"
   ]
  },
  {
   "cell_type": "markdown",
   "metadata": {},
   "source": [
    "# Check yourself"
   ]
  },
  {
   "cell_type": "code",
   "execution_count": null,
   "metadata": {},
   "outputs": [],
   "source": []
  },
  {
   "cell_type": "code",
   "execution_count": null,
   "metadata": {},
   "outputs": [],
   "source": []
  },
  {
   "cell_type": "code",
   "execution_count": null,
   "metadata": {},
   "outputs": [],
   "source": []
  },
  {
   "cell_type": "code",
   "execution_count": null,
   "metadata": {},
   "outputs": [],
   "source": []
  }
 ],
 "metadata": {
  "kernelspec": {
   "display_name": "Python 2",
   "language": "python",
   "name": "python2"
  },
  "language_info": {
   "codemirror_mode": {
    "name": "ipython",
    "version": 2
   },
   "file_extension": ".py",
   "mimetype": "text/x-python",
   "name": "python",
   "nbconvert_exporter": "python",
   "pygments_lexer": "ipython2",
   "version": "2.7.15"
  }
 },
 "nbformat": 4,
 "nbformat_minor": 2
}
